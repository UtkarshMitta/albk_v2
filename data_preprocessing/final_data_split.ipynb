{
 "cells": [
  {
   "cell_type": "code",
   "execution_count": 1,
   "metadata": {},
   "outputs": [],
   "source": [
    "import os\n",
    "os.environ[\"CUDA_VISIBLE_DEVICES\"] = \"0\"\n",
    "from glob import glob\n",
    "from tqdm import tqdm\n",
    "from os.path import expanduser, join, basename, dirname\n",
    "import xarray as xr\n",
    "import numpy as np\n",
    "import pandas as pd\n",
    "from joblib import Parallel, delayed\n",
    "from shutil import copy\n",
    "from sklearn.model_selection import StratifiedKFold\n",
    "import torch\n",
    "from tempfile import TemporaryDirectory\n",
    "\n",
    "from albk.data.utils import idx_to_locate\n",
    "use_disjoint_files = False\n",
    "\n",
    "\n",
    "import torch\n",
    "import torch.nn as nn\n",
    "\n",
    "from glob import glob\n",
    "from os.path import expanduser, join, basename, dirname\n",
    "import xarray as xr\n",
    "import numpy as np\n",
    "from tqdm import tqdm\n",
    "import pandas as pd\n",
    "from joblib import Parallel, delayed\n",
    "from itertools import product\n",
    "import torch\n",
    "import torch.nn as nn\n",
    "from glob import glob\n",
    "from os.path import expanduser, join, basename, dirname\n",
    "import xarray as xr\n",
    "import numpy as np\n",
    "from tqdm import tqdm\n",
    "import pandas as pd\n",
    "import matplotlib.pyplot as plt\n",
    "from joblib import Parallel, delayed\n",
    "from itertools import product\n",
    "from torch.utils.data import TensorDataset, DataLoader\n",
    "from astra.torch.models import EfficientNetClassifier,EfficientNet_B0_Weights\n",
    "from astra.torch.utils import train_fn\n",
    "\n",
    "import torchvision.models as models\n",
    "from astra.torch.metrics import accuracy_score, f1_score, precision_score, recall_score,classification_report"
   ]
  },
  {
   "cell_type": "code",
   "execution_count": 2,
   "metadata": {},
   "outputs": [],
   "source": [
    "# path='/home/rishabh.mondal/Brick-Kilns-project/albk_rishabh/tensor_data/new_dataset_delhi_9k.pt' \n",
    "# loaded_data = torch.load(path)\n",
    "# images = loaded_data['images']\n",
    "# labels = loaded_data['labels'] \n",
    "# images.shape, labels.shape"
   ]
  },
  {
   "cell_type": "code",
   "execution_count": 3,
   "metadata": {},
   "outputs": [],
   "source": [
    "# images.dtype, labels.dtype\n",
    "# labels = labels.type(torch.uint8)\n",
    "# images.dtype, labels.dtype\n"
   ]
  },
  {
   "cell_type": "code",
   "execution_count": 4,
   "metadata": {},
   "outputs": [],
   "source": [
    "# import torch\n",
    "from collections import Counter\n",
    "\n",
    "fold_data = []  # List to store data from each fold\n",
    "\n",
    "seed = 42  # Use your desired random seed\n",
    "# splitter = StratifiedKFold(n_splits=2, shuffle=True, random_state=seed)\n",
    "# # images = images / 255\n",
    "# #     # mean normalize\n",
    "# # images = (images - images.mean(dim=(0, 2, 3), keepdim=True)) / images.std(dim=(0, 2, 3), keepdim=True)\n",
    "# for fold, (train_idx, test_idx) in enumerate(splitter.split(images, labels)):\n",
    "#     X_train, X_test = images[train_idx], images[test_idx]\n",
    "#     y_train, y_test = labels[train_idx], labels[test_idx]\n",
    "\n",
    "#     # Count occurrences of each class in train and test sets\n",
    "#     train_counter = Counter(y_train.numpy())\n",
    "#     test_counter = Counter(y_test.numpy())\n",
    "#     print(train_counter)\n",
    "#     print(test_counter)\n",
    "#     print(f\"Fold {fold + 1} - Train: {train_counter}, Test: {test_counter}\")\n",
    "\n",
    "#     fold_data.append({\n",
    "#         'fold': fold + 1,\n",
    "#         'X_train': X_train,\n",
    "#         'X_test': X_test,\n",
    "#         'y_train': y_train,\n",
    "#         'y_test': y_test,\n",
    "#         'train_counter': train_counter,\n",
    "#         'test_counter': test_counter\n",
    "#     })\n"
   ]
  },
  {
   "cell_type": "code",
   "execution_count": 5,
   "metadata": {},
   "outputs": [],
   "source": [
    "# test_images = fold_data[0]['X_test']\n",
    "# test_labels = fold_data[0]['y_test']\n",
    "# print(test_images.shape, test_labels.shape)"
   ]
  },
  {
   "cell_type": "code",
   "execution_count": 6,
   "metadata": {},
   "outputs": [],
   "source": [
    "# save_path = \"/home/rishabh.mondal/Brick-Kilns-project/albk_rishabh/tensor_data_final/test_data.pt\"\n",
    "# torch.save({\n",
    "#     'images': test_images,\n",
    "#     'labels': test_labels\n",
    "# }, save_path)"
   ]
  },
  {
   "cell_type": "code",
   "execution_count": 7,
   "metadata": {},
   "outputs": [],
   "source": [
    "# train_images = fold_data[0]['X_train']\n",
    "# train_labels = fold_data[0]['y_train']\n",
    "# print(train_images.shape, train_labels.shape)"
   ]
  },
  {
   "cell_type": "code",
   "execution_count": 8,
   "metadata": {},
   "outputs": [],
   "source": [
    "# save_path = \"/home/rishabh.mondal/Brick-Kilns-project/albk_rishabh/tensor_data_final/delhi_data_4500.pt\"\n",
    "# torch.save({\n",
    "#     'images': train_images,\n",
    "#     'labels': train_labels\n",
    "# }, save_path)"
   ]
  },
  {
   "cell_type": "code",
   "execution_count": 9,
   "metadata": {},
   "outputs": [
    {
     "data": {
      "text/plain": [
       "(torch.Size([4500, 3, 224, 224]), torch.Size([4500]))"
      ]
     },
     "execution_count": 9,
     "metadata": {},
     "output_type": "execute_result"
    }
   ],
   "source": [
    "path='/home/rishabh.mondal/Brick-Kilns-project/albk_rishabh/tensor_data_final/delhi_data_4500.pt'\n",
    "loaded_data = torch.load(path)\n",
    "images45 = loaded_data['images']\n",
    "labels45 = loaded_data['labels']\n",
    "images45.shape, labels45.shape"
   ]
  },
  {
   "cell_type": "code",
   "execution_count": 64,
   "metadata": {},
   "outputs": [
    {
     "name": "stdout",
     "output_type": "stream",
     "text": [
      "Counter({0: 3184, 1: 416})\n",
      "Counter({0: 795, 1: 105})\n",
      "Fold 1 - Train: Counter({0: 3184, 1: 416}), Test: Counter({0: 795, 1: 105})\n",
      "Counter({0: 3183, 1: 417})\n",
      "Counter({0: 796, 1: 104})\n",
      "Fold 2 - Train: Counter({0: 3183, 1: 417}), Test: Counter({0: 796, 1: 104})\n",
      "Counter({0: 3183, 1: 417})\n",
      "Counter({0: 796, 1: 104})\n",
      "Fold 3 - Train: Counter({0: 3183, 1: 417}), Test: Counter({0: 796, 1: 104})\n",
      "Counter({0: 3183, 1: 417})\n",
      "Counter({0: 796, 1: 104})\n",
      "Fold 4 - Train: Counter({0: 3183, 1: 417}), Test: Counter({0: 796, 1: 104})\n",
      "Counter({0: 3183, 1: 417})\n",
      "Counter({0: 796, 1: 104})\n",
      "Fold 5 - Train: Counter({0: 3183, 1: 417}), Test: Counter({0: 796, 1: 104})\n"
     ]
    }
   ],
   "source": [
    "splitter = StratifiedKFold(n_splits=5, shuffle=True, random_state=seed)\n",
    "# images = images / 255\n",
    "#     # mean normalize\n",
    "# images = (images - images.mean(dim=(0, 2, 3), keepdim=True)) / images.std(dim=(0, 2, 3), keepdim=True)\n",
    "for fold, (train_idx, test_idx) in enumerate(splitter.split(images45, labels45)):\n",
    "    X_train, X_test = images45[train_idx], images45[test_idx]\n",
    "    y_train, y_test = labels45[train_idx], labels45[test_idx]\n",
    "\n",
    "    # Count occurrences of each class in train and test sets\n",
    "    train_counter = Counter(y_train.numpy())\n",
    "    test_counter = Counter(y_test.numpy())\n",
    "    print(train_counter)\n",
    "    print(test_counter)\n",
    "    print(f\"Fold {fold + 1} - Train: {train_counter}, Test: {test_counter}\")\n",
    "\n",
    "    fold_data.append({\n",
    "        'fold': fold + 1,\n",
    "        'X_train': X_train,\n",
    "        'X_test': X_test,\n",
    "        'y_train': y_train,\n",
    "        'y_test': y_test,\n",
    "        'train_counter': train_counter,\n",
    "        'test_counter': test_counter\n",
    "    })"
   ]
  },
  {
   "cell_type": "code",
   "execution_count": 11,
   "metadata": {},
   "outputs": [
    {
     "data": {
      "text/plain": [
       "(torch.Size([450, 3, 224, 224]), torch.Size([450]))"
      ]
     },
     "execution_count": 11,
     "metadata": {},
     "output_type": "execute_result"
    }
   ],
   "source": [
    "from sklearn.model_selection import train_test_split\n",
    "train_25_image,_,train_25_y,_ = train_test_split(images45,labels45, train_size=0.10, random_state=42, stratify=labels45)\n",
    "train_25_image.shape, train_25_y.shape"
   ]
  },
  {
   "cell_type": "code",
   "execution_count": 12,
   "metadata": {},
   "outputs": [],
   "source": [
    "save_path = \"/home/rishabh.mondal/Brick-Kilns-project/albk_rishabh/tensor_data_final/delhi_data_450.pt\"\n",
    "torch.save({\n",
    "    'images': train_25_image,\n",
    "    'labels': train_25_y\n",
    "}, save_path)"
   ]
  },
  {
   "cell_type": "code",
   "execution_count": 34,
   "metadata": {},
   "outputs": [],
   "source": [
    "# save_path = \"/home/rishabh.mondal/Brick-Kilns-project/albk_rishabh/tensor_data_final/delhi_data_2250.pt\"\n",
    "# torch.save({\n",
    "#     'images': test_images,\n",
    "#     'labels': test_labels\n",
    "# }, save_path)"
   ]
  },
  {
   "cell_type": "code",
   "execution_count": 43,
   "metadata": {},
   "outputs": [
    {
     "name": "stdout",
     "output_type": "stream",
     "text": [
      "torch.Size([2250, 3, 224, 224]) torch.Size([2250])\n"
     ]
    }
   ],
   "source": [
    "train_images = fold_data[0]['X_train']\n",
    "train_labels = fold_data[0]['y_train']\n",
    "print(train_images.shape, train_labels.shape)"
   ]
  },
  {
   "cell_type": "code",
   "execution_count": 37,
   "metadata": {},
   "outputs": [
    {
     "data": {
      "text/plain": [
       "(torch.Size([2250, 3, 224, 224]), torch.Size([2250]))"
      ]
     },
     "execution_count": 37,
     "metadata": {},
     "output_type": "execute_result"
    }
   ],
   "source": [
    "# images45 = train_images\n",
    "# labels45 = train_labels\n",
    "# images45.shape, labels45.shape"
   ]
  },
  {
   "cell_type": "code",
   "execution_count": 44,
   "metadata": {},
   "outputs": [
    {
     "name": "stdout",
     "output_type": "stream",
     "text": [
      "Counter({0: 995, 1: 130})\n",
      "Counter({0: 995, 1: 130})\n",
      "Fold 1 - Train: Counter({0: 995, 1: 130}), Test: Counter({0: 995, 1: 130})\n",
      "Counter({0: 995, 1: 130})\n",
      "Counter({0: 995, 1: 130})\n",
      "Fold 2 - Train: Counter({0: 995, 1: 130}), Test: Counter({0: 995, 1: 130})\n"
     ]
    }
   ],
   "source": [
    "splitter = StratifiedKFold(n_splits=2, shuffle=True, random_state=seed)\n",
    "# images = images / 255\n",
    "#     # mean normalize\n",
    "# images = (images - images.mean(dim=(0, 2, 3), keepdim=True)) / images.std(dim=(0, 2, 3), keepdim=True)\n",
    "for fold, (train_idx, test_idx) in enumerate(splitter.split(train_images, train_labels)):\n",
    "    X_train, X_test = train_images[train_idx], train_images[test_idx]\n",
    "    y_train, y_test = train_labels[train_idx], train_labels[test_idx]\n",
    "\n",
    "    # Count occurrences of each class in train and test sets\n",
    "    train_counter = Counter(y_train.numpy())\n",
    "    test_counter = Counter(y_test.numpy())\n",
    "    print(train_counter)\n",
    "    print(test_counter)\n",
    "    print(f\"Fold {fold + 1} - Train: {train_counter}, Test: {test_counter}\")\n",
    "\n",
    "    fold_data.append({\n",
    "        'fold': fold + 1,\n",
    "        'X_train': X_train,\n",
    "        'X_test': X_test,\n",
    "        'y_train': y_train,\n",
    "        'y_test': y_test,\n",
    "        'train_counter': train_counter,\n",
    "        'test_counter': test_counter\n",
    "    })"
   ]
  },
  {
   "cell_type": "code",
   "execution_count": 49,
   "metadata": {},
   "outputs": [
    {
     "name": "stdout",
     "output_type": "stream",
     "text": [
      "torch.Size([2250, 3, 224, 224]) torch.Size([2250])\n"
     ]
    }
   ],
   "source": [
    "images = fold_data[0]['X_train']\n",
    "labels = fold_data[0]['y_train']\n",
    "print(images.shape, labels.shape)"
   ]
  },
  {
   "cell_type": "code",
   "execution_count": 48,
   "metadata": {},
   "outputs": [
    {
     "data": {
      "text/plain": [
       "(torch.Size([2250, 3, 224, 224]), torch.Size([2250]))"
      ]
     },
     "execution_count": 48,
     "metadata": {},
     "output_type": "execute_result"
    }
   ],
   "source": [
    "images.shape, labels.shape"
   ]
  },
  {
   "cell_type": "code",
   "execution_count": null,
   "metadata": {},
   "outputs": [],
   "source": [
    "save_path = \"/home/rishabh.mondal/Brick-Kilns-project/albk_rishabh/tensor_data_final/delhi_data_.pt\"\n",
    "torch.save({\n",
    "    'images': test_images,\n",
    "    'labels': test_labels\n",
    "}, save_path)"
   ]
  }
 ],
 "metadata": {
  "kernelspec": {
   "display_name": "torch_space",
   "language": "python",
   "name": "python3"
  },
  "language_info": {
   "codemirror_mode": {
    "name": "ipython",
    "version": 3
   },
   "file_extension": ".py",
   "mimetype": "text/x-python",
   "name": "python",
   "nbconvert_exporter": "python",
   "pygments_lexer": "ipython3",
   "version": "3.11.5"
  }
 },
 "nbformat": 4,
 "nbformat_minor": 2
}
