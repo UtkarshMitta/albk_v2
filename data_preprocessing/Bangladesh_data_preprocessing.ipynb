{
 "cells": [
  {
   "cell_type": "code",
   "execution_count": 1,
   "metadata": {},
   "outputs": [],
   "source": [
    "import os\n",
    "os.environ[\"CUDA_VISIBLE_DEVICES\"] = \"0\""
   ]
  },
  {
   "cell_type": "code",
   "execution_count": 2,
   "metadata": {},
   "outputs": [],
   "source": [
    "from glob import glob\n",
    "from tqdm import tqdm\n",
    "from os.path import expanduser, join, basename, dirname\n",
    "import xarray as xr\n",
    "import numpy as np\n",
    "import pandas as pd\n",
    "from joblib import Parallel, delayed\n",
    "from shutil import copy\n",
    "from sklearn.model_selection import StratifiedKFold\n",
    "import torch\n",
    "from tempfile import TemporaryDirectory\n",
    "\n",
    "from albk.data.utils import idx_to_locate\n",
    "use_disjoint_files = False\n",
    "from torch.utils.data import TensorDataset, DataLoader\n",
    "\n",
    "\n",
    "import torch\n",
    "import torch.nn as nn\n",
    "\n",
    "from glob import glob\n",
    "from os.path import expanduser, join, basename, dirname\n",
    "import xarray as xr\n",
    "import numpy as np\n",
    "from tqdm import tqdm\n",
    "import pandas as pd\n",
    "from joblib import Parallel, delayed\n",
    "from itertools import product"
   ]
  },
  {
   "cell_type": "code",
   "execution_count": 3,
   "metadata": {},
   "outputs": [],
   "source": [
    "def get_common_label_files(path1, path2):\n",
    "    files1 = glob(join(path1, \"*.nc\"))\n",
    "    files2 = glob(join(path2, \"*.nc\"))\n",
    "    \n",
    "    f1_base_files = [basename(f) for f in files1]\n",
    "    f2_base_files = [basename(f) for f in files2]\n",
    "    \n",
    "    common_files = set(f1_base_files).intersection(f2_base_files)\n",
    "    common_label_files = []\n",
    "    for file in common_files:\n",
    "        ds1 = xr.open_dataset(join(path1, file))\n",
    "        ds2 = xr.open_dataset(join(path2, file))\n",
    "        if np.all(ds1.label.values == ds2.label.values):\n",
    "            common_label_files.append(file)\n",
    "    \n",
    "    return list(map(lambda f: join(path1, f), common_label_files))\n",
    "\n",
    "def get_disjoint_files(path1, path2):\n",
    "    files1 = glob(join(path1, \"*.nc\"))\n",
    "    files2 = glob(join(path2, \"*.nc\"))\n",
    "    \n",
    "    f1_base_files = [basename(f) for f in files1]\n",
    "    f2_base_files = [basename(f) for f in files2]\n",
    "    \n",
    "    disjoint_files = set(f1_base_files).symmetric_difference(f2_base_files)\n",
    "    \n",
    "    f1_disjoint = [f for f in disjoint_files if f in f1_base_files]\n",
    "    f1_disjoint = list(map(lambda f: join(path1, f), f1_disjoint))\n",
    "\n",
    "    f2_disjoint = [f for f in disjoint_files if f in f2_base_files]\n",
    "    f2_disjoint = list(map(lambda f: join(path2, f), f2_disjoint))\n",
    "    \n",
    "    return f1_disjoint + f2_disjoint"
   ]
  },
  {
   "cell_type": "code",
   "execution_count": 4,
   "metadata": {},
   "outputs": [
    {
     "name": "stdout",
     "output_type": "stream",
     "text": [
      "Moderator zeel\n",
      "      Moderator files 88\n",
      "      Common label files 359\n",
      "      Disjoint files 662\n",
      "      Total files from zeel and ('vannsh', 'rishabh') 447\n",
      "      Total annotatated files 447\n",
      "Moderator rishabh\n",
      "      Moderator files 98\n",
      "      Common label files 115\n",
      "      Disjoint files 736\n",
      "      Total files from rishabh and ('suraj', 'dhruv') 213\n",
      "      Total annotatated files 660\n",
      "Moderator suraj\n",
      "      Moderator files 195\n",
      "      Common label files 165\n",
      "      Disjoint files 746\n",
      "      Total files from suraj and ('aditi', 'madhav') 360\n",
      "      Total annotatated files 1020\n",
      "Total dataset size 25500\n"
     ]
    }
   ],
   "source": [
    "base_path = expanduser(\"~/bangladesh_labels/bkdb/bangladesh_labels\")\n",
    "paths = {\"zeel\": (\"vannsh\", \"rishabh\"), \"rishabh\": (\"suraj\", \"dhruv\"), \"suraj\": (\"aditi\", \"madhav\")}\n",
    "\n",
    "all_labeled_files = []\n",
    "for moderator, annotators in paths.items():\n",
    "    # Get moderator files\n",
    "    moderator_path = join(base_path, \"moderated\", moderator)\n",
    "    moderator_files = glob(join(moderator_path, \"*.nc\"))\n",
    "    \n",
    "    # Get annotator common label files\n",
    "    annotator1_path = join(base_path, annotators[0])\n",
    "    annotator2_path = join(base_path, annotators[1])\n",
    "    \n",
    "    common_base_files = get_common_label_files(annotator1_path, annotator2_path)\n",
    "    \n",
    "    # Get disjoint files\n",
    "    disjoint_files = get_disjoint_files(annotator1_path, annotator2_path)\n",
    "    \n",
    "    all_files = moderator_files + common_base_files\n",
    "    if use_disjoint_files:\n",
    "        all_files.extend(disjoint_files)\n",
    "    assert len(all_files) == len(set(all_files))\n",
    "    all_labeled_files.extend(all_files)\n",
    "    \n",
    "    print(\"Moderator\", moderator)\n",
    "    print(\" \"*5, \"Moderator files\", len(moderator_files))\n",
    "    print(\" \"*5, \"Common label files\", len(common_base_files))\n",
    "    print(\" \"*5, \"Disjoint files\", len(disjoint_files))\n",
    "    print(\" \"*5, f\"Total files from {moderator} and {annotators}\", len(all_files))\n",
    "    print(\" \"*5, \"Total annotatated files\", len(all_labeled_files))\n",
    "    \n",
    "print(\"Total dataset size\", len(all_labeled_files) * 25)"
   ]
  },
  {
   "cell_type": "code",
   "execution_count": 5,
   "metadata": {},
   "outputs": [
    {
     "name": "stdout",
     "output_type": "stream",
     "text": [
      "['/home/rishabh.mondal/bangladesh_labels/bkdb/bangladesh_labels/moderated/zeel/24.90,90.77.nc', '/home/rishabh.mondal/bangladesh_labels/bkdb/bangladesh_labels/moderated/zeel/24.58,91.69.nc', '/home/rishabh.mondal/bangladesh_labels/bkdb/bangladesh_labels/moderated/zeel/24.44,90.83.nc', '/home/rishabh.mondal/bangladesh_labels/bkdb/bangladesh_labels/moderated/zeel/24.63,88.25.nc', '/home/rishabh.mondal/bangladesh_labels/bkdb/bangladesh_labels/moderated/zeel/24.99,89.79.nc']\n"
     ]
    }
   ],
   "source": [
    "print(all_labeled_files[:5])\n"
   ]
  },
  {
   "cell_type": "code",
   "execution_count": 6,
   "metadata": {},
   "outputs": [
    {
     "name": "stdout",
     "output_type": "stream",
     "text": [
      "Total ZicZac Brick Kilns 1285\n",
      "Total Fixed Chimney Brick Kilns 412\n",
      "All Brick Kilns 1697\n",
      "All Non-brick Kilns 23803\n"
     ]
    }
   ],
   "source": [
    "def get_bk_stats(path):\n",
    "    ds = xr.open_dataset(path)\n",
    "    z = (ds.label.values == \"Z\").sum()\n",
    "    f = (ds.label.values == \"F\").sum()\n",
    "    o = (ds.label.values == \"O\").sum()\n",
    "    return {\"Z\": z, \"F\": f, \"O\": o}\n",
    "\n",
    "df = pd.DataFrame([get_bk_stats(path) for path in all_labeled_files])\n",
    "\n",
    "df_sum = df.sum(axis=0)\n",
    "print(\"Total ZicZac Brick Kilns\", df_sum[\"Z\"])\n",
    "print(\"Total Fixed Chimney Brick Kilns\", df_sum[\"F\"])\n",
    "print(\"All Brick Kilns\", df_sum[\"Z\"] + df_sum[\"F\"])\n",
    "print(\"All Non-brick Kilns\", df_sum[\"O\"])"
   ]
  },
  {
   "cell_type": "code",
   "execution_count": 7,
   "metadata": {},
   "outputs": [],
   "source": [
    "# save_path = expanduser(\"/home/rishabh.mondal/Brick-Kilns-project/albk_rishabh/bangladesh_labels/\")\n",
    "# os.system(f\"rm -rf {save_path}\")\n",
    "# os.makedirs(save_path)\n",
    "\n",
    "# def copy_file(path):\n",
    "#     copy(path, save_path)\n",
    "    \n",
    "# _ = Parallel(n_jobs=20)(delayed(copy_file)(path) for path in tqdm(all_labeled_files))\n",
    "\n"
   ]
  },
  {
   "cell_type": "code",
   "execution_count": 8,
   "metadata": {},
   "outputs": [
    {
     "name": "stdout",
     "output_type": "stream",
     "text": [
      "1020\n"
     ]
    }
   ],
   "source": [
    "images_path = expanduser(\"/home/patel_zeel/bkdb/bangladesh/\")\n",
    "# load_path = \"/home/rishabh.mondal/Brick-Kilns-project/albk_rishabh/temporary\"\n",
    "files = all_labeled_files\n",
    "# print(files)\n",
    "print(len(files))\n",
    "\n"
   ]
  },
  {
   "cell_type": "code",
   "execution_count": 9,
   "metadata": {},
   "outputs": [
    {
     "name": "stderr",
     "output_type": "stream",
     "text": [
      "  3%|▎         | 32/1020 [00:00<00:15, 65.25it/s]"
     ]
    },
    {
     "name": "stdout",
     "output_type": "stream",
     "text": [
      "/home/patel_zeel/bkdb/bangladesh/24.44,90.83.zarr\n",
      "/home/patel_zeel/bkdb/bangladesh/25.55,89.29.zarr\n",
      "/home/patel_zeel/bkdb/bangladesh/24.63,88.25.zarr\n",
      "/home/patel_zeel/bkdb/bangladesh/24.99,89.79.zarr\n",
      "/home/patel_zeel/bkdb/bangladesh/24.46,89.98.zarr\n",
      "/home/patel_zeel/bkdb/bangladesh/24.91,90.81.zarr\n",
      "/home/patel_zeel/bkdb/bangladesh/24.58,91.69.zarr\n",
      "/home/patel_zeel/bkdb/bangladesh/25.12,89.41.zarr\n",
      "/home/patel_zeel/bkdb/bangladesh/24.72,89.58.zarr\n",
      "/home/patel_zeel/bkdb/bangladesh/24.91,89.38.zarr\n",
      "/home/patel_zeel/bkdb/bangladesh/24.54,88.84.zarr\n",
      "/home/patel_zeel/bkdb/bangladesh/24.45,90.82.zarr\n",
      "/home/patel_zeel/bkdb/bangladesh/25.78,89.31.zarr\n",
      "/home/patel_zeel/bkdb/bangladesh/24.90,90.77.zarr\n",
      "/home/patel_zeel/bkdb/bangladesh/24.60,90.43.zarr\n",
      "/home/patel_zeel/bkdb/bangladesh/24.58,90.01.zarr\n",
      "/home/patel_zeel/bkdb/bangladesh/24.66,88.26.zarr\n",
      "/home/patel_zeel/bkdb/bangladesh/24.77,89.90.zarr\n",
      "/home/patel_zeel/bkdb/bangladesh/24.93,90.37.zarr\n",
      "/home/patel_zeel/bkdb/bangladesh/24.85,91.73.zarr\n",
      "/home/patel_zeel/bkdb/bangladesh/25.28,89.39.zarr\n",
      "/home/patel_zeel/bkdb/bangladesh/25.30,89.54.zarr\n",
      "/home/patel_zeel/bkdb/bangladesh/25.57,88.99.zarr\n",
      "/home/patel_zeel/bkdb/bangladesh/25.70,89.08.zarr\n",
      "/home/patel_zeel/bkdb/bangladesh/24.62,88.25.zarr\n",
      "/home/patel_zeel/bkdb/bangladesh/25.03,90.01.zarr\n",
      "/home/patel_zeel/bkdb/bangladesh/24.59,89.46.zarr\n"
     ]
    },
    {
     "name": "stderr",
     "output_type": "stream",
     "text": [
      "  6%|▋         | 64/1020 [00:02<00:36, 25.88it/s]"
     ]
    },
    {
     "name": "stdout",
     "output_type": "stream",
     "text": [
      "/home/patel_zeel/bkdb/bangladesh/24.63,90.29.zarr\n",
      "/home/patel_zeel/bkdb/bangladesh/24.56,89.56.zarr\n",
      "/home/patel_zeel/bkdb/bangladesh/24.92,89.97.zarr\n",
      "/home/patel_zeel/bkdb/bangladesh/25.79,89.04.zarr\n",
      "/home/patel_zeel/bkdb/bangladesh/24.78,89.40.zarr\n",
      "/home/patel_zeel/bkdb/bangladesh/25.48,89.53.zarr\n",
      "/home/patel_zeel/bkdb/bangladesh/24.52,88.23.zarr\n",
      "/home/patel_zeel/bkdb/bangladesh/25.98,89.44.zarr\n",
      "/home/patel_zeel/bkdb/bangladesh/24.92,89.79.zarr\n",
      "/home/patel_zeel/bkdb/bangladesh/24.98,89.84.zarr\n",
      "/home/patel_zeel/bkdb/bangladesh/25.65,89.40.zarr\n",
      "/home/patel_zeel/bkdb/bangladesh/24.76,88.68.zarr\n",
      "/home/patel_zeel/bkdb/bangladesh/24.44,90.67.zarr\n",
      "/home/patel_zeel/bkdb/bangladesh/25.63,89.63.zarr\n",
      "/home/patel_zeel/bkdb/bangladesh/25.05,89.37.zarr\n",
      "/home/patel_zeel/bkdb/bangladesh/25.77,88.84.zarr\n",
      "/home/patel_zeel/bkdb/bangladesh/26.33,89.01.zarr\n",
      "/home/patel_zeel/bkdb/bangladesh/25.07,90.88.zarr\n",
      "/home/patel_zeel/bkdb/bangladesh/25.55,88.99.zarr\n",
      "/home/patel_zeel/bkdb/bangladesh/25.41,89.41.zarr\n"
     ]
    },
    {
     "name": "stderr",
     "output_type": "stream",
     "text": [
      "  9%|▉         | 96/1020 [00:02<00:26, 35.52it/s]"
     ]
    },
    {
     "name": "stdout",
     "output_type": "stream",
     "text": [
      "/home/patel_zeel/bkdb/bangladesh/25.77,89.32.zarr\n",
      "/home/patel_zeel/bkdb/bangladesh/24.68,89.98.zarr\n",
      "/home/patel_zeel/bkdb/bangladesh/24.52,88.87.zarr\n",
      "/home/patel_zeel/bkdb/bangladesh/24.56,89.55.zarr\n",
      "/home/patel_zeel/bkdb/bangladesh/25.70,89.07.zarr\n",
      "/home/patel_zeel/bkdb/bangladesh/24.73,90.19.zarr\n",
      "/home/patel_zeel/bkdb/bangladesh/26.10,89.68.zarr\n",
      "/home/patel_zeel/bkdb/bangladesh/25.93,88.72.zarr\n",
      "/home/patel_zeel/bkdb/bangladesh/25.92,89.48.zarr\n",
      "/home/patel_zeel/bkdb/bangladesh/25.69,88.76.zarr\n",
      "/home/patel_zeel/bkdb/bangladesh/24.85,91.72.zarr\n",
      "/home/patel_zeel/bkdb/bangladesh/24.45,90.46.zarr\n",
      "/home/patel_zeel/bkdb/bangladesh/25.90,88.65.zarr\n",
      "/home/patel_zeel/bkdb/bangladesh/24.88,89.00.zarr\n",
      "/home/patel_zeel/bkdb/bangladesh/25.69,89.08.zarr\n",
      "/home/patel_zeel/bkdb/bangladesh/24.71,88.30.zarr\n",
      "/home/patel_zeel/bkdb/bangladesh/25.70,89.20.zarr\n",
      "/home/patel_zeel/bkdb/bangladesh/24.89,91.01.zarr\n",
      "/home/patel_zeel/bkdb/bangladesh/25.86,88.90.zarr\n",
      "/home/patel_zeel/bkdb/bangladesh/25.04,90.02.zarr\n",
      "/home/patel_zeel/bkdb/bangladesh/24.46,90.08.zarr\n",
      "/home/patel_zeel/bkdb/bangladesh/24.65,88.22.zarr\n",
      "/home/patel_zeel/bkdb/bangladesh/25.91,88.27.zarr\n",
      "/home/patel_zeel/bkdb/bangladesh/24.64,91.71.zarr\n",
      "/home/patel_zeel/bkdb/bangladesh/24.95,89.47.zarr\n",
      "/home/patel_zeel/bkdb/bangladesh/25.65,89.26.zarr\n",
      "/home/patel_zeel/bkdb/bangladesh/24.95,88.90.zarr\n",
      "/home/patel_zeel/bkdb/bangladesh/24.55,88.27.zarr\n",
      "/home/patel_zeel/bkdb/bangladesh/26.06,88.31.zarr\n",
      "/home/patel_zeel/bkdb/bangladesh/25.29,89.39.zarr\n",
      "/home/patel_zeel/bkdb/bangladesh/24.73,90.38.zarr\n",
      "/home/patel_zeel/bkdb/bangladesh/26.13,88.45.zarr\n",
      "/home/patel_zeel/bkdb/bangladesh/24.91,90.79.zarr\n",
      "/home/patel_zeel/bkdb/bangladesh/25.37,89.46.zarr\n",
      "/home/patel_zeel/bkdb/bangladesh/25.51,89.13.zarr\n",
      "/home/patel_zeel/bkdb/bangladesh/24.54,90.42.zarr\n",
      "/home/patel_zeel/bkdb/bangladesh/25.35,89.47.zarr\n",
      "/home/patel_zeel/bkdb/bangladesh/25.91,88.26.zarr\n",
      "/home/patel_zeel/bkdb/bangladesh/25.48,89.16.zarr\n",
      "/home/patel_zeel/bkdb/bangladesh/25.64,89.00.zarr\n",
      "/home/patel_zeel/bkdb/bangladesh/25.67,89.18.zarr\n",
      "/home/patel_zeel/bkdb/bangladesh/25.12,90.68.zarr\n",
      "/home/patel_zeel/bkdb/bangladesh/25.05,89.40.zarr\n",
      "/home/patel_zeel/bkdb/bangladesh/25.09,89.36.zarr\n",
      "/home/patel_zeel/bkdb/bangladesh/26.15,88.80.zarr\n",
      "/home/patel_zeel/bkdb/bangladesh/25.02,88.98.zarr\n",
      "/home/patel_zeel/bkdb/bangladesh/25.67,89.02.zarr\n",
      "/home/patel_zeel/bkdb/bangladesh/24.90,89.79.zarr\n"
     ]
    },
    {
     "name": "stderr",
     "output_type": "stream",
     "text": [
      " 13%|█▎        | 128/1020 [00:03<00:20, 43.32it/s]"
     ]
    },
    {
     "name": "stdout",
     "output_type": "stream",
     "text": [
      "/home/patel_zeel/bkdb/bangladesh/25.04,89.04.zarr\n",
      "/home/patel_zeel/bkdb/bangladesh/24.65,90.40.zarr\n",
      "/home/patel_zeel/bkdb/bangladesh/25.17,88.76.zarr\n",
      "/home/patel_zeel/bkdb/bangladesh/25.62,89.40.zarr\n",
      "/home/patel_zeel/bkdb/bangladesh/25.64,88.61.zarr\n",
      "/home/patel_zeel/bkdb/bangladesh/24.51,90.58.zarr\n",
      "/home/patel_zeel/bkdb/bangladesh/24.93,89.87.zarr\n",
      "/home/patel_zeel/bkdb/bangladesh/24.45,89.05.zarr\n",
      "/home/patel_zeel/bkdb/bangladesh/25.80,89.22.zarr\n",
      "/home/patel_zeel/bkdb/bangladesh/25.09,89.00.zarr\n",
      "/home/patel_zeel/bkdb/bangladesh/25.01,88.75.zarr\n",
      "/home/patel_zeel/bkdb/bangladesh/24.92,90.59.zarr\n",
      "/home/patel_zeel/bkdb/bangladesh/26.10,89.70.zarr\n",
      "/home/patel_zeel/bkdb/bangladesh/25.55,89.30.zarr\n",
      "/home/patel_zeel/bkdb/bangladesh/25.34,89.46.zarr\n",
      "/home/patel_zeel/bkdb/bangladesh/25.40,89.57.zarr\n",
      "/home/patel_zeel/bkdb/bangladesh/24.53,88.74.zarr\n",
      "/home/patel_zeel/bkdb/bangladesh/26.16,88.51.zarr\n",
      "/home/patel_zeel/bkdb/bangladesh/24.96,90.20.zarr\n",
      "/home/patel_zeel/bkdb/bangladesh/26.10,88.67.zarr\n",
      "/home/patel_zeel/bkdb/bangladesh/24.58,90.50.zarr\n",
      "/home/patel_zeel/bkdb/bangladesh/25.34,89.47.zarr\n",
      "/home/patel_zeel/bkdb/bangladesh/24.67,88.92.zarr\n",
      "/home/patel_zeel/bkdb/bangladesh/24.70,90.98.zarr\n",
      "/home/patel_zeel/bkdb/bangladesh/25.44,89.36.zarr\n",
      "/home/patel_zeel/bkdb/bangladesh/25.85,88.38.zarr\n",
      "/home/patel_zeel/bkdb/bangladesh/24.92,89.74.zarr\n",
      "/home/patel_zeel/bkdb/bangladesh/25.61,88.83.zarr\n",
      "/home/patel_zeel/bkdb/bangladesh/24.96,90.40.zarr\n",
      "/home/patel_zeel/bkdb/bangladesh/24.61,88.98.zarr\n",
      "/home/patel_zeel/bkdb/bangladesh/24.92,90.37.zarr\n",
      "/home/patel_zeel/bkdb/bangladesh/25.68,89.07.zarr\n"
     ]
    },
    {
     "name": "stderr",
     "output_type": "stream",
     "text": [
      " 16%|█▌        | 160/1020 [00:03<00:16, 50.90it/s]"
     ]
    },
    {
     "name": "stdout",
     "output_type": "stream",
     "text": [
      "/home/patel_zeel/bkdb/bangladesh/24.64,90.43.zarr\n",
      "/home/patel_zeel/bkdb/bangladesh/25.87,88.46.zarr\n",
      "/home/patel_zeel/bkdb/bangladesh/26.20,88.84.zarr\n",
      "/home/patel_zeel/bkdb/bangladesh/26.09,88.33.zarr\n",
      "/home/patel_zeel/bkdb/bangladesh/25.73,89.14.zarr\n",
      "/home/patel_zeel/bkdb/bangladesh/25.34,89.28.zarr\n",
      "/home/patel_zeel/bkdb/bangladesh/25.41,89.20.zarr\n",
      "/home/patel_zeel/bkdb/bangladesh/25.77,89.31.zarr\n",
      "/home/patel_zeel/bkdb/bangladesh/25.52,89.30.zarr\n",
      "/home/patel_zeel/bkdb/bangladesh/25.16,89.04.zarr\n",
      "/home/patel_zeel/bkdb/bangladesh/24.83,88.95.zarr\n",
      "/home/patel_zeel/bkdb/bangladesh/25.79,88.96.zarr\n",
      "/home/patel_zeel/bkdb/bangladesh/25.82,88.63.zarr\n",
      "/home/patel_zeel/bkdb/bangladesh/24.50,90.07.zarr\n",
      "/home/patel_zeel/bkdb/bangladesh/24.71,89.94.zarr\n",
      "/home/patel_zeel/bkdb/bangladesh/24.53,90.43.zarr\n",
      "/home/patel_zeel/bkdb/bangladesh/26.17,88.63.zarr\n",
      "/home/patel_zeel/bkdb/bangladesh/24.74,90.49.zarr\n",
      "/home/patel_zeel/bkdb/bangladesh/24.65,88.88.zarr\n",
      "/home/patel_zeel/bkdb/bangladesh/25.01,91.86.zarr\n",
      "/home/patel_zeel/bkdb/bangladesh/25.26,89.32.zarr\n",
      "/home/patel_zeel/bkdb/bangladesh/24.66,90.60.zarr\n",
      "/home/patel_zeel/bkdb/bangladesh/25.24,89.36.zarr\n",
      "/home/patel_zeel/bkdb/bangladesh/25.12,90.69.zarr\n",
      "/home/patel_zeel/bkdb/bangladesh/25.49,89.82.zarr\n",
      "/home/patel_zeel/bkdb/bangladesh/25.95,89.53.zarr\n",
      "/home/patel_zeel/bkdb/bangladesh/24.53,89.51.zarr\n",
      "/home/patel_zeel/bkdb/bangladesh/24.47,88.88.zarr\n",
      "/home/patel_zeel/bkdb/bangladesh/25.75,89.65.zarr\n",
      "/home/patel_zeel/bkdb/bangladesh/24.64,89.53.zarr\n"
     ]
    },
    {
     "name": "stderr",
     "output_type": "stream",
     "text": [
      " 19%|█▉        | 192/1020 [00:04<00:14, 56.41it/s]"
     ]
    },
    {
     "name": "stdout",
     "output_type": "stream",
     "text": [
      "/home/patel_zeel/bkdb/bangladesh/24.78,90.84.zarr\n",
      "/home/patel_zeel/bkdb/bangladesh/24.71,89.95.zarr\n",
      "/home/patel_zeel/bkdb/bangladesh/24.72,90.37.zarr\n",
      "/home/patel_zeel/bkdb/bangladesh/25.44,89.07.zarr\n",
      "/home/patel_zeel/bkdb/bangladesh/25.90,88.64.zarr\n",
      "/home/patel_zeel/bkdb/bangladesh/24.53,88.85.zarr\n",
      "/home/patel_zeel/bkdb/bangladesh/24.52,88.31.zarr\n",
      "/home/patel_zeel/bkdb/bangladesh/25.99,89.68.zarr\n",
      "/home/patel_zeel/bkdb/bangladesh/25.43,89.31.zarr\n",
      "/home/patel_zeel/bkdb/bangladesh/25.15,89.40.zarr\n",
      "/home/patel_zeel/bkdb/bangladesh/24.87,89.96.zarr\n",
      "/home/patel_zeel/bkdb/bangladesh/24.48,90.09.zarr\n",
      "/home/patel_zeel/bkdb/bangladesh/24.98,91.86.zarr\n",
      "/home/patel_zeel/bkdb/bangladesh/25.96,89.64.zarr\n",
      "/home/patel_zeel/bkdb/bangladesh/25.64,89.39.zarr\n",
      "/home/patel_zeel/bkdb/bangladesh/25.65,89.05.zarr\n",
      "/home/patel_zeel/bkdb/bangladesh/25.30,89.51.zarr\n",
      "/home/patel_zeel/bkdb/bangladesh/24.73,90.91.zarr\n",
      "/home/patel_zeel/bkdb/bangladesh/25.46,89.52.zarr\n",
      "/home/patel_zeel/bkdb/bangladesh/24.75,90.55.zarr\n",
      "/home/patel_zeel/bkdb/bangladesh/25.68,88.70.zarr\n",
      "/home/patel_zeel/bkdb/bangladesh/24.95,89.42.zarr\n",
      "/home/patel_zeel/bkdb/bangladesh/25.10,91.99.zarr\n",
      "/home/patel_zeel/bkdb/bangladesh/24.45,90.47.zarr\n",
      "/home/patel_zeel/bkdb/bangladesh/26.37,89.03.zarr\n",
      "/home/patel_zeel/bkdb/bangladesh/24.78,90.83.zarr\n",
      "/home/patel_zeel/bkdb/bangladesh/24.77,89.40.zarr\n",
      "/home/patel_zeel/bkdb/bangladesh/24.86,91.69.zarr\n",
      "/home/patel_zeel/bkdb/bangladesh/25.26,89.55.zarr\n",
      "/home/patel_zeel/bkdb/bangladesh/25.91,88.82.zarr\n"
     ]
    },
    {
     "name": "stderr",
     "output_type": "stream",
     "text": [
      " 22%|██▏       | 224/1020 [00:04<00:13, 60.33it/s]"
     ]
    },
    {
     "name": "stdout",
     "output_type": "stream",
     "text": [
      "/home/patel_zeel/bkdb/bangladesh/25.99,88.44.zarr\n",
      "/home/patel_zeel/bkdb/bangladesh/25.96,88.28.zarr\n",
      "/home/patel_zeel/bkdb/bangladesh/25.35,89.51.zarr\n",
      "/home/patel_zeel/bkdb/bangladesh/24.80,90.27.zarr\n",
      "/home/patel_zeel/bkdb/bangladesh/25.93,89.47.zarr\n",
      "/home/patel_zeel/bkdb/bangladesh/25.31,89.55.zarr\n",
      "/home/patel_zeel/bkdb/bangladesh/26.33,89.02.zarr\n",
      "/home/patel_zeel/bkdb/bangladesh/25.10,89.39.zarr\n",
      "/home/patel_zeel/bkdb/bangladesh/24.66,89.53.zarr\n",
      "/home/patel_zeel/bkdb/bangladesh/25.61,89.13.zarr\n",
      "/home/patel_zeel/bkdb/bangladesh/24.46,89.47.zarr\n",
      "/home/patel_zeel/bkdb/bangladesh/24.81,89.40.zarr\n",
      "/home/patel_zeel/bkdb/bangladesh/25.02,91.83.zarr\n",
      "/home/patel_zeel/bkdb/bangladesh/26.02,88.49.zarr\n",
      "/home/patel_zeel/bkdb/bangladesh/24.80,90.26.zarr\n",
      "/home/patel_zeel/bkdb/bangladesh/24.69,88.30.zarr\n",
      "/home/patel_zeel/bkdb/bangladesh/25.00,88.96.zarr\n",
      "/home/patel_zeel/bkdb/bangladesh/25.62,89.85.zarr\n",
      "/home/patel_zeel/bkdb/bangladesh/24.96,89.43.zarr\n",
      "/home/patel_zeel/bkdb/bangladesh/24.83,90.20.zarr\n",
      "/home/patel_zeel/bkdb/bangladesh/26.07,89.22.zarr\n",
      "/home/patel_zeel/bkdb/bangladesh/25.63,88.89.zarr\n",
      "/home/patel_zeel/bkdb/bangladesh/25.46,89.29.zarr\n",
      "/home/patel_zeel/bkdb/bangladesh/24.52,90.57.zarr\n",
      "/home/patel_zeel/bkdb/bangladesh/25.67,88.96.zarr\n",
      "/home/patel_zeel/bkdb/bangladesh/25.66,89.47.zarr\n",
      "/home/patel_zeel/bkdb/bangladesh/25.91,89.41.zarr\n",
      "/home/patel_zeel/bkdb/bangladesh/24.74,88.29.zarr\n",
      "/home/patel_zeel/bkdb/bangladesh/24.89,89.97.zarr\n"
     ]
    },
    {
     "name": "stderr",
     "output_type": "stream",
     "text": [
      " 25%|██▌       | 256/1020 [00:05<00:11, 63.73it/s]"
     ]
    },
    {
     "name": "stdout",
     "output_type": "stream",
     "text": [
      "/home/patel_zeel/bkdb/bangladesh/24.56,90.31.zarr\n",
      "/home/patel_zeel/bkdb/bangladesh/25.55,89.23.zarr\n",
      "/home/patel_zeel/bkdb/bangladesh/26.15,89.14.zarr\n",
      "/home/patel_zeel/bkdb/bangladesh/25.12,89.55.zarr\n",
      "/home/patel_zeel/bkdb/bangladesh/25.06,90.03.zarr\n",
      "/home/patel_zeel/bkdb/bangladesh/25.36,88.99.zarr\n",
      "/home/patel_zeel/bkdb/bangladesh/25.61,89.25.zarr\n",
      "/home/patel_zeel/bkdb/bangladesh/25.43,89.82.zarr\n",
      "/home/patel_zeel/bkdb/bangladesh/24.91,92.46.zarr\n",
      "/home/patel_zeel/bkdb/bangladesh/25.66,89.63.zarr\n",
      "/home/patel_zeel/bkdb/bangladesh/24.49,90.76.zarr\n",
      "/home/patel_zeel/bkdb/bangladesh/25.13,89.46.zarr\n",
      "/home/patel_zeel/bkdb/bangladesh/24.86,88.87.zarr\n",
      "/home/patel_zeel/bkdb/bangladesh/24.59,90.48.zarr\n",
      "/home/patel_zeel/bkdb/bangladesh/25.12,89.39.zarr\n",
      "/home/patel_zeel/bkdb/bangladesh/25.23,89.37.zarr\n",
      "/home/patel_zeel/bkdb/bangladesh/24.76,90.23.zarr\n",
      "/home/patel_zeel/bkdb/bangladesh/24.48,89.91.zarr\n",
      "/home/patel_zeel/bkdb/bangladesh/25.21,89.55.zarr\n",
      "/home/patel_zeel/bkdb/bangladesh/25.88,88.67.zarr\n",
      "/home/patel_zeel/bkdb/bangladesh/25.31,89.59.zarr\n",
      "/home/patel_zeel/bkdb/bangladesh/25.14,89.92.zarr\n",
      "/home/patel_zeel/bkdb/bangladesh/25.67,89.01.zarr\n",
      "/home/patel_zeel/bkdb/bangladesh/25.66,89.36.zarr\n",
      "/home/patel_zeel/bkdb/bangladesh/24.45,89.99.zarr\n",
      "/home/patel_zeel/bkdb/bangladesh/25.82,88.45.zarr\n",
      "/home/patel_zeel/bkdb/bangladesh/24.54,89.54.zarr\n",
      "/home/patel_zeel/bkdb/bangladesh/24.65,88.72.zarr\n"
     ]
    },
    {
     "name": "stderr",
     "output_type": "stream",
     "text": [
      " 28%|██▊       | 288/1020 [00:05<00:12, 59.12it/s]"
     ]
    },
    {
     "name": "stdout",
     "output_type": "stream",
     "text": [
      "/home/patel_zeel/bkdb/bangladesh/25.07,88.93.zarr\n",
      "/home/patel_zeel/bkdb/bangladesh/24.74,88.32.zarr\n",
      "/home/patel_zeel/bkdb/bangladesh/24.86,91.37.zarr\n",
      "/home/patel_zeel/bkdb/bangladesh/24.50,90.39.zarr\n",
      "/home/patel_zeel/bkdb/bangladesh/25.55,89.48.zarr\n",
      "/home/patel_zeel/bkdb/bangladesh/25.50,89.54.zarr\n",
      "/home/patel_zeel/bkdb/bangladesh/24.68,90.83.zarr\n",
      "/home/patel_zeel/bkdb/bangladesh/24.63,89.96.zarr\n",
      "/home/patel_zeel/bkdb/bangladesh/25.64,89.01.zarr\n",
      "/home/patel_zeel/bkdb/bangladesh/25.78,88.92.zarr\n",
      "/home/patel_zeel/bkdb/bangladesh/26.22,88.55.zarr\n",
      "/home/patel_zeel/bkdb/bangladesh/24.90,92.20.zarr\n",
      "/home/patel_zeel/bkdb/bangladesh/25.59,89.28.zarr\n",
      "/home/patel_zeel/bkdb/bangladesh/24.66,90.72.zarr\n",
      "/home/patel_zeel/bkdb/bangladesh/24.60,90.42.zarr\n",
      "/home/patel_zeel/bkdb/bangladesh/25.18,89.38.zarr\n",
      "/home/patel_zeel/bkdb/bangladesh/24.59,89.45.zarr\n",
      "/home/patel_zeel/bkdb/bangladesh/26.04,88.66.zarr\n",
      "/home/patel_zeel/bkdb/bangladesh/24.55,88.21.zarr\n",
      "/home/patel_zeel/bkdb/bangladesh/24.72,90.39.zarr\n",
      "/home/patel_zeel/bkdb/bangladesh/24.71,90.34.zarr\n",
      "/home/patel_zeel/bkdb/bangladesh/24.48,89.09.zarr\n",
      "/home/patel_zeel/bkdb/bangladesh/25.66,89.37.zarr\n",
      "/home/patel_zeel/bkdb/bangladesh/25.16,89.35.zarr\n",
      "/home/patel_zeel/bkdb/bangladesh/24.87,89.19.zarr\n",
      "/home/patel_zeel/bkdb/bangladesh/24.59,90.06.zarr\n",
      "/home/patel_zeel/bkdb/bangladesh/25.28,89.55.zarr\n",
      "/home/patel_zeel/bkdb/bangladesh/24.75,88.71.zarr\n",
      "/home/patel_zeel/bkdb/bangladesh/25.66,88.77.zarr\n",
      "/home/patel_zeel/bkdb/bangladesh/25.30,89.44.zarr\n",
      "/home/patel_zeel/bkdb/bangladesh/24.92,92.38.zarr\n",
      "/home/patel_zeel/bkdb/bangladesh/25.80,88.97.zarr\n",
      "/home/patel_zeel/bkdb/bangladesh/25.49,89.12.zarr\n",
      "/home/patel_zeel/bkdb/bangladesh/24.88,89.47.zarr\n",
      "/home/patel_zeel/bkdb/bangladesh/24.90,92.19.zarr\n",
      "/home/patel_zeel/bkdb/bangladesh/26.07,89.68.zarr\n",
      "/home/patel_zeel/bkdb/bangladesh/25.03,89.37.zarr\n",
      "/home/patel_zeel/bkdb/bangladesh/24.81,92.19.zarr\n",
      "/home/patel_zeel/bkdb/bangladesh/24.73,89.52.zarr\n",
      "/home/patel_zeel/bkdb/bangladesh/24.47,90.43.zarr\n",
      "/home/patel_zeel/bkdb/bangladesh/26.03,88.66.zarr\n",
      "/home/patel_zeel/bkdb/bangladesh/25.31,89.44.zarr\n",
      "/home/patel_zeel/bkdb/bangladesh/25.07,88.74.zarr\n",
      "/home/patel_zeel/bkdb/bangladesh/24.54,89.98.zarr\n"
     ]
    },
    {
     "name": "stderr",
     "output_type": "stream",
     "text": [
      " 31%|███▏      | 320/1020 [00:06<00:11, 62.08it/s]"
     ]
    },
    {
     "name": "stdout",
     "output_type": "stream",
     "text": [
      "/home/patel_zeel/bkdb/bangladesh/25.67,89.27.zarr\n",
      "/home/patel_zeel/bkdb/bangladesh/24.62,89.44.zarr\n",
      "/home/patel_zeel/bkdb/bangladesh/26.07,88.80.zarr\n",
      "/home/patel_zeel/bkdb/bangladesh/25.42,89.40.zarr\n",
      "/home/patel_zeel/bkdb/bangladesh/24.99,89.37.zarr\n",
      "/home/patel_zeel/bkdb/bangladesh/24.67,89.55.zarr\n",
      "/home/patel_zeel/bkdb/bangladesh/24.64,92.15.zarr\n",
      "/home/patel_zeel/bkdb/bangladesh/25.95,88.26.zarr\n",
      "/home/patel_zeel/bkdb/bangladesh/24.95,89.43.zarr\n",
      "/home/patel_zeel/bkdb/bangladesh/25.65,88.61.zarr\n",
      "/home/patel_zeel/bkdb/bangladesh/25.83,88.66.zarr\n",
      "/home/patel_zeel/bkdb/bangladesh/25.68,89.11.zarr\n",
      "/home/patel_zeel/bkdb/bangladesh/24.91,90.88.zarr\n",
      "/home/patel_zeel/bkdb/bangladesh/25.07,89.37.zarr\n",
      "/home/patel_zeel/bkdb/bangladesh/26.07,88.34.zarr\n",
      "/home/patel_zeel/bkdb/bangladesh/25.88,88.14.zarr\n",
      "/home/patel_zeel/bkdb/bangladesh/24.93,91.70.zarr\n",
      "/home/patel_zeel/bkdb/bangladesh/25.96,88.29.zarr\n",
      "/home/patel_zeel/bkdb/bangladesh/24.66,89.82.zarr\n",
      "/home/patel_zeel/bkdb/bangladesh/24.83,88.22.zarr\n",
      "/home/patel_zeel/bkdb/bangladesh/24.61,88.27.zarr\n",
      "/home/patel_zeel/bkdb/bangladesh/24.47,88.87.zarr\n",
      "/home/patel_zeel/bkdb/bangladesh/24.82,89.84.zarr\n",
      "/home/patel_zeel/bkdb/bangladesh/25.61,89.29.zarr\n",
      "/home/patel_zeel/bkdb/bangladesh/24.55,90.87.zarr\n",
      "/home/patel_zeel/bkdb/bangladesh/24.56,90.50.zarr\n",
      "/home/patel_zeel/bkdb/bangladesh/25.72,89.11.zarr\n",
      "/home/patel_zeel/bkdb/bangladesh/24.66,88.20.zarr\n",
      "/home/patel_zeel/bkdb/bangladesh/24.89,89.22.zarr\n"
     ]
    },
    {
     "name": "stderr",
     "output_type": "stream",
     "text": [
      " 35%|███▍      | 352/1020 [00:06<00:10, 64.30it/s]"
     ]
    },
    {
     "name": "stdout",
     "output_type": "stream",
     "text": [
      "/home/patel_zeel/bkdb/bangladesh/24.57,91.11.zarr\n",
      "/home/patel_zeel/bkdb/bangladesh/24.94,89.98.zarr\n",
      "/home/patel_zeel/bkdb/bangladesh/24.90,90.86.zarr\n",
      "/home/patel_zeel/bkdb/bangladesh/24.58,90.37.zarr\n",
      "/home/patel_zeel/bkdb/bangladesh/24.90,90.39.zarr\n",
      "/home/patel_zeel/bkdb/bangladesh/26.01,89.68.zarr\n",
      "/home/patel_zeel/bkdb/bangladesh/25.80,89.21.zarr\n",
      "/home/patel_zeel/bkdb/bangladesh/24.49,91.74.zarr\n",
      "/home/patel_zeel/bkdb/bangladesh/25.92,88.27.zarr\n",
      "/home/patel_zeel/bkdb/bangladesh/24.91,92.37.zarr\n",
      "/home/patel_zeel/bkdb/bangladesh/24.73,89.86.zarr\n",
      "/home/patel_zeel/bkdb/bangladesh/25.70,88.99.zarr\n",
      "/home/patel_zeel/bkdb/bangladesh/24.69,90.88.zarr\n",
      "/home/patel_zeel/bkdb/bangladesh/25.03,89.45.zarr\n",
      "/home/patel_zeel/bkdb/bangladesh/24.81,88.90.zarr\n",
      "/home/patel_zeel/bkdb/bangladesh/24.62,88.33.zarr\n",
      "/home/patel_zeel/bkdb/bangladesh/24.63,88.77.zarr\n",
      "/home/patel_zeel/bkdb/bangladesh/24.57,90.73.zarr\n",
      "/home/patel_zeel/bkdb/bangladesh/25.81,88.88.zarr\n",
      "/home/patel_zeel/bkdb/bangladesh/24.51,91.84.zarr\n",
      "/home/patel_zeel/bkdb/bangladesh/25.38,89.16.zarr\n",
      "/home/patel_zeel/bkdb/bangladesh/25.34,89.32.zarr\n",
      "/home/patel_zeel/bkdb/bangladesh/24.65,88.11.zarr\n",
      "/home/patel_zeel/bkdb/bangladesh/24.59,90.44.zarr\n",
      "/home/patel_zeel/bkdb/bangladesh/25.64,89.21.zarr\n",
      "/home/patel_zeel/bkdb/bangladesh/24.83,88.89.zarr\n",
      "/home/patel_zeel/bkdb/bangladesh/24.61,90.34.zarr\n",
      "/home/patel_zeel/bkdb/bangladesh/25.84,89.17.zarr\n",
      "/home/patel_zeel/bkdb/bangladesh/24.65,90.73.zarr\n",
      "/home/patel_zeel/bkdb/bangladesh/24.53,90.09.zarr\n"
     ]
    },
    {
     "name": "stderr",
     "output_type": "stream",
     "text": [
      " 38%|███▊      | 384/1020 [00:07<00:09, 65.90it/s]"
     ]
    },
    {
     "name": "stdout",
     "output_type": "stream",
     "text": [
      "/home/patel_zeel/bkdb/bangladesh/25.54,89.27.zarr\n",
      "/home/patel_zeel/bkdb/bangladesh/25.03,92.08.zarr\n",
      "/home/patel_zeel/bkdb/bangladesh/25.63,89.01.zarr\n",
      "/home/patel_zeel/bkdb/bangladesh/25.15,89.75.zarr\n",
      "/home/patel_zeel/bkdb/bangladesh/25.40,88.98.zarr\n",
      "/home/patel_zeel/bkdb/bangladesh/24.95,89.40.zarr\n",
      "/home/patel_zeel/bkdb/bangladesh/24.90,88.26.zarr\n",
      "/home/patel_zeel/bkdb/bangladesh/26.05,88.66.zarr\n",
      "/home/patel_zeel/bkdb/bangladesh/25.01,88.96.zarr\n",
      "/home/patel_zeel/bkdb/bangladesh/24.71,90.35.zarr\n",
      "/home/patel_zeel/bkdb/bangladesh/24.81,91.30.zarr\n",
      "/home/patel_zeel/bkdb/bangladesh/24.60,88.69.zarr\n",
      "/home/patel_zeel/bkdb/bangladesh/25.02,90.35.zarr\n",
      "/home/patel_zeel/bkdb/bangladesh/24.45,88.98.zarr\n",
      "/home/patel_zeel/bkdb/bangladesh/26.21,88.54.zarr\n",
      "/home/patel_zeel/bkdb/bangladesh/24.67,89.52.zarr\n",
      "/home/patel_zeel/bkdb/bangladesh/24.76,88.29.zarr\n",
      "/home/patel_zeel/bkdb/bangladesh/25.09,89.38.zarr\n",
      "/home/patel_zeel/bkdb/bangladesh/26.07,89.20.zarr\n",
      "/home/patel_zeel/bkdb/bangladesh/25.13,89.02.zarr\n",
      "/home/patel_zeel/bkdb/bangladesh/24.97,90.64.zarr\n",
      "/home/patel_zeel/bkdb/bangladesh/24.62,90.43.zarr\n",
      "/home/patel_zeel/bkdb/bangladesh/25.67,89.35.zarr\n",
      "/home/patel_zeel/bkdb/bangladesh/25.71,88.67.zarr\n",
      "/home/patel_zeel/bkdb/bangladesh/24.62,88.97.zarr\n",
      "/home/patel_zeel/bkdb/bangladesh/24.48,90.77.zarr\n",
      "/home/patel_zeel/bkdb/bangladesh/24.57,88.19.zarr\n",
      "/home/patel_zeel/bkdb/bangladesh/24.56,89.59.zarr\n",
      "/home/patel_zeel/bkdb/bangladesh/25.70,89.40.zarr\n",
      "/home/patel_zeel/bkdb/bangladesh/25.98,88.97.zarr\n"
     ]
    },
    {
     "name": "stderr",
     "output_type": "stream",
     "text": [
      " 41%|████      | 416/1020 [00:07<00:08, 67.41it/s]"
     ]
    },
    {
     "name": "stdout",
     "output_type": "stream",
     "text": [
      "/home/patel_zeel/bkdb/bangladesh/24.53,90.42.zarr\n",
      "/home/patel_zeel/bkdb/bangladesh/24.95,90.47.zarr\n",
      "/home/patel_zeel/bkdb/bangladesh/25.52,88.89.zarr\n",
      "/home/patel_zeel/bkdb/bangladesh/24.90,88.92.zarr\n",
      "/home/patel_zeel/bkdb/bangladesh/24.47,90.93.zarr\n",
      "/home/patel_zeel/bkdb/bangladesh/25.87,88.49.zarr\n",
      "/home/patel_zeel/bkdb/bangladesh/24.98,90.36.zarr\n",
      "/home/patel_zeel/bkdb/bangladesh/26.13,89.16.zarr\n",
      "/home/patel_zeel/bkdb/bangladesh/24.86,91.88.zarr\n",
      "/home/patel_zeel/bkdb/bangladesh/24.81,89.39.zarr\n",
      "/home/patel_zeel/bkdb/bangladesh/25.33,89.47.zarr\n",
      "/home/patel_zeel/bkdb/bangladesh/25.42,89.52.zarr\n",
      "/home/patel_zeel/bkdb/bangladesh/24.90,89.97.zarr\n",
      "/home/patel_zeel/bkdb/bangladesh/25.75,88.90.zarr\n",
      "/home/patel_zeel/bkdb/bangladesh/26.00,89.20.zarr\n",
      "/home/patel_zeel/bkdb/bangladesh/24.56,90.35.zarr\n",
      "/home/patel_zeel/bkdb/bangladesh/24.95,89.87.zarr\n",
      "/home/patel_zeel/bkdb/bangladesh/24.73,89.87.zarr\n",
      "/home/patel_zeel/bkdb/bangladesh/24.82,88.96.zarr\n",
      "/home/patel_zeel/bkdb/bangladesh/26.16,88.35.zarr\n",
      "/home/patel_zeel/bkdb/bangladesh/26.07,89.78.zarr\n",
      "/home/patel_zeel/bkdb/bangladesh/25.87,88.37.zarr\n",
      "/home/patel_zeel/bkdb/bangladesh/25.05,91.38.zarr\n",
      "/home/patel_zeel/bkdb/bangladesh/24.94,92.23.zarr\n",
      "/home/patel_zeel/bkdb/bangladesh/24.79,89.21.zarr\n",
      "/home/patel_zeel/bkdb/bangladesh/24.70,90.31.zarr\n",
      "/home/patel_zeel/bkdb/bangladesh/25.46,89.32.zarr\n",
      "/home/patel_zeel/bkdb/bangladesh/26.09,88.69.zarr\n",
      "/home/patel_zeel/bkdb/bangladesh/26.02,88.76.zarr\n",
      "/home/patel_zeel/bkdb/bangladesh/24.68,90.43.zarr\n"
     ]
    },
    {
     "name": "stderr",
     "output_type": "stream",
     "text": [
      " 44%|████▍     | 448/1020 [00:07<00:08, 68.20it/s]"
     ]
    },
    {
     "name": "stdout",
     "output_type": "stream",
     "text": [
      "/home/patel_zeel/bkdb/bangladesh/25.27,89.32.zarr\n",
      "/home/patel_zeel/bkdb/bangladesh/25.65,89.21.zarr\n",
      "/home/patel_zeel/bkdb/bangladesh/25.56,89.12.zarr\n",
      "/home/patel_zeel/bkdb/bangladesh/25.03,89.44.zarr\n",
      "/home/patel_zeel/bkdb/bangladesh/24.54,90.00.zarr\n",
      "/home/patel_zeel/bkdb/bangladesh/24.44,90.54.zarr\n",
      "/home/patel_zeel/bkdb/bangladesh/25.52,89.52.zarr\n",
      "/home/patel_zeel/bkdb/bangladesh/24.84,88.37.zarr\n",
      "/home/patel_zeel/bkdb/bangladesh/25.66,88.86.zarr\n",
      "/home/patel_zeel/bkdb/bangladesh/24.58,89.04.zarr\n",
      "/home/patel_zeel/bkdb/bangladesh/25.10,90.04.zarr\n",
      "/home/patel_zeel/bkdb/bangladesh/25.27,89.36.zarr\n",
      "/home/patel_zeel/bkdb/bangladesh/25.47,89.59.zarr\n",
      "/home/patel_zeel/bkdb/bangladesh/25.13,89.53.zarr\n",
      "/home/patel_zeel/bkdb/bangladesh/24.74,88.40.zarr\n",
      "/home/patel_zeel/bkdb/bangladesh/25.92,89.32.zarr\n",
      "/home/patel_zeel/bkdb/bangladesh/24.48,89.94.zarr\n",
      "/home/patel_zeel/bkdb/bangladesh/24.54,90.43.zarr\n",
      "/home/patel_zeel/bkdb/bangladesh/25.50,89.02.zarr\n",
      "/home/patel_zeel/bkdb/bangladesh/24.55,91.51.zarr\n",
      "/home/patel_zeel/bkdb/bangladesh/24.47,90.10.zarr\n",
      "/home/patel_zeel/bkdb/bangladesh/25.45,89.32.zarr\n",
      "/home/patel_zeel/bkdb/bangladesh/24.50,90.31.zarr\n",
      "/home/patel_zeel/bkdb/bangladesh/25.81,88.45.zarr\n",
      "/home/patel_zeel/bkdb/bangladesh/24.49,90.35.zarr\n",
      "/home/patel_zeel/bkdb/bangladesh/24.45,90.71.zarr\n",
      "/home/patel_zeel/bkdb/bangladesh/25.24,89.56.zarr\n",
      "/home/patel_zeel/bkdb/bangladesh/24.54,90.70.zarr\n",
      "/home/patel_zeel/bkdb/bangladesh/24.69,90.41.zarr\n",
      "/home/patel_zeel/bkdb/bangladesh/25.66,88.87.zarr\n",
      "/home/patel_zeel/bkdb/bangladesh/24.62,90.62.zarr\n"
     ]
    },
    {
     "name": "stderr",
     "output_type": "stream",
     "text": [
      " 47%|████▋     | 480/1020 [00:08<00:07, 69.61it/s]"
     ]
    },
    {
     "name": "stdout",
     "output_type": "stream",
     "text": [
      "/home/patel_zeel/bkdb/bangladesh/26.11,88.67.zarr\n",
      "/home/patel_zeel/bkdb/bangladesh/24.76,88.88.zarr\n",
      "/home/patel_zeel/bkdb/bangladesh/24.45,89.43.zarr\n",
      "/home/patel_zeel/bkdb/bangladesh/25.09,91.42.zarr\n",
      "/home/patel_zeel/bkdb/bangladesh/24.91,89.97.zarr\n",
      "/home/patel_zeel/bkdb/bangladesh/24.55,88.20.zarr\n",
      "/home/patel_zeel/bkdb/bangladesh/24.47,90.96.zarr\n",
      "/home/patel_zeel/bkdb/bangladesh/26.11,88.46.zarr\n",
      "/home/patel_zeel/bkdb/bangladesh/24.73,90.78.zarr\n",
      "/home/patel_zeel/bkdb/bangladesh/23.20,90.94.zarr\n",
      "/home/patel_zeel/bkdb/bangladesh/22.83,89.59.zarr\n",
      "/home/patel_zeel/bkdb/bangladesh/22.96,90.87.zarr\n",
      "/home/patel_zeel/bkdb/bangladesh/23.43,89.44.zarr\n",
      "/home/patel_zeel/bkdb/bangladesh/23.20,90.21.zarr\n",
      "/home/patel_zeel/bkdb/bangladesh/23.12,89.30.zarr\n",
      "/home/patel_zeel/bkdb/bangladesh/22.97,90.29.zarr\n",
      "/home/patel_zeel/bkdb/bangladesh/23.20,90.95.zarr\n",
      "/home/patel_zeel/bkdb/bangladesh/23.32,89.23.zarr\n",
      "/home/patel_zeel/bkdb/bangladesh/22.30,90.12.zarr\n",
      "/home/patel_zeel/bkdb/bangladesh/22.05,92.08.zarr\n",
      "/home/patel_zeel/bkdb/bangladesh/22.53,92.11.zarr\n",
      "/home/patel_zeel/bkdb/bangladesh/22.42,91.89.zarr\n",
      "/home/patel_zeel/bkdb/bangladesh/23.06,91.16.zarr\n",
      "/home/patel_zeel/bkdb/bangladesh/22.54,91.78.zarr\n",
      "/home/patel_zeel/bkdb/bangladesh/22.19,90.81.zarr\n",
      "/home/patel_zeel/bkdb/bangladesh/23.24,90.35.zarr\n",
      "/home/patel_zeel/bkdb/bangladesh/22.89,90.93.zarr\n",
      "/home/patel_zeel/bkdb/bangladesh/23.08,88.91.zarr\n",
      "/home/patel_zeel/bkdb/bangladesh/23.35,91.13.zarr\n",
      "/home/patel_zeel/bkdb/bangladesh/23.17,90.18.zarr\n",
      "/home/patel_zeel/bkdb/bangladesh/21.55,92.03.zarr\n"
     ]
    },
    {
     "name": "stderr",
     "output_type": "stream",
     "text": [
      " 50%|█████     | 512/1020 [00:08<00:07, 70.27it/s]"
     ]
    },
    {
     "name": "stdout",
     "output_type": "stream",
     "text": [
      "/home/patel_zeel/bkdb/bangladesh/23.25,90.34.zarr\n",
      "/home/patel_zeel/bkdb/bangladesh/23.24,90.73.zarr\n",
      "/home/patel_zeel/bkdb/bangladesh/22.60,92.07.zarr\n",
      "/home/patel_zeel/bkdb/bangladesh/21.12,92.18.zarr\n",
      "/home/patel_zeel/bkdb/bangladesh/23.02,90.23.zarr\n",
      "/home/patel_zeel/bkdb/bangladesh/23.17,89.61.zarr\n",
      "/home/patel_zeel/bkdb/bangladesh/23.20,90.67.zarr\n",
      "/home/patel_zeel/bkdb/bangladesh/22.46,89.04.zarr\n",
      "/home/patel_zeel/bkdb/bangladesh/22.78,90.30.zarr\n",
      "/home/patel_zeel/bkdb/bangladesh/22.93,90.51.zarr\n",
      "/home/patel_zeel/bkdb/bangladesh/22.58,92.02.zarr\n",
      "/home/patel_zeel/bkdb/bangladesh/22.82,89.35.zarr\n",
      "/home/patel_zeel/bkdb/bangladesh/23.37,91.24.zarr\n",
      "/home/patel_zeel/bkdb/bangladesh/23.10,89.21.zarr\n",
      "/home/patel_zeel/bkdb/bangladesh/22.82,89.64.zarr\n",
      "/home/patel_zeel/bkdb/bangladesh/22.62,89.14.zarr\n",
      "/home/patel_zeel/bkdb/bangladesh/23.23,90.78.zarr\n",
      "/home/patel_zeel/bkdb/bangladesh/23.34,89.33.zarr\n",
      "/home/patel_zeel/bkdb/bangladesh/21.84,91.85.zarr\n",
      "/home/patel_zeel/bkdb/bangladesh/22.87,91.06.zarr\n",
      "/home/patel_zeel/bkdb/bangladesh/21.21,92.18.zarr\n",
      "/home/patel_zeel/bkdb/bangladesh/23.01,91.35.zarr\n",
      "/home/patel_zeel/bkdb/bangladesh/22.44,92.00.zarr\n",
      "/home/patel_zeel/bkdb/bangladesh/22.39,91.89.zarr\n",
      "/home/patel_zeel/bkdb/bangladesh/23.00,89.08.zarr\n",
      "/home/patel_zeel/bkdb/bangladesh/22.63,90.37.zarr\n",
      "/home/patel_zeel/bkdb/bangladesh/22.50,90.73.zarr\n",
      "/home/patel_zeel/bkdb/bangladesh/22.01,92.15.zarr\n",
      "/home/patel_zeel/bkdb/bangladesh/23.06,89.37.zarr\n",
      "/home/patel_zeel/bkdb/bangladesh/22.16,91.06.zarr\n",
      "/home/patel_zeel/bkdb/bangladesh/22.65,90.39.zarr\n"
     ]
    },
    {
     "name": "stderr",
     "output_type": "stream",
     "text": [
      " 53%|█████▎    | 544/1020 [00:09<00:06, 70.32it/s]"
     ]
    },
    {
     "name": "stdout",
     "output_type": "stream",
     "text": [
      "/home/patel_zeel/bkdb/bangladesh/23.33,91.01.zarr\n",
      "/home/patel_zeel/bkdb/bangladesh/22.81,91.57.zarr\n",
      "/home/patel_zeel/bkdb/bangladesh/22.96,91.33.zarr\n",
      "/home/patel_zeel/bkdb/bangladesh/23.29,90.39.zarr\n",
      "/home/patel_zeel/bkdb/bangladesh/23.30,90.31.zarr\n",
      "/home/patel_zeel/bkdb/bangladesh/23.08,91.99.zarr\n",
      "/home/patel_zeel/bkdb/bangladesh/23.30,91.13.zarr\n",
      "/home/patel_zeel/bkdb/bangladesh/22.44,89.00.zarr\n",
      "/home/patel_zeel/bkdb/bangladesh/23.32,89.24.zarr\n",
      "/home/patel_zeel/bkdb/bangladesh/23.04,91.46.zarr\n",
      "/home/patel_zeel/bkdb/bangladesh/22.04,92.10.zarr\n",
      "/home/patel_zeel/bkdb/bangladesh/22.61,90.37.zarr\n",
      "/home/patel_zeel/bkdb/bangladesh/23.30,91.19.zarr\n",
      "/home/patel_zeel/bkdb/bangladesh/22.16,90.29.zarr\n",
      "/home/patel_zeel/bkdb/bangladesh/22.98,91.79.zarr\n",
      "/home/patel_zeel/bkdb/bangladesh/22.87,89.01.zarr\n",
      "/home/patel_zeel/bkdb/bangladesh/23.35,91.15.zarr\n",
      "/home/patel_zeel/bkdb/bangladesh/22.73,90.58.zarr\n",
      "/home/patel_zeel/bkdb/bangladesh/23.11,89.27.zarr\n",
      "/home/patel_zeel/bkdb/bangladesh/23.25,91.31.zarr\n",
      "/home/patel_zeel/bkdb/bangladesh/22.62,90.65.zarr\n",
      "/home/patel_zeel/bkdb/bangladesh/22.39,90.37.zarr\n",
      "/home/patel_zeel/bkdb/bangladesh/23.24,91.29.zarr\n",
      "/home/patel_zeel/bkdb/bangladesh/23.35,89.34.zarr\n",
      "/home/patel_zeel/bkdb/bangladesh/22.96,91.45.zarr\n",
      "/home/patel_zeel/bkdb/bangladesh/22.72,89.11.zarr\n",
      "/home/patel_zeel/bkdb/bangladesh/22.19,91.99.zarr\n",
      "/home/patel_zeel/bkdb/bangladesh/22.89,89.72.zarr\n",
      "/home/patel_zeel/bkdb/bangladesh/22.57,92.00.zarr\n",
      "/home/patel_zeel/bkdb/bangladesh/22.83,89.60.zarr\n",
      "/home/patel_zeel/bkdb/bangladesh/22.56,89.18.zarr\n"
     ]
    },
    {
     "name": "stderr",
     "output_type": "stream",
     "text": [
      " 56%|█████▋    | 576/1020 [00:09<00:06, 70.89it/s]"
     ]
    },
    {
     "name": "stdout",
     "output_type": "stream",
     "text": [
      "/home/patel_zeel/bkdb/bangladesh/23.36,90.07.zarr\n",
      "/home/patel_zeel/bkdb/bangladesh/23.00,91.36.zarr\n",
      "/home/patel_zeel/bkdb/bangladesh/22.37,91.76.zarr\n",
      "/home/patel_zeel/bkdb/bangladesh/23.08,91.44.zarr\n",
      "/home/patel_zeel/bkdb/bangladesh/22.97,91.19.zarr\n",
      "/home/patel_zeel/bkdb/bangladesh/22.94,90.53.zarr\n",
      "/home/patel_zeel/bkdb/bangladesh/23.16,91.47.zarr\n",
      "/home/patel_zeel/bkdb/bangladesh/23.40,89.46.zarr\n",
      "/home/patel_zeel/bkdb/bangladesh/22.59,90.68.zarr\n",
      "/home/patel_zeel/bkdb/bangladesh/22.77,89.40.zarr\n",
      "/home/patel_zeel/bkdb/bangladesh/23.37,89.19.zarr\n",
      "/home/patel_zeel/bkdb/bangladesh/22.46,91.81.zarr\n",
      "/home/patel_zeel/bkdb/bangladesh/22.97,89.47.zarr\n",
      "/home/patel_zeel/bkdb/bangladesh/23.03,89.60.zarr\n",
      "/home/patel_zeel/bkdb/bangladesh/23.22,90.80.zarr\n",
      "/home/patel_zeel/bkdb/bangladesh/22.94,92.25.zarr\n",
      "/home/patel_zeel/bkdb/bangladesh/22.94,90.88.zarr\n",
      "/home/patel_zeel/bkdb/bangladesh/22.17,90.04.zarr\n",
      "/home/patel_zeel/bkdb/bangladesh/21.30,92.15.zarr\n",
      "/home/patel_zeel/bkdb/bangladesh/22.17,92.24.zarr\n",
      "/home/patel_zeel/bkdb/bangladesh/23.34,90.30.zarr\n",
      "/home/patel_zeel/bkdb/bangladesh/22.81,89.62.zarr\n",
      "/home/patel_zeel/bkdb/bangladesh/23.30,89.83.zarr\n",
      "/home/patel_zeel/bkdb/bangladesh/23.40,91.23.zarr\n",
      "/home/patel_zeel/bkdb/bangladesh/22.72,91.77.zarr\n",
      "/home/patel_zeel/bkdb/bangladesh/22.25,92.04.zarr\n",
      "/home/patel_zeel/bkdb/bangladesh/22.58,90.40.zarr\n",
      "/home/patel_zeel/bkdb/bangladesh/22.63,88.99.zarr\n",
      "/home/patel_zeel/bkdb/bangladesh/22.64,90.62.zarr\n",
      "/home/patel_zeel/bkdb/bangladesh/22.92,89.16.zarr\n",
      "/home/patel_zeel/bkdb/bangladesh/22.74,91.76.zarr\n"
     ]
    },
    {
     "name": "stderr",
     "output_type": "stream",
     "text": [
      " 60%|█████▉    | 608/1020 [00:10<00:05, 70.80it/s]"
     ]
    },
    {
     "name": "stdout",
     "output_type": "stream",
     "text": [
      "/home/patel_zeel/bkdb/bangladesh/22.56,89.96.zarr\n",
      "/home/patel_zeel/bkdb/bangladesh/22.53,90.37.zarr\n",
      "/home/patel_zeel/bkdb/bangladesh/23.25,89.02.zarr\n",
      "/home/patel_zeel/bkdb/bangladesh/23.09,89.77.zarr\n",
      "/home/patel_zeel/bkdb/bangladesh/22.78,90.12.zarr\n",
      "/home/patel_zeel/bkdb/bangladesh/22.10,91.96.zarr\n",
      "/home/patel_zeel/bkdb/bangladesh/22.09,92.09.zarr\n",
      "/home/patel_zeel/bkdb/bangladesh/23.01,89.80.zarr\n",
      "/home/patel_zeel/bkdb/bangladesh/23.21,91.25.zarr\n",
      "/home/patel_zeel/bkdb/bangladesh/22.55,92.07.zarr\n",
      "/home/patel_zeel/bkdb/bangladesh/22.54,90.36.zarr\n",
      "/home/patel_zeel/bkdb/bangladesh/23.27,90.17.zarr\n",
      "/home/patel_zeel/bkdb/bangladesh/22.99,91.43.zarr\n",
      "/home/patel_zeel/bkdb/bangladesh/22.29,90.71.zarr\n",
      "/home/patel_zeel/bkdb/bangladesh/22.99,91.46.zarr\n",
      "/home/patel_zeel/bkdb/bangladesh/23.02,88.90.zarr\n",
      "/home/patel_zeel/bkdb/bangladesh/23.43,90.96.zarr\n",
      "/home/patel_zeel/bkdb/bangladesh/22.84,90.85.zarr\n",
      "/home/patel_zeel/bkdb/bangladesh/23.09,91.17.zarr\n",
      "/home/patel_zeel/bkdb/bangladesh/23.27,91.07.zarr\n",
      "/home/patel_zeel/bkdb/bangladesh/22.92,90.55.zarr\n",
      "/home/patel_zeel/bkdb/bangladesh/23.30,90.30.zarr\n",
      "/home/patel_zeel/bkdb/bangladesh/22.97,89.24.zarr\n",
      "/home/patel_zeel/bkdb/bangladesh/22.40,89.91.zarr\n",
      "/home/patel_zeel/bkdb/bangladesh/23.14,90.88.zarr\n",
      "/home/patel_zeel/bkdb/bangladesh/22.67,89.08.zarr\n",
      "/home/patel_zeel/bkdb/bangladesh/22.77,90.86.zarr\n",
      "/home/patel_zeel/bkdb/bangladesh/23.11,89.17.zarr\n",
      "/home/patel_zeel/bkdb/bangladesh/23.08,90.91.zarr\n",
      "/home/patel_zeel/bkdb/bangladesh/23.13,91.32.zarr\n",
      "/home/patel_zeel/bkdb/bangladesh/23.36,89.23.zarr\n",
      "/home/patel_zeel/bkdb/bangladesh/22.92,90.97.zarr\n",
      "/home/patel_zeel/bkdb/bangladesh/22.85,89.05.zarr\n",
      "/home/patel_zeel/bkdb/bangladesh/22.73,91.76.zarr\n",
      "/home/patel_zeel/bkdb/bangladesh/22.94,90.90.zarr\n",
      "/home/patel_zeel/bkdb/bangladesh/21.98,90.26.zarr\n",
      "/home/patel_zeel/bkdb/bangladesh/22.52,90.37.zarr\n",
      "/home/patel_zeel/bkdb/bangladesh/23.06,89.63.zarr\n",
      "/home/patel_zeel/bkdb/bangladesh/22.91,88.92.zarr\n",
      "/home/patel_zeel/bkdb/bangladesh/23.09,89.08.zarr\n",
      "/home/patel_zeel/bkdb/bangladesh/22.17,90.25.zarr\n",
      "/home/patel_zeel/bkdb/bangladesh/22.59,92.08.zarr\n",
      "/home/patel_zeel/bkdb/bangladesh/23.04,91.19.zarr\n",
      "/home/patel_zeel/bkdb/bangladesh/22.90,89.02.zarr\n",
      "/home/patel_zeel/bkdb/bangladesh/23.28,90.34.zarr\n"
     ]
    },
    {
     "name": "stderr",
     "output_type": "stream",
     "text": [
      " 63%|██████▎   | 640/1020 [00:10<00:05, 70.71it/s]"
     ]
    },
    {
     "name": "stdout",
     "output_type": "stream",
     "text": [
      "/home/patel_zeel/bkdb/bangladesh/22.95,91.17.zarr\n",
      "/home/patel_zeel/bkdb/bangladesh/23.10,91.98.zarr\n",
      "/home/patel_zeel/bkdb/bangladesh/22.41,92.00.zarr\n",
      "/home/patel_zeel/bkdb/bangladesh/22.22,89.88.zarr\n",
      "/home/patel_zeel/bkdb/bangladesh/22.17,90.03.zarr\n",
      "/home/patel_zeel/bkdb/bangladesh/21.45,92.04.zarr\n",
      "/home/patel_zeel/bkdb/bangladesh/22.92,90.51.zarr\n",
      "/home/patel_zeel/bkdb/bangladesh/22.83,90.27.zarr\n",
      "/home/patel_zeel/bkdb/bangladesh/22.86,91.23.zarr\n",
      "/home/patel_zeel/bkdb/bangladesh/22.36,90.07.zarr\n",
      "/home/patel_zeel/bkdb/bangladesh/23.17,91.46.zarr\n",
      "/home/patel_zeel/bkdb/bangladesh/22.91,90.42.zarr\n",
      "/home/patel_zeel/bkdb/bangladesh/22.95,91.40.zarr\n",
      "/home/patel_zeel/bkdb/bangladesh/22.35,90.45.zarr\n",
      "/home/patel_zeel/bkdb/bangladesh/23.18,91.21.zarr\n",
      "/home/patel_zeel/bkdb/bangladesh/23.01,91.32.zarr\n",
      "/home/patel_zeel/bkdb/bangladesh/22.81,90.52.zarr\n",
      "/home/patel_zeel/bkdb/bangladesh/22.71,91.74.zarr\n",
      "/home/patel_zeel/bkdb/bangladesh/22.69,90.20.zarr\n",
      "/home/patel_zeel/bkdb/bangladesh/22.67,90.40.zarr\n",
      "/home/patel_zeel/bkdb/bangladesh/22.91,89.23.zarr\n",
      "/home/patel_zeel/bkdb/bangladesh/23.27,90.87.zarr\n",
      "/home/patel_zeel/bkdb/bangladesh/23.18,89.65.zarr\n",
      "/home/patel_zeel/bkdb/bangladesh/23.10,90.91.zarr\n",
      "/home/patel_zeel/bkdb/bangladesh/23.11,89.94.zarr\n",
      "/home/patel_zeel/bkdb/bangladesh/23.17,90.74.zarr\n",
      "/home/patel_zeel/bkdb/bangladesh/22.27,91.83.zarr\n",
      "/home/patel_zeel/bkdb/bangladesh/23.12,89.06.zarr\n",
      "/home/patel_zeel/bkdb/bangladesh/22.96,89.84.zarr\n",
      "/home/patel_zeel/bkdb/bangladesh/23.23,89.72.zarr\n",
      "/home/patel_zeel/bkdb/bangladesh/22.71,89.12.zarr\n"
     ]
    },
    {
     "name": "stderr",
     "output_type": "stream",
     "text": [
      " 66%|██████▌   | 672/1020 [00:11<00:04, 70.81it/s]"
     ]
    },
    {
     "name": "stdout",
     "output_type": "stream",
     "text": [
      "/home/patel_zeel/bkdb/bangladesh/23.25,91.18.zarr\n",
      "/home/patel_zeel/bkdb/bangladesh/23.35,89.53.zarr\n",
      "/home/patel_zeel/bkdb/bangladesh/23.43,89.01.zarr\n",
      "/home/patel_zeel/bkdb/bangladesh/22.04,92.41.zarr\n",
      "/home/patel_zeel/bkdb/bangladesh/22.95,89.80.zarr\n",
      "/home/patel_zeel/bkdb/bangladesh/22.72,91.78.zarr\n",
      "/home/patel_zeel/bkdb/bangladesh/23.11,91.09.zarr\n",
      "/home/patel_zeel/bkdb/bangladesh/23.19,90.98.zarr\n",
      "/home/patel_zeel/bkdb/bangladesh/23.08,90.93.zarr\n",
      "/home/patel_zeel/bkdb/bangladesh/21.11,92.18.zarr\n",
      "/home/patel_zeel/bkdb/bangladesh/21.86,90.18.zarr\n",
      "/home/patel_zeel/bkdb/bangladesh/23.14,90.89.zarr\n",
      "/home/patel_zeel/bkdb/bangladesh/21.95,91.95.zarr\n",
      "/home/patel_zeel/bkdb/bangladesh/22.80,90.36.zarr\n",
      "/home/patel_zeel/bkdb/bangladesh/22.94,91.20.zarr\n",
      "/home/patel_zeel/bkdb/bangladesh/22.91,90.53.zarr\n",
      "/home/patel_zeel/bkdb/bangladesh/23.26,89.04.zarr\n",
      "/home/patel_zeel/bkdb/bangladesh/22.22,92.03.zarr\n",
      "/home/patel_zeel/bkdb/bangladesh/22.85,89.56.zarr\n",
      "/home/patel_zeel/bkdb/bangladesh/22.84,91.56.zarr\n",
      "/home/patel_zeel/bkdb/bangladesh/22.61,92.04.zarr\n",
      "/home/patel_zeel/bkdb/bangladesh/23.37,91.09.zarr\n",
      "/home/patel_zeel/bkdb/bangladesh/24.25,90.59.zarr\n",
      "/home/patel_zeel/bkdb/bangladesh/24.43,90.38.zarr\n",
      "/home/patel_zeel/bkdb/bangladesh/23.60,90.47.zarr\n",
      "/home/patel_zeel/bkdb/bangladesh/23.82,90.04.zarr\n",
      "/home/patel_zeel/bkdb/bangladesh/24.24,91.85.zarr\n",
      "/home/patel_zeel/bkdb/bangladesh/23.65,90.54.zarr\n",
      "/home/patel_zeel/bkdb/bangladesh/23.92,90.66.zarr\n",
      "/home/patel_zeel/bkdb/bangladesh/24.18,90.77.zarr\n"
     ]
    },
    {
     "name": "stderr",
     "output_type": "stream",
     "text": [
      " 69%|██████▉   | 704/1020 [00:11<00:04, 70.96it/s]"
     ]
    },
    {
     "name": "stdout",
     "output_type": "stream",
     "text": [
      "/home/patel_zeel/bkdb/bangladesh/23.97,90.72.zarr\n",
      "/home/patel_zeel/bkdb/bangladesh/24.01,89.11.zarr\n",
      "/home/patel_zeel/bkdb/bangladesh/24.19,89.00.zarr\n",
      "/home/patel_zeel/bkdb/bangladesh/23.61,90.09.zarr\n",
      "/home/patel_zeel/bkdb/bangladesh/24.11,91.31.zarr\n",
      "/home/patel_zeel/bkdb/bangladesh/23.78,89.45.zarr\n",
      "/home/patel_zeel/bkdb/bangladesh/24.11,90.73.zarr\n",
      "/home/patel_zeel/bkdb/bangladesh/23.99,89.01.zarr\n",
      "/home/patel_zeel/bkdb/bangladesh/23.53,89.28.zarr\n",
      "/home/patel_zeel/bkdb/bangladesh/23.63,89.85.zarr\n",
      "/home/patel_zeel/bkdb/bangladesh/23.88,89.88.zarr\n",
      "/home/patel_zeel/bkdb/bangladesh/23.90,90.11.zarr\n",
      "/home/patel_zeel/bkdb/bangladesh/23.80,90.27.zarr\n",
      "/home/patel_zeel/bkdb/bangladesh/23.83,89.30.zarr\n",
      "/home/patel_zeel/bkdb/bangladesh/23.83,89.02.zarr\n",
      "/home/patel_zeel/bkdb/bangladesh/24.00,89.02.zarr\n",
      "/home/patel_zeel/bkdb/bangladesh/24.40,89.10.zarr\n",
      "/home/patel_zeel/bkdb/bangladesh/24.42,88.67.zarr\n",
      "/home/patel_zeel/bkdb/bangladesh/24.10,90.33.zarr\n",
      "/home/patel_zeel/bkdb/bangladesh/24.26,90.69.zarr\n",
      "/home/patel_zeel/bkdb/bangladesh/23.79,90.09.zarr\n",
      "/home/patel_zeel/bkdb/bangladesh/23.44,89.53.zarr\n",
      "/home/patel_zeel/bkdb/bangladesh/24.22,90.77.zarr\n",
      "/home/patel_zeel/bkdb/bangladesh/23.53,88.99.zarr\n",
      "/home/patel_zeel/bkdb/bangladesh/23.73,88.99.zarr\n",
      "/home/patel_zeel/bkdb/bangladesh/24.20,90.77.zarr\n",
      "/home/patel_zeel/bkdb/bangladesh/23.56,90.48.zarr\n",
      "/home/patel_zeel/bkdb/bangladesh/23.58,88.98.zarr\n",
      "/home/patel_zeel/bkdb/bangladesh/23.78,90.25.zarr\n",
      "/home/patel_zeel/bkdb/bangladesh/24.16,89.58.zarr\n",
      "/home/patel_zeel/bkdb/bangladesh/24.38,88.48.zarr\n"
     ]
    },
    {
     "name": "stderr",
     "output_type": "stream",
     "text": [
      " 72%|███████▏  | 736/1020 [00:11<00:04, 70.76it/s]"
     ]
    },
    {
     "name": "stdout",
     "output_type": "stream",
     "text": [
      "/home/patel_zeel/bkdb/bangladesh/23.46,91.14.zarr\n",
      "/home/patel_zeel/bkdb/bangladesh/23.83,90.28.zarr\n",
      "/home/patel_zeel/bkdb/bangladesh/23.65,90.98.zarr\n",
      "/home/patel_zeel/bkdb/bangladesh/23.89,90.59.zarr\n",
      "/home/patel_zeel/bkdb/bangladesh/23.78,89.28.zarr\n",
      "/home/patel_zeel/bkdb/bangladesh/24.01,89.10.zarr\n",
      "/home/patel_zeel/bkdb/bangladesh/24.40,89.54.zarr\n",
      "/home/patel_zeel/bkdb/bangladesh/23.82,90.27.zarr\n",
      "/home/patel_zeel/bkdb/bangladesh/24.10,90.86.zarr\n",
      "/home/patel_zeel/bkdb/bangladesh/23.88,90.35.zarr\n",
      "/home/patel_zeel/bkdb/bangladesh/24.19,90.54.zarr\n",
      "/home/patel_zeel/bkdb/bangladesh/24.44,89.88.zarr\n",
      "/home/patel_zeel/bkdb/bangladesh/24.32,90.10.zarr\n",
      "/home/patel_zeel/bkdb/bangladesh/24.43,91.93.zarr\n",
      "/home/patel_zeel/bkdb/bangladesh/24.03,88.98.zarr\n",
      "/home/patel_zeel/bkdb/bangladesh/23.75,89.63.zarr\n",
      "/home/patel_zeel/bkdb/bangladesh/23.71,91.05.zarr\n",
      "/home/patel_zeel/bkdb/bangladesh/23.79,90.32.zarr\n",
      "/home/patel_zeel/bkdb/bangladesh/24.29,89.91.zarr\n",
      "/home/patel_zeel/bkdb/bangladesh/24.39,90.42.zarr\n",
      "/home/patel_zeel/bkdb/bangladesh/24.09,90.33.zarr\n",
      "/home/patel_zeel/bkdb/bangladesh/24.38,88.91.zarr\n",
      "/home/patel_zeel/bkdb/bangladesh/23.71,90.09.zarr\n",
      "/home/patel_zeel/bkdb/bangladesh/23.59,90.17.zarr\n",
      "/home/patel_zeel/bkdb/bangladesh/23.71,89.67.zarr\n",
      "/home/patel_zeel/bkdb/bangladesh/23.97,90.08.zarr\n",
      "/home/patel_zeel/bkdb/bangladesh/23.63,89.76.zarr\n",
      "/home/patel_zeel/bkdb/bangladesh/23.91,90.05.zarr\n",
      "/home/patel_zeel/bkdb/bangladesh/23.98,90.73.zarr\n",
      "/home/patel_zeel/bkdb/bangladesh/23.77,90.32.zarr\n"
     ]
    },
    {
     "name": "stderr",
     "output_type": "stream",
     "text": [
      " 75%|███████▌  | 768/1020 [00:12<00:03, 70.96it/s]"
     ]
    },
    {
     "name": "stdout",
     "output_type": "stream",
     "text": [
      "/home/patel_zeel/bkdb/bangladesh/23.66,90.99.zarr\n",
      "/home/patel_zeel/bkdb/bangladesh/24.19,90.77.zarr\n",
      "/home/patel_zeel/bkdb/bangladesh/23.92,90.17.zarr\n",
      "/home/patel_zeel/bkdb/bangladesh/24.08,90.92.zarr\n",
      "/home/patel_zeel/bkdb/bangladesh/23.64,90.38.zarr\n",
      "/home/patel_zeel/bkdb/bangladesh/24.08,90.64.zarr\n",
      "/home/patel_zeel/bkdb/bangladesh/23.68,89.73.zarr\n",
      "/home/patel_zeel/bkdb/bangladesh/23.83,88.85.zarr\n",
      "/home/patel_zeel/bkdb/bangladesh/24.00,88.97.zarr\n",
      "/home/patel_zeel/bkdb/bangladesh/23.96,90.08.zarr\n",
      "/home/patel_zeel/bkdb/bangladesh/24.03,89.09.zarr\n",
      "/home/patel_zeel/bkdb/bangladesh/23.70,89.73.zarr\n",
      "/home/patel_zeel/bkdb/bangladesh/24.42,89.88.zarr\n",
      "/home/patel_zeel/bkdb/bangladesh/23.66,89.19.zarr\n",
      "/home/patel_zeel/bkdb/bangladesh/24.12,90.16.zarr\n",
      "/home/patel_zeel/bkdb/bangladesh/24.04,91.22.zarr\n",
      "/home/patel_zeel/bkdb/bangladesh/24.04,90.19.zarr\n",
      "/home/patel_zeel/bkdb/bangladesh/23.48,89.56.zarr\n",
      "/home/patel_zeel/bkdb/bangladesh/23.67,88.68.zarr\n",
      "/home/patel_zeel/bkdb/bangladesh/23.62,90.93.zarr\n",
      "/home/patel_zeel/bkdb/bangladesh/23.90,90.57.zarr\n",
      "/home/patel_zeel/bkdb/bangladesh/23.81,90.31.zarr\n",
      "/home/patel_zeel/bkdb/bangladesh/23.76,90.55.zarr\n",
      "/home/patel_zeel/bkdb/bangladesh/23.94,90.15.zarr\n",
      "/home/patel_zeel/bkdb/bangladesh/23.62,89.83.zarr\n",
      "/home/patel_zeel/bkdb/bangladesh/23.73,89.62.zarr\n",
      "/home/patel_zeel/bkdb/bangladesh/23.90,90.56.zarr\n",
      "/home/patel_zeel/bkdb/bangladesh/24.40,89.98.zarr\n",
      "/home/patel_zeel/bkdb/bangladesh/23.91,88.85.zarr\n",
      "/home/patel_zeel/bkdb/bangladesh/24.05,90.35.zarr\n"
     ]
    },
    {
     "name": "stderr",
     "output_type": "stream",
     "text": [
      " 78%|███████▊  | 800/1020 [00:12<00:03, 70.59it/s]"
     ]
    },
    {
     "name": "stdout",
     "output_type": "stream",
     "text": [
      "/home/patel_zeel/bkdb/bangladesh/23.96,89.59.zarr\n",
      "/home/patel_zeel/bkdb/bangladesh/23.61,90.45.zarr\n",
      "/home/patel_zeel/bkdb/bangladesh/23.75,91.10.zarr\n",
      "/home/patel_zeel/bkdb/bangladesh/24.10,90.34.zarr\n",
      "/home/patel_zeel/bkdb/bangladesh/23.61,90.46.zarr\n",
      "/home/patel_zeel/bkdb/bangladesh/23.51,91.19.zarr\n",
      "/home/patel_zeel/bkdb/bangladesh/23.65,90.44.zarr\n",
      "/home/patel_zeel/bkdb/bangladesh/23.99,90.35.zarr\n",
      "/home/patel_zeel/bkdb/bangladesh/24.39,89.55.zarr\n",
      "/home/patel_zeel/bkdb/bangladesh/23.76,89.63.zarr\n",
      "/home/patel_zeel/bkdb/bangladesh/23.71,90.56.zarr\n",
      "/home/patel_zeel/bkdb/bangladesh/24.37,88.90.zarr\n",
      "/home/patel_zeel/bkdb/bangladesh/24.14,90.55.zarr\n",
      "/home/patel_zeel/bkdb/bangladesh/24.27,90.48.zarr\n",
      "/home/patel_zeel/bkdb/bangladesh/24.09,90.14.zarr\n",
      "/home/patel_zeel/bkdb/bangladesh/24.41,90.81.zarr\n",
      "/home/patel_zeel/bkdb/bangladesh/24.22,91.51.zarr\n",
      "/home/patel_zeel/bkdb/bangladesh/23.63,89.54.zarr\n",
      "/home/patel_zeel/bkdb/bangladesh/23.76,89.50.zarr\n",
      "/home/patel_zeel/bkdb/bangladesh/23.78,89.65.zarr\n",
      "/home/patel_zeel/bkdb/bangladesh/24.38,90.73.zarr\n",
      "/home/patel_zeel/bkdb/bangladesh/23.66,90.45.zarr\n",
      "/home/patel_zeel/bkdb/bangladesh/23.61,90.47.zarr\n",
      "/home/patel_zeel/bkdb/bangladesh/23.57,88.71.zarr\n",
      "/home/patel_zeel/bkdb/bangladesh/23.91,90.60.zarr\n",
      "/home/patel_zeel/bkdb/bangladesh/23.54,89.87.zarr\n",
      "/home/patel_zeel/bkdb/bangladesh/23.45,91.16.zarr\n",
      "/home/patel_zeel/bkdb/bangladesh/24.08,90.12.zarr\n",
      "/home/patel_zeel/bkdb/bangladesh/24.44,90.08.zarr\n",
      "/home/patel_zeel/bkdb/bangladesh/24.12,90.18.zarr\n"
     ]
    },
    {
     "name": "stderr",
     "output_type": "stream",
     "text": [
      " 82%|████████▏ | 832/1020 [00:13<00:02, 70.82it/s]"
     ]
    },
    {
     "name": "stdout",
     "output_type": "stream",
     "text": [
      "/home/patel_zeel/bkdb/bangladesh/23.99,88.79.zarr\n",
      "/home/patel_zeel/bkdb/bangladesh/23.93,89.04.zarr\n",
      "/home/patel_zeel/bkdb/bangladesh/23.52,89.47.zarr\n",
      "/home/patel_zeel/bkdb/bangladesh/23.60,88.73.zarr\n",
      "/home/patel_zeel/bkdb/bangladesh/24.15,90.05.zarr\n",
      "/home/patel_zeel/bkdb/bangladesh/23.78,89.17.zarr\n",
      "/home/patel_zeel/bkdb/bangladesh/23.91,90.16.zarr\n",
      "/home/patel_zeel/bkdb/bangladesh/23.93,89.14.zarr\n",
      "/home/patel_zeel/bkdb/bangladesh/23.89,90.13.zarr\n",
      "/home/patel_zeel/bkdb/bangladesh/24.31,88.85.zarr\n",
      "/home/patel_zeel/bkdb/bangladesh/24.42,89.90.zarr\n",
      "/home/patel_zeel/bkdb/bangladesh/23.66,90.39.zarr\n",
      "/home/patel_zeel/bkdb/bangladesh/23.81,90.10.zarr\n",
      "/home/patel_zeel/bkdb/bangladesh/23.88,90.59.zarr\n",
      "/home/patel_zeel/bkdb/bangladesh/24.19,88.93.zarr\n",
      "/home/patel_zeel/bkdb/bangladesh/24.44,88.36.zarr\n",
      "/home/patel_zeel/bkdb/bangladesh/23.56,89.15.zarr\n",
      "/home/patel_zeel/bkdb/bangladesh/23.89,90.58.zarr\n",
      "/home/patel_zeel/bkdb/bangladesh/23.50,88.92.zarr\n",
      "/home/patel_zeel/bkdb/bangladesh/23.84,90.83.zarr\n",
      "/home/patel_zeel/bkdb/bangladesh/23.88,90.15.zarr\n",
      "/home/patel_zeel/bkdb/bangladesh/24.01,91.24.zarr\n",
      "/home/patel_zeel/bkdb/bangladesh/24.07,91.25.zarr\n",
      "/home/patel_zeel/bkdb/bangladesh/23.80,90.22.zarr\n",
      "/home/patel_zeel/bkdb/bangladesh/24.42,90.68.zarr\n",
      "/home/patel_zeel/bkdb/bangladesh/24.22,91.53.zarr\n",
      "/home/patel_zeel/bkdb/bangladesh/23.65,90.95.zarr\n",
      "/home/patel_zeel/bkdb/bangladesh/23.91,90.14.zarr\n",
      "/home/patel_zeel/bkdb/bangladesh/23.58,90.87.zarr\n",
      "/home/patel_zeel/bkdb/bangladesh/23.88,90.77.zarr\n",
      "/home/patel_zeel/bkdb/bangladesh/24.10,90.24.zarr\n",
      "/home/patel_zeel/bkdb/bangladesh/24.01,90.19.zarr\n",
      "/home/patel_zeel/bkdb/bangladesh/24.26,89.57.zarr\n",
      "/home/patel_zeel/bkdb/bangladesh/24.43,90.71.zarr\n",
      "/home/patel_zeel/bkdb/bangladesh/23.92,90.75.zarr\n",
      "/home/patel_zeel/bkdb/bangladesh/23.88,89.33.zarr\n",
      "/home/patel_zeel/bkdb/bangladesh/23.92,90.33.zarr\n",
      "/home/patel_zeel/bkdb/bangladesh/24.00,89.19.zarr\n"
     ]
    },
    {
     "name": "stderr",
     "output_type": "stream",
     "text": [
      " 85%|████████▍ | 864/1020 [00:13<00:02, 62.63it/s]"
     ]
    },
    {
     "name": "stdout",
     "output_type": "stream",
     "text": [
      "/home/patel_zeel/bkdb/bangladesh/23.81,90.04.zarr\n",
      "/home/patel_zeel/bkdb/bangladesh/23.83,91.20.zarr\n",
      "/home/patel_zeel/bkdb/bangladesh/23.72,90.99.zarr\n",
      "/home/patel_zeel/bkdb/bangladesh/23.97,90.06.zarr\n",
      "/home/patel_zeel/bkdb/bangladesh/24.24,91.50.zarr\n",
      "/home/patel_zeel/bkdb/bangladesh/24.08,89.24.zarr\n",
      "/home/patel_zeel/bkdb/bangladesh/24.09,91.20.zarr\n",
      "/home/patel_zeel/bkdb/bangladesh/24.37,88.68.zarr\n",
      "/home/patel_zeel/bkdb/bangladesh/24.35,88.74.zarr\n",
      "/home/patel_zeel/bkdb/bangladesh/24.03,89.08.zarr\n",
      "/home/patel_zeel/bkdb/bangladesh/24.07,90.91.zarr\n",
      "/home/patel_zeel/bkdb/bangladesh/23.86,89.19.zarr\n",
      "/home/patel_zeel/bkdb/bangladesh/23.65,90.13.zarr\n",
      "/home/patel_zeel/bkdb/bangladesh/24.27,89.03.zarr\n",
      "/home/patel_zeel/bkdb/bangladesh/24.18,90.79.zarr\n",
      "/home/patel_zeel/bkdb/bangladesh/24.42,88.96.zarr\n",
      "/home/patel_zeel/bkdb/bangladesh/24.23,91.23.zarr\n",
      "/home/patel_zeel/bkdb/bangladesh/24.37,90.75.zarr\n",
      "/home/patel_zeel/bkdb/bangladesh/24.39,90.77.zarr\n",
      "/home/patel_zeel/bkdb/bangladesh/24.04,90.65.zarr\n",
      "/home/patel_zeel/bkdb/bangladesh/23.57,88.96.zarr\n",
      "/home/patel_zeel/bkdb/bangladesh/24.09,90.64.zarr\n",
      "/home/patel_zeel/bkdb/bangladesh/24.44,89.99.zarr\n",
      "/home/patel_zeel/bkdb/bangladesh/23.58,88.96.zarr\n",
      "/home/patel_zeel/bkdb/bangladesh/24.14,91.55.zarr\n",
      "/home/patel_zeel/bkdb/bangladesh/23.65,88.67.zarr\n",
      "/home/patel_zeel/bkdb/bangladesh/24.04,90.62.zarr\n",
      "/home/patel_zeel/bkdb/bangladesh/23.88,90.57.zarr\n",
      "/home/patel_zeel/bkdb/bangladesh/24.18,91.18.zarr\n"
     ]
    },
    {
     "name": "stderr",
     "output_type": "stream",
     "text": [
      " 88%|████████▊ | 896/1020 [00:14<00:01, 64.90it/s]"
     ]
    },
    {
     "name": "stdout",
     "output_type": "stream",
     "text": [
      "/home/patel_zeel/bkdb/bangladesh/23.65,90.46.zarr\n",
      "/home/patel_zeel/bkdb/bangladesh/23.80,90.12.zarr\n",
      "/home/patel_zeel/bkdb/bangladesh/23.78,90.09.zarr\n",
      "/home/patel_zeel/bkdb/bangladesh/23.54,89.74.zarr\n",
      "/home/patel_zeel/bkdb/bangladesh/23.81,91.15.zarr\n",
      "/home/patel_zeel/bkdb/bangladesh/23.54,91.13.zarr\n",
      "/home/patel_zeel/bkdb/bangladesh/23.44,89.41.zarr\n",
      "/home/patel_zeel/bkdb/bangladesh/23.54,89.24.zarr\n",
      "/home/patel_zeel/bkdb/bangladesh/24.42,90.48.zarr\n",
      "/home/patel_zeel/bkdb/bangladesh/23.46,91.00.zarr\n",
      "/home/patel_zeel/bkdb/bangladesh/23.79,90.65.zarr\n",
      "/home/patel_zeel/bkdb/bangladesh/23.90,89.21.zarr\n",
      "/home/patel_zeel/bkdb/bangladesh/23.92,90.34.zarr\n",
      "/home/patel_zeel/bkdb/bangladesh/23.75,91.09.zarr\n",
      "/home/patel_zeel/bkdb/bangladesh/24.14,91.14.zarr\n",
      "/home/patel_zeel/bkdb/bangladesh/23.68,89.18.zarr\n",
      "/home/patel_zeel/bkdb/bangladesh/24.10,91.58.zarr\n",
      "/home/patel_zeel/bkdb/bangladesh/24.03,88.97.zarr\n",
      "/home/patel_zeel/bkdb/bangladesh/23.64,90.94.zarr\n",
      "/home/patel_zeel/bkdb/bangladesh/23.58,91.07.zarr\n",
      "/home/patel_zeel/bkdb/bangladesh/23.55,91.13.zarr\n",
      "/home/patel_zeel/bkdb/bangladesh/23.55,89.86.zarr\n",
      "/home/patel_zeel/bkdb/bangladesh/24.11,91.12.zarr\n",
      "/home/patel_zeel/bkdb/bangladesh/24.32,89.31.zarr\n",
      "/home/patel_zeel/bkdb/bangladesh/23.93,88.98.zarr\n",
      "/home/patel_zeel/bkdb/bangladesh/23.99,90.83.zarr\n",
      "/home/patel_zeel/bkdb/bangladesh/23.78,89.29.zarr\n",
      "/home/patel_zeel/bkdb/bangladesh/23.56,88.85.zarr\n",
      "/home/patel_zeel/bkdb/bangladesh/23.64,90.46.zarr\n",
      "/home/patel_zeel/bkdb/bangladesh/23.46,91.21.zarr\n",
      "/home/patel_zeel/bkdb/bangladesh/23.79,90.59.zarr\n"
     ]
    },
    {
     "name": "stderr",
     "output_type": "stream",
     "text": [
      " 91%|█████████ | 928/1020 [00:14<00:01, 66.48it/s]"
     ]
    },
    {
     "name": "stdout",
     "output_type": "stream",
     "text": [
      "/home/patel_zeel/bkdb/bangladesh/24.12,90.98.zarr\n",
      "/home/patel_zeel/bkdb/bangladesh/23.96,91.07.zarr\n",
      "/home/patel_zeel/bkdb/bangladesh/24.03,88.93.zarr\n",
      "/home/patel_zeel/bkdb/bangladesh/23.65,90.65.zarr\n",
      "/home/patel_zeel/bkdb/bangladesh/24.38,88.52.zarr\n",
      "/home/patel_zeel/bkdb/bangladesh/23.97,88.90.zarr\n",
      "/home/patel_zeel/bkdb/bangladesh/23.91,88.79.zarr\n",
      "/home/patel_zeel/bkdb/bangladesh/24.27,90.54.zarr\n",
      "/home/patel_zeel/bkdb/bangladesh/24.40,88.95.zarr\n",
      "/home/patel_zeel/bkdb/bangladesh/23.82,89.27.zarr\n",
      "/home/patel_zeel/bkdb/bangladesh/24.26,90.53.zarr\n",
      "/home/patel_zeel/bkdb/bangladesh/23.89,90.18.zarr\n",
      "/home/patel_zeel/bkdb/bangladesh/23.64,90.36.zarr\n",
      "/home/patel_zeel/bkdb/bangladesh/23.94,91.14.zarr\n",
      "/home/patel_zeel/bkdb/bangladesh/23.98,89.24.zarr\n",
      "/home/patel_zeel/bkdb/bangladesh/23.50,91.16.zarr\n",
      "/home/patel_zeel/bkdb/bangladesh/24.10,91.20.zarr\n",
      "/home/patel_zeel/bkdb/bangladesh/24.10,90.14.zarr\n",
      "/home/patel_zeel/bkdb/bangladesh/23.86,90.68.zarr\n",
      "/home/patel_zeel/bkdb/bangladesh/23.97,90.19.zarr\n",
      "/home/patel_zeel/bkdb/bangladesh/24.21,91.09.zarr\n",
      "/home/patel_zeel/bkdb/bangladesh/24.44,88.90.zarr\n",
      "/home/patel_zeel/bkdb/bangladesh/24.42,88.97.zarr\n",
      "/home/patel_zeel/bkdb/bangladesh/23.94,90.24.zarr\n",
      "/home/patel_zeel/bkdb/bangladesh/24.06,90.92.zarr\n",
      "/home/patel_zeel/bkdb/bangladesh/23.93,88.99.zarr\n",
      "/home/patel_zeel/bkdb/bangladesh/24.33,89.54.zarr\n",
      "/home/patel_zeel/bkdb/bangladesh/23.88,90.46.zarr\n",
      "/home/patel_zeel/bkdb/bangladesh/23.61,90.86.zarr\n",
      "/home/patel_zeel/bkdb/bangladesh/23.92,90.95.zarr\n"
     ]
    },
    {
     "name": "stderr",
     "output_type": "stream",
     "text": [
      " 94%|█████████▍| 960/1020 [00:15<00:00, 67.82it/s]"
     ]
    },
    {
     "name": "stdout",
     "output_type": "stream",
     "text": [
      "/home/patel_zeel/bkdb/bangladesh/24.27,89.41.zarr\n",
      "/home/patel_zeel/bkdb/bangladesh/24.22,91.50.zarr\n",
      "/home/patel_zeel/bkdb/bangladesh/23.67,90.43.zarr\n",
      "/home/patel_zeel/bkdb/bangladesh/24.22,90.93.zarr\n",
      "/home/patel_zeel/bkdb/bangladesh/24.30,90.56.zarr\n",
      "/home/patel_zeel/bkdb/bangladesh/24.41,89.65.zarr\n",
      "/home/patel_zeel/bkdb/bangladesh/24.24,89.58.zarr\n",
      "/home/patel_zeel/bkdb/bangladesh/24.03,90.30.zarr\n",
      "/home/patel_zeel/bkdb/bangladesh/24.40,88.51.zarr\n",
      "/home/patel_zeel/bkdb/bangladesh/23.49,90.62.zarr\n",
      "/home/patel_zeel/bkdb/bangladesh/24.05,91.22.zarr\n",
      "/home/patel_zeel/bkdb/bangladesh/23.60,89.18.zarr\n",
      "/home/patel_zeel/bkdb/bangladesh/24.11,89.48.zarr\n",
      "/home/patel_zeel/bkdb/bangladesh/23.97,90.05.zarr\n",
      "/home/patel_zeel/bkdb/bangladesh/23.90,88.90.zarr\n",
      "/home/patel_zeel/bkdb/bangladesh/24.41,89.45.zarr\n",
      "/home/patel_zeel/bkdb/bangladesh/24.08,90.94.zarr\n",
      "/home/patel_zeel/bkdb/bangladesh/23.89,90.05.zarr\n",
      "/home/patel_zeel/bkdb/bangladesh/23.69,89.70.zarr\n",
      "/home/patel_zeel/bkdb/bangladesh/23.82,91.18.zarr\n",
      "/home/patel_zeel/bkdb/bangladesh/24.31,90.55.zarr\n",
      "/home/patel_zeel/bkdb/bangladesh/23.65,90.40.zarr\n",
      "/home/patel_zeel/bkdb/bangladesh/24.17,90.68.zarr\n",
      "/home/patel_zeel/bkdb/bangladesh/24.02,89.12.zarr\n",
      "/home/patel_zeel/bkdb/bangladesh/23.94,90.61.zarr\n",
      "/home/patel_zeel/bkdb/bangladesh/24.23,90.92.zarr\n",
      "/home/patel_zeel/bkdb/bangladesh/23.78,90.31.zarr\n",
      "/home/patel_zeel/bkdb/bangladesh/23.69,88.65.zarr\n",
      "/home/patel_zeel/bkdb/bangladesh/24.21,91.51.zarr\n",
      "/home/patel_zeel/bkdb/bangladesh/23.99,90.36.zarr\n"
     ]
    },
    {
     "name": "stderr",
     "output_type": "stream",
     "text": [
      "100%|██████████| 1020/1020 [00:15<00:00, 64.64it/s]"
     ]
    },
    {
     "name": "stdout",
     "output_type": "stream",
     "text": [
      "/home/patel_zeel/bkdb/bangladesh/23.55,89.21.zarr\n",
      "/home/patel_zeel/bkdb/bangladesh/24.43,91.92.zarr\n",
      "/home/patel_zeel/bkdb/bangladesh/23.64,90.43.zarr\n",
      "/home/patel_zeel/bkdb/bangladesh/23.71,90.15.zarr\n",
      "/home/patel_zeel/bkdb/bangladesh/23.57,89.13.zarr\n",
      "/home/patel_zeel/bkdb/bangladesh/23.56,89.79.zarr\n",
      "/home/patel_zeel/bkdb/bangladesh/23.67,90.22.zarr\n",
      "/home/patel_zeel/bkdb/bangladesh/24.08,88.89.zarr\n",
      "/home/patel_zeel/bkdb/bangladesh/24.11,90.59.zarr\n",
      "/home/patel_zeel/bkdb/bangladesh/24.09,90.85.zarr\n",
      "/home/patel_zeel/bkdb/bangladesh/23.92,90.64.zarr\n",
      "/home/patel_zeel/bkdb/bangladesh/23.96,89.84.zarr\n",
      "/home/patel_zeel/bkdb/bangladesh/23.84,89.83.zarr\n",
      "/home/patel_zeel/bkdb/bangladesh/24.11,90.10.zarr\n",
      "/home/patel_zeel/bkdb/bangladesh/23.83,89.01.zarr\n"
     ]
    },
    {
     "name": "stderr",
     "output_type": "stream",
     "text": [
      "\n"
     ]
    },
    {
     "name": "stdout",
     "output_type": "stream",
     "text": [
      "/home/patel_zeel/bkdb/bangladesh/23.83,90.02.zarr\n",
      "/home/patel_zeel/bkdb/bangladesh/23.99,89.21.zarr\n",
      "/home/patel_zeel/bkdb/bangladesh/23.75,90.54.zarr\n",
      "/home/patel_zeel/bkdb/bangladesh/23.76,90.20.zarr\n",
      "/home/patel_zeel/bkdb/bangladesh/23.99,89.23.zarr\n",
      "/home/patel_zeel/bkdb/bangladesh/23.96,89.25.zarr\n",
      "/home/patel_zeel/bkdb/bangladesh/24.06,91.00.zarr\n",
      "/home/patel_zeel/bkdb/bangladesh/23.50,90.97.zarr\n",
      "/home/patel_zeel/bkdb/bangladesh/23.55,89.20.zarr\n",
      "/home/patel_zeel/bkdb/bangladesh/23.50,90.95.zarr\n",
      "/home/patel_zeel/bkdb/bangladesh/24.07,90.63.zarr\n",
      "/home/patel_zeel/bkdb/bangladesh/23.90,89.62.zarr\n",
      "/home/patel_zeel/bkdb/bangladesh/24.28,89.00.zarr\n",
      "/home/patel_zeel/bkdb/bangladesh/24.04,90.33.zarr\n",
      "/home/patel_zeel/bkdb/bangladesh/24.00,91.12.zarr\n",
      "/home/patel_zeel/bkdb/bangladesh/23.93,90.15.zarr\n",
      "/home/patel_zeel/bkdb/bangladesh/23.47,91.14.zarr\n",
      "/home/patel_zeel/bkdb/bangladesh/24.18,91.50.zarr\n",
      "/home/patel_zeel/bkdb/bangladesh/24.17,89.43.zarr\n",
      "/home/patel_zeel/bkdb/bangladesh/23.60,89.11.zarr\n",
      "/home/patel_zeel/bkdb/bangladesh/23.53,89.21.zarr\n",
      "/home/patel_zeel/bkdb/bangladesh/23.82,88.67.zarr\n",
      "/home/patel_zeel/bkdb/bangladesh/23.68,90.94.zarr\n",
      "/home/patel_zeel/bkdb/bangladesh/23.78,88.68.zarr\n",
      "/home/patel_zeel/bkdb/bangladesh/24.41,88.72.zarr\n",
      "/home/patel_zeel/bkdb/bangladesh/24.28,90.54.zarr\n",
      "/home/patel_zeel/bkdb/bangladesh/23.96,89.27.zarr\n",
      "/home/patel_zeel/bkdb/bangladesh/23.81,88.62.zarr\n",
      "/home/patel_zeel/bkdb/bangladesh/23.63,91.15.zarr\n",
      "/home/patel_zeel/bkdb/bangladesh/23.94,90.35.zarr\n",
      "/home/patel_zeel/bkdb/bangladesh/23.96,89.28.zarr\n",
      "/home/patel_zeel/bkdb/bangladesh/23.61,89.78.zarr\n",
      "/home/patel_zeel/bkdb/bangladesh/23.49,90.61.zarr\n",
      "/home/patel_zeel/bkdb/bangladesh/23.91,90.33.zarr\n",
      "/home/patel_zeel/bkdb/bangladesh/23.64,89.71.zarr\n",
      "/home/patel_zeel/bkdb/bangladesh/23.88,89.67.zarr\n",
      "/home/patel_zeel/bkdb/bangladesh/24.10,90.70.zarr\n",
      "/home/patel_zeel/bkdb/bangladesh/23.54,91.08.zarr\n",
      "/home/patel_zeel/bkdb/bangladesh/23.64,90.48.zarr\n",
      "/home/patel_zeel/bkdb/bangladesh/24.39,88.93.zarr\n",
      "/home/patel_zeel/bkdb/bangladesh/23.68,88.61.zarr\n",
      "/home/patel_zeel/bkdb/bangladesh/23.45,91.21.zarr\n",
      "/home/patel_zeel/bkdb/bangladesh/23.99,90.30.zarr\n",
      "/home/patel_zeel/bkdb/bangladesh/24.37,89.41.zarr\n",
      "/home/patel_zeel/bkdb/bangladesh/24.01,89.12.zarr\n",
      "/home/patel_zeel/bkdb/bangladesh/23.93,90.16.zarr\n",
      "/home/patel_zeel/bkdb/bangladesh/24.11,91.23.zarr\n",
      "/home/patel_zeel/bkdb/bangladesh/23.97,89.26.zarr\n",
      "/home/patel_zeel/bkdb/bangladesh/23.48,89.39.zarr\n",
      "/home/patel_zeel/bkdb/bangladesh/24.10,90.10.zarr\n",
      "/home/patel_zeel/bkdb/bangladesh/24.36,89.67.zarr\n",
      "/home/patel_zeel/bkdb/bangladesh/23.81,88.72.zarr\n",
      "/home/patel_zeel/bkdb/bangladesh/23.99,89.20.zarr\n",
      "/home/patel_zeel/bkdb/bangladesh/23.52,88.81.zarr\n",
      "/home/patel_zeel/bkdb/bangladesh/23.99,91.12.zarr\n",
      "/home/patel_zeel/bkdb/bangladesh/23.81,90.11.zarr\n",
      "/home/patel_zeel/bkdb/bangladesh/24.08,91.26.zarr\n",
      "/home/patel_zeel/bkdb/bangladesh/23.46,90.30.zarr\n",
      "<U17 torch.uint8 torch.uint8\n",
      "torch.uint8\n",
      "(25500,) torch.Size([25500, 3, 224, 224]) torch.Size([25500])\n"
     ]
    }
   ],
   "source": [
    "def get_index_and_image(file):\n",
    "    index = []\n",
    "    images = []\n",
    "    labels = []\n",
    "    base_name = basename(file)\n",
    "    # print(base_name)\n",
    "    image_path = join(images_path, base_name).replace(\".nc\", \".zarr\")\n",
    "    print(image_path)\n",
    "    # print()\n",
    "    label_ds = xr.open_dataset(file)\n",
    "    # print (label_ds)\n",
    "    image_ds = xr.open_zarr(image_path, consolidated=False)\n",
    "    # image = image_ds.data.reshape(-1, 224, 224, 3)\n",
    "    for lat_lag, lon_lag in product(range(-2, 3), repeat=2):\n",
    "        index.append(base_name.replace(\".nc\", \"\")+f\"_{lat_lag}_{lon_lag}\")\n",
    "        images.append(torch.tensor(image_ds.sel(lat_lag=lat_lag, lon_lag=lon_lag)['data'].values)[np.newaxis, ...])\n",
    "        labels.append(torch.tensor((label_ds.sel(lat_lag=lat_lag, lon_lag=lon_lag)['label'].values != \"O\").astype(np.uint8)))\n",
    "        \n",
    "    return index, images, labels\n",
    "\n",
    "\n",
    "\n",
    "def get_data():\n",
    "    out = Parallel(n_jobs=32)(delayed(get_index_and_image)(file) for file in tqdm(files, total=len(files)))\n",
    "    index = np.concatenate([np.array(idx) for idx, _, _ in out])\n",
    "    images = torch.concat([torch.einsum(\"nhwc->nchw\", torch.concat(imgs)) for _, imgs, _ in out])\n",
    "    # scale\n",
    "    # images = images / 255\n",
    "    # mean normalize\n",
    "    # images = (images - images.mean(dim=(0, 2, 3), keepdim=True)) / images.std(dim=(0, 2, 3), keepdim=True)\n",
    "    \n",
    "    labels = np.concatenate([np.array(lbl) for _, _, lbl in out])\n",
    "    labels = torch.tensor(labels, dtype=torch.uint8)\n",
    "    #check the all dytpes\n",
    "    print(index.dtype, images.dtype, labels.dtype)\n",
    "    return index, images, labels\n",
    "\n",
    "index, images, labels = get_data()\n",
    "print(images.dtype)\n",
    "print(index.shape, images.shape, labels.shape)    "
   ]
  },
  {
   "cell_type": "code",
   "execution_count": 11,
   "metadata": {},
   "outputs": [
    {
     "name": "stdout",
     "output_type": "stream",
     "text": [
      "torch.uint8\n",
      "torch.uint8\n"
     ]
    }
   ],
   "source": [
    "print(images.dtype)\n",
    "print(labels.dtype)"
   ]
  },
  {
   "cell_type": "markdown",
   "metadata": {},
   "source": [
    "### dont run the below cell otherwise it will overwrite the data"
   ]
  },
  {
   "cell_type": "code",
   "execution_count": 12,
   "metadata": {},
   "outputs": [],
   "source": [
    "# save the tensors data \n",
    "# print(images.dtype)\n",
    "# save_path=\"/home/rishabh.mondal/Brick-Kilns-project/albk_rishabh/tensor_data/data.pt\"\n",
    "# torch.save({\n",
    "#     'index': index,\n",
    "#     'images': images,\n",
    "#     'labels': labels\n",
    "# }, save_path)"
   ]
  },
  {
   "cell_type": "markdown",
   "metadata": {},
   "source": [
    "### You can run the below cell if you want to access the data"
   ]
  },
  {
   "cell_type": "code",
   "execution_count": 3,
   "metadata": {},
   "outputs": [],
   "source": [
    "# Load the saved tensors\n",
    "loaded_data = torch.load(\"/home/rishabh.mondal/Brick-Kilns-project/albk_rishabh/tensor_data/test_data.pt\")\n",
    "\n",
    "# Access the tensors\n",
    "index = loaded_data['index']\n",
    "images = loaded_data['images']\n",
    "labels = loaded_data['labels']\n"
   ]
  },
  {
   "cell_type": "code",
   "execution_count": 4,
   "metadata": {},
   "outputs": [
    {
     "name": "stdout",
     "output_type": "stream",
     "text": [
      "(10025,) torch.Size([10025, 3, 224, 224]) torch.Size([10025])\n"
     ]
    }
   ],
   "source": [
    "print(index.shape, images.shape, labels.shape)  "
   ]
  },
  {
   "cell_type": "code",
   "execution_count": 5,
   "metadata": {},
   "outputs": [
    {
     "data": {
      "text/plain": [
       "(torch.uint8, torch.uint8, dtype('<U17'))"
      ]
     },
     "execution_count": 5,
     "metadata": {},
     "output_type": "execute_result"
    }
   ],
   "source": [
    "images.dtype, labels.dtype, index.dtype"
   ]
  },
  {
   "cell_type": "markdown",
   "metadata": {},
   "source": [
    "### For mannual splitting of data into train and test set\n",
    "\n"
   ]
  },
  {
   "cell_type": "markdown",
   "metadata": {},
   "source": [
    "### Stratified Cross Validation spliting of data into train and test set"
   ]
  },
  {
   "cell_type": "code",
   "execution_count": 6,
   "metadata": {},
   "outputs": [
    {
     "name": "stdout",
     "output_type": "stream",
     "text": [
      "Counter({0: 6737, 1: 781})\n",
      "Counter({0: 2246, 1: 261})\n",
      "Fold 1 - Train: Counter({0: 6737, 1: 781}), Test: Counter({0: 2246, 1: 261})\n",
      "Counter({0: 6737, 1: 782})\n",
      "Counter({0: 2246, 1: 260})\n",
      "Fold 2 - Train: Counter({0: 6737, 1: 782}), Test: Counter({0: 2246, 1: 260})\n",
      "Counter({0: 6737, 1: 782})\n",
      "Counter({0: 2246, 1: 260})\n",
      "Fold 3 - Train: Counter({0: 6737, 1: 782}), Test: Counter({0: 2246, 1: 260})\n",
      "Counter({0: 6738, 1: 781})\n",
      "Counter({0: 2245, 1: 261})\n",
      "Fold 4 - Train: Counter({0: 6738, 1: 781}), Test: Counter({0: 2245, 1: 261})\n"
     ]
    }
   ],
   "source": [
    "import torch\n",
    "from collections import Counter\n",
    "\n",
    "fold_data = []  # List to store data from each fold\n",
    "\n",
    "seed = 42  # Use your desired random seed\n",
    "splitter = StratifiedKFold(n_splits=4, shuffle=True, random_state=seed)\n",
    "images = images / 255\n",
    "    # mean normalize\n",
    "images = (images - images.mean(dim=(0, 2, 3), keepdim=True)) / images.std(dim=(0, 2, 3), keepdim=True)\n",
    "for fold, (train_idx, test_idx) in enumerate(splitter.split(images, labels)):\n",
    "    X_train, X_test = images[train_idx], images[test_idx]\n",
    "    y_train, y_test = labels[train_idx], labels[test_idx]\n",
    "\n",
    "    # Count occurrences of each class in train and test sets\n",
    "    train_counter = Counter(y_train.numpy())\n",
    "    test_counter = Counter(y_test.numpy())\n",
    "    print(train_counter)\n",
    "    print(test_counter)\n",
    "    print(f\"Fold {fold + 1} - Train: {train_counter}, Test: {test_counter}\")\n",
    "\n",
    "    fold_data.append({\n",
    "        'fold': fold + 1,\n",
    "        'X_train': X_train,\n",
    "        'X_test': X_test,\n",
    "        'y_train': y_train,\n",
    "        'y_test': y_test,\n",
    "        'train_counter': train_counter,\n",
    "        'test_counter': test_counter\n",
    "    })\n",
    "\n",
    "# Save the list of fold data using torch.save\n",
    "# torch.save(fold_data, 'f/home/rishabh.mondal/Brick-Kilns-project/albk_rishabh/cross_val_data/fold_data.pt')\n"
   ]
  },
  {
   "cell_type": "code",
   "execution_count": null,
   "metadata": {},
   "outputs": [],
   "source": []
  }
 ],
 "metadata": {
  "kernelspec": {
   "display_name": "torch_space",
   "language": "python",
   "name": "python3"
  },
  "language_info": {
   "codemirror_mode": {
    "name": "ipython",
    "version": 3
   },
   "file_extension": ".py",
   "mimetype": "text/x-python",
   "name": "python",
   "nbconvert_exporter": "python",
   "pygments_lexer": "ipython3",
   "version": "3.11.5"
  }
 },
 "nbformat": 4,
 "nbformat_minor": 2
}
