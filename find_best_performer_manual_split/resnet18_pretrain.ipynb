{
 "cells": [
  {
   "cell_type": "code",
   "execution_count": 1,
   "metadata": {},
   "outputs": [],
   "source": [
    "import os\n",
    "os.environ[\"CUDA_VISIBLE_DEVICES\"] = \"0\"\n",
    "import torch\n",
    "import torch.nn as nn\n",
    "from glob import glob\n",
    "from os.path import expanduser, join, basename, dirname\n",
    "import xarray as xr\n",
    "import numpy as np\n",
    "from tqdm import tqdm\n",
    "import pandas as pd\n",
    "import matplotlib.pyplot as plt\n",
    "from joblib import Parallel, delayed\n",
    "from itertools import product\n",
    "from torch.utils.data import TensorDataset, DataLoader\n",
    "from astra.torch.models import ResNetClassifier,ResNet18_Weights\n",
    "from astra.torch.utils import train_fn\n",
    "\n",
    "import torchvision.models as models\n",
    "from astra.torch.metrics import accuracy_score, f1_score, precision_score, recall_score,classification_report"
   ]
  },
  {
   "cell_type": "code",
   "execution_count": 2,
   "metadata": {},
   "outputs": [
    {
     "name": "stdout",
     "output_type": "stream",
     "text": [
      "torch.Size([25500, 3, 224, 224])\n",
      "torch.Size([25500])\n",
      "tensor([0, 0, 0,  ..., 1, 0, 0], dtype=torch.uint8)\n",
      "{0: 23803, 1: 1697}\n",
      "Number of 1s(train ): 1085\n",
      "Number of 0s(train): 15915\n"
     ]
    }
   ],
   "source": [
    "# Load the saved tensors\n",
    "loaded_data = torch.load(\"/home/rishabh.mondal/Brick-Kilns-project/albk_rishabh/tensor_data/data.pt\")\n",
    "\n",
    "# Access the tensors\n",
    "index = loaded_data['index']\n",
    "images = loaded_data['images']\n",
    "labels = loaded_data['labels']\n",
    "images = images / 255\n",
    "# mean normalize\n",
    "images = (images - images.mean(dim=(0, 2, 3), keepdim=True)) / images.std(dim=(0, 2, 3), keepdim=True)\n",
    "#print shape of tensors\n",
    "print(images.shape)\n",
    "print(labels.shape)\n",
    "#print the labels\n",
    "print(labels)\n",
    "#count the number of unique labels\n",
    "# count the number of 1s and 0s\n",
    "unique, counts = np.unique(labels, return_counts=True)\n",
    "print(dict(zip(unique, counts)))\n",
    "\n",
    "subset_labels = labels[:17000]   \n",
    "num_ones = np.count_nonzero(subset_labels == 1)\n",
    "num_zeros = np.count_nonzero(subset_labels == 0)\n",
    "\n",
    "print(f\"Number of 1s(train ): {num_ones}\")\n",
    "print(f\"Number of 0s(train): {num_zeros}\")"
   ]
  },
  {
   "cell_type": "code",
   "execution_count": 7,
   "metadata": {},
   "outputs": [
    {
     "name": "stdout",
     "output_type": "stream",
     "text": [
      "torch.float32\n",
      "torch.uint8\n"
     ]
    },
    {
     "ename": "",
     "evalue": "",
     "output_type": "error",
     "traceback": [
      "\u001b[1;31mThe Kernel crashed while executing code in the the current cell or a previous cell. Please review the code in the cell(s) to identify a possible cause of the failure. Click <a href='https://aka.ms/vscodeJupyterKernelCrash'>here</a> for more info. View Jupyter <a href='command:jupyter.viewOutput'>log</a> for further details."
     ]
    }
   ],
   "source": [
    "#check the data type of the tensors\n",
    "print(images.dtype)\n",
    "print(labels.dtype)\n"
   ]
  },
  {
   "cell_type": "code",
   "execution_count": 3,
   "metadata": {},
   "outputs": [
    {
     "name": "stdout",
     "output_type": "stream",
     "text": [
      "17000\n",
      "8500\n",
      "cuda\n"
     ]
    }
   ],
   "source": [
    "train_dataset = TensorDataset(images[:17000], labels[:17000])\n",
    "\n",
    "test_dataset = TensorDataset(images[17000:], labels[17000:])\n",
    "\n",
    "print(len(train_dataset))\n",
    "print(len(test_dataset))\n",
    "batch_size = 64\n",
    "train_loader = DataLoader(train_dataset, batch_size=batch_size, shuffle=True)\n",
    "test_loader = DataLoader(test_dataset, batch_size=batch_size, shuffle=False)\n",
    "device = torch.device(\"cuda\" if torch.cuda.is_available() else \"cpu\")\n",
    "print(device)"
   ]
  },
  {
   "cell_type": "code",
   "execution_count": 4,
   "metadata": {},
   "outputs": [
    {
     "name": "stderr",
     "output_type": "stream",
     "text": [
      "/home/rishabh.mondal/miniconda3/envs/torch_space/lib/python3.11/site-packages/torchvision/models/_utils.py:223: UserWarning: Arguments other than a weight enum or `None` for 'weights' are deprecated since 0.13 and may be removed in the future. The current behavior is equivalent to passing `weights=ResNet18_Weights.IMAGENET1K_V1`. You can also use `weights=ResNet18_Weights.DEFAULT` to get the most up-to-date weights.\n",
      "  warnings.warn(msg)\n",
      "Loss: 0.07359987: 100%|██████████| 1/1 [00:14<00:00, 14.44s/it]\n"
     ]
    }
   ],
   "source": [
    "train_model = ResNetClassifier(\n",
    "    models.resnet18,ResNet18_Weights, n_classes=2, activation=nn.ReLU(), dropout=0.1\n",
    ").to(device)\n",
    "\n",
    "iter_losses, epoch_losses = train_fn(\n",
    "    train_model,\n",
    "    nn.CrossEntropyLoss(),\n",
    "    dataloader=train_loader,\n",
    "    lr=3e-4,\n",
    "    epochs=1,\n",
    "    verbose=True,\n",
    "    wandb_log=False,\n",
    ")"
   ]
  },
  {
   "cell_type": "code",
   "execution_count": 5,
   "metadata": {},
   "outputs": [
    {
     "data": {
      "text/plain": [
       "[<matplotlib.lines.Line2D at 0x7f577d47dfd0>]"
      ]
     },
     "execution_count": 5,
     "metadata": {},
     "output_type": "execute_result"
    },
    {
     "data": {
      "image/png": "[encoded data removed]",
      "text/plain": [
       "<Figure size 640x480 with 1 Axes>"
      ]
     },
     "metadata": {},
     "output_type": "display_data"
    }
   ],
   "source": [
    "plt.plot(epoch_losses)"
   ]
  },
  {
   "cell_type": "code",
   "execution_count": 6,
   "metadata": {},
   "outputs": [
    {
     "name": "stderr",
     "output_type": "stream",
     "text": [
      "100%|██████████| 133/133 [00:02<00:00, 44.50it/s]\n"
     ]
    },
    {
     "ename": "RuntimeError",
     "evalue": "The size of tensor a (8500) must match the size of tensor b (25500) at non-singleton dimension 0",
     "output_type": "error",
     "traceback": [
      "\u001b[0;31m---------------------------------------------------------------------------\u001b[0m",
      "\u001b[0;31mRuntimeError\u001b[0m                              Traceback (most recent call last)",
      "Cell \u001b[0;32mIn[6], line 7\u001b[0m\n\u001b[1;32m      2\u001b[0m     pred_classes \u001b[38;5;241m=\u001b[39mtrain_model\u001b[38;5;241m.\u001b[39mpredict_class(\n\u001b[1;32m      3\u001b[0m         dataloader\u001b[38;5;241m=\u001b[39mtest_loader, batch_size\u001b[38;5;241m=\u001b[39m\u001b[38;5;241m254\u001b[39m, verbose\u001b[38;5;241m=\u001b[39m\u001b[38;5;28;01mTrue\u001b[39;00m\n\u001b[1;32m      4\u001b[0m     )\u001b[38;5;241m.\u001b[39mto(device)\n\u001b[1;32m      6\u001b[0m test_labels \u001b[38;5;241m=\u001b[39m labels\u001b[38;5;241m.\u001b[39mto(device)\n\u001b[0;32m----> 7\u001b[0m \u001b[38;5;28mprint\u001b[39m(\u001b[38;5;124m\"\u001b[39m\u001b[38;5;124mAccuracy: \u001b[39m\u001b[38;5;124m\"\u001b[39m, \u001b[43maccuracy_score\u001b[49m\u001b[43m(\u001b[49m\u001b[43mpred_classes\u001b[49m\u001b[43m,\u001b[49m\u001b[43mtest_labels\u001b[49m\u001b[43m)\u001b[49m)\n\u001b[1;32m      8\u001b[0m \u001b[38;5;28mprint\u001b[39m(\u001b[38;5;124m\"\u001b[39m\u001b[38;5;124mPrecision: \u001b[39m\u001b[38;5;124m\"\u001b[39m, precision_score(pred_classes,test_labels))\n\u001b[1;32m      9\u001b[0m \u001b[38;5;28mprint\u001b[39m(\u001b[38;5;124m\"\u001b[39m\u001b[38;5;124mRecall: \u001b[39m\u001b[38;5;124m\"\u001b[39m, recall_score(pred_classes,test_labels))\n",
      "File \u001b[0;32m~/ASTRA/astra/torch/metrics.py:5\u001b[0m, in \u001b[0;36maccuracy_score\u001b[0;34m(y_pred, y)\u001b[0m\n\u001b[1;32m      4\u001b[0m \u001b[38;5;28;01mdef\u001b[39;00m \u001b[38;5;21maccuracy_score\u001b[39m(y_pred, y):\n\u001b[0;32m----> 5\u001b[0m     \u001b[38;5;28;01mreturn\u001b[39;00m (\u001b[43my_pred\u001b[49m\u001b[43m \u001b[49m\u001b[38;5;241;43m==\u001b[39;49m\u001b[43m \u001b[49m\u001b[43my\u001b[49m)\u001b[38;5;241m.\u001b[39mfloat()\u001b[38;5;241m.\u001b[39mmean()\n",
      "\u001b[0;31mRuntimeError\u001b[0m: The size of tensor a (8500) must match the size of tensor b (25500) at non-singleton dimension 0"
     ]
    }
   ],
   "source": [
    "with torch.no_grad():\n",
    "    pred_classes =train_model.predict_class(\n",
    "        dataloader=test_loader, batch_size=254, verbose=True\n",
    "    ).to(device)\n",
    "\n",
    "test_labels = labels.to(device)\n",
    "print(\"Accuracy: \", accuracy_score(pred_classes,test_labels))\n",
    "print(\"Precision: \", precision_score(pred_classes,test_labels))\n",
    "print(\"Recall: \", recall_score(pred_classes,test_labels))\n",
    "print(\"F1: \", f1_score(pred_classes,test_labels))\n",
    "print(\"classification report: \", classification_report(pred_classes,test_labels))"
   ]
  },
  {
   "cell_type": "code",
   "execution_count": null,
   "metadata": {},
   "outputs": [],
   "source": []
  }
 ],
 "metadata": {
  "kernelspec": {
   "display_name": "torch_space",
   "language": "python",
   "name": "python3"
  },
  "language_info": {
   "codemirror_mode": {
    "name": "ipython",
    "version": 3
   },
   "file_extension": ".py",
   "mimetype": "text/x-python",
   "name": "python",
   "nbconvert_exporter": "python",
   "pygments_lexer": "ipython3",
   "version": "3.11.5"
  }
 },
 "nbformat": 4,
 "nbformat_minor": 2
}
