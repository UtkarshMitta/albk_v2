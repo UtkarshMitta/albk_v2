{
 "cells": [
  {
   "cell_type": "code",
   "execution_count": 2,
   "metadata": {},
   "outputs": [],
   "source": [
    "import os\n",
    "os.environ[\"CUDA_VISIBLE_DEVICES\"] = \"0\"\n",
    "import torch\n",
    "import torch.nn as nn\n",
    "from glob import glob\n",
    "from os.path import expanduser, join, basename, dirname\n",
    "import xarray as xr\n",
    "import numpy as np\n",
    "from tqdm import tqdm\n",
    "import pandas as pd\n",
    "import matplotlib.pyplot as plt\n",
    "from joblib import Parallel, delayed\n",
    "from itertools import product\n",
    "from torch.utils.data import TensorDataset, DataLoader\n",
    "from astra.torch.models import ResNetClassifier,ResNet18_Weights\n",
    "from astra.torch.utils import train_fn\n",
    "\n",
    "import torchvision.models as models\n",
    "from astra.torch.metrics import accuracy_score, f1_score, precision_score, recall_score,classification_report"
   ]
  },
  {
   "cell_type": "code",
   "execution_count": 3,
   "metadata": {},
   "outputs": [
    {
     "name": "stdout",
     "output_type": "stream",
     "text": [
      "torch.Size([25500, 3, 224, 224])\n",
      "torch.Size([25500])\n",
      "tensor([0, 0, 0,  ..., 1, 0, 0], dtype=torch.uint8)\n",
      "{0: 23803, 1: 1697}\n",
      "Number of 1s(train ): 1085\n",
      "Number of 0s(train): 15915\n"
     ]
    }
   ],
   "source": [
    "# Load the saved tensors\n",
    "loaded_data = torch.load(\"/home/rishabh.mondal/Brick-Kilns-project/albk_rishabh/tensor_data/data.pt\")\n",
    "\n",
    "# Access the tensors\n",
    "index = loaded_data['index']\n",
    "images = loaded_data['images']\n",
    "labels = loaded_data['labels']\n",
    "images = images / 255\n",
    "# mean normalize\n",
    "images = (images - images.mean(dim=(0, 2, 3), keepdim=True)) / images.std(dim=(0, 2, 3), keepdim=True)\n",
    "#print shape of tensors\n",
    "print(images.shape)\n",
    "print(labels.shape)\n",
    "#print the labels\n",
    "print(labels)\n",
    "#count the number of unique labels\n",
    "# count the number of 1s and 0s\n",
    "unique, counts = np.unique(labels, return_counts=True)\n",
    "print(dict(zip(unique, counts)))\n",
    "\n",
    "subset_labels = labels[:17000]   \n",
    "num_ones = np.count_nonzero(subset_labels == 1)\n",
    "num_zeros = np.count_nonzero(subset_labels == 0)\n",
    "\n",
    "print(f\"Number of 1s(train ): {num_ones}\")\n",
    "print(f\"Number of 0s(train): {num_zeros}\")"
   ]
  },
  {
   "cell_type": "code",
   "execution_count": 4,
   "metadata": {},
   "outputs": [
    {
     "name": "stdout",
     "output_type": "stream",
     "text": [
      "17000\n",
      "8500\n",
      "cuda\n"
     ]
    }
   ],
   "source": [
    "train_dataset = TensorDataset(images[:17000], labels[:17000])\n",
    "\n",
    "test_dataset = TensorDataset(images[17000:], labels[17000:])\n",
    "\n",
    "print(len(train_dataset))\n",
    "print(len(test_dataset))\n",
    "batch_size = 64\n",
    "train_loader = DataLoader(train_dataset, batch_size=batch_size, shuffle=True)\n",
    "test_loader = DataLoader(test_dataset, batch_size=batch_size, shuffle=False)\n",
    "device = torch.device(\"cuda\" if torch.cuda.is_available() else \"cpu\")\n",
    "print(device)"
   ]
  },
  {
   "cell_type": "code",
   "execution_count": 5,
   "metadata": {},
   "outputs": [
    {
     "name": "stderr",
     "output_type": "stream",
     "text": [
      "/home/rishabh.mondal/miniconda3/envs/torch_space/lib/python3.11/site-packages/torchvision/models/_utils.py:223: UserWarning: Arguments other than a weight enum or `None` for 'weights' are deprecated since 0.13 and may be removed in the future. The current behavior is equivalent to passing `weights=ResNet18_Weights.IMAGENET1K_V1`. You can also use `weights=ResNet18_Weights.DEFAULT` to get the most up-to-date weights.\n",
      "  warnings.warn(msg)\n",
      "Downloading: \"https://download.pytorch.org/models/resnet18-f37072fd.pth\" to /home/rishabh.mondal/.cache/torch/hub/checkpoints/resnet18-f37072fd.pth\n",
      "100%|██████████| 44.7M/44.7M [00:00<00:00, 52.8MB/s]\n",
      "Loss: 0.00000615: 100%|██████████| 100/100 [28:18<00:00, 16.98s/it]\n"
     ]
    }
   ],
   "source": [
    "train_model = ResNetClassifier(\n",
    "    models.resnet18,ResNet18_Weights, n_classes=2, activation=nn.ReLU(), dropout=0.1\n",
    ").to(device)\n",
    "\n",
    "iter_losses, epoch_losses = train_fn(\n",
    "    train_model,\n",
    "    nn.CrossEntropyLoss(),\n",
    "    dataloader=train_loader,\n",
    "    lr=3e-4,\n",
    "    epochs=100,\n",
    "    verbose=True,\n",
    "    wandb_log=False,\n",
    ")"
   ]
  },
  {
   "cell_type": "code",
   "execution_count": 6,
   "metadata": {},
   "outputs": [
    {
     "data": {
      "text/plain": [
       "[<matplotlib.lines.Line2D at 0x7f5b22b189d0>]"
      ]
     },
     "execution_count": 6,
     "metadata": {},
     "output_type": "execute_result"
    },
    {
     "data": {
      "image/png": "[encoded data removed]",
      "text/plain": [
       "<Figure size 640x480 with 1 Axes>"
      ]
     },
     "metadata": {},
     "output_type": "display_data"
    }
   ],
   "source": [
    "plt.plot(epoch_losses)"
   ]
  },
  {
   "cell_type": "code",
   "execution_count": 7,
   "metadata": {},
   "outputs": [
    {
     "name": "stderr",
     "output_type": "stream",
     "text": [
      "100%|██████████| 133/133 [00:08<00:00, 16.57it/s]\n"
     ]
    },
    {
     "name": "stdout",
     "output_type": "stream",
     "text": [
      "torch.Size([8500]) torch.Size([8500])\n",
      "Accuracy:  tensor(0.9805, device='cuda:0')\n",
      "Precision:  tensor(0.8301, device='cuda:0')\n",
      "Recall:  tensor(0.8912, device='cuda:0')\n",
      "F1:  tensor(0.8596, device='cuda:0')\n"
     ]
    }
   ],
   "source": [
    "with torch.no_grad():\n",
    "    pred_classes =train_model.predict_class(\n",
    "        dataloader=test_loader, batch_size=254, verbose=True\n",
    "    ).to(device)\n",
    "\n",
    "test_labels = labels.to(device)\n",
    "print(\"Accuracy: \", accuracy_score(pred_classes,test_labels))\n",
    "print(\"Precision: \", precision_score(pred_classes,test_labels))\n",
    "print(\"Recall: \", recall_score(pred_classes,test_labels))\n",
    "print(\"F1: \", f1_score(pred_classes,test_labels))\n",
    "print(\"classification report: \", classification_report(pred_classes,test_labels))"
   ]
  },
  {
   "cell_type": "code",
   "execution_count": null,
   "metadata": {},
   "outputs": [],
   "source": []
  }
 ],
 "metadata": {
  "kernelspec": {
   "display_name": "torch_space",
   "language": "python",
   "name": "python3"
  },
  "language_info": {
   "codemirror_mode": {
    "name": "ipython",
    "version": 3
   },
   "file_extension": ".py",
   "mimetype": "text/x-python",
   "name": "python",
   "nbconvert_exporter": "python",
   "pygments_lexer": "ipython3",
   "version": "3.11.5"
  }
 },
 "nbformat": 4,
 "nbformat_minor": 2
}
