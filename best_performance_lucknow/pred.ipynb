{
 "cells": [
  {
   "cell_type": "code",
   "execution_count": 15,
   "metadata": {},
   "outputs": [],
   "source": [
    "import os\n",
    "from os.path import join\n",
    "\n",
    "os.environ[\"CUDA_VISIBLE_DEVICES\"] = \"1\"\n",
    "\n",
    "from shapely.geometry import Polygon, Point\n",
    "import numpy as np\n",
    "import xarray as xr\n",
    "from joblib import Parallel, delayed\n",
    "\n",
    "from tqdm.notebook import tqdm\n",
    "\n",
    "from torch.utils.data import Dataset, DataLoader\n",
    "\n",
    "import torch\n",
    "import torch.nn as nn\n",
    "\n",
    "from torchvision.models import efficientnet_b0\n",
    "import geopandas as gpd\n",
    "\n",
    "import matplotlib.pyplot as plt\n",
    "\n",
    "device = \"cuda\""
   ]
  },
  {
   "cell_type": "code",
   "execution_count": 16,
   "metadata": {},
   "outputs": [
    {
     "name": "stderr",
     "output_type": "stream",
     "text": [
      "/home/rishabh.mondal/miniconda3/envs/torch_space/lib/python3.11/site-packages/torchvision/models/_utils.py:208: UserWarning: The parameter 'pretrained' is deprecated since 0.13 and may be removed in the future, please use 'weights' instead.\n",
      "  warnings.warn(\n",
      "/home/rishabh.mondal/miniconda3/envs/torch_space/lib/python3.11/site-packages/torchvision/models/_utils.py:223: UserWarning: Arguments other than a weight enum or `None` for 'weights' are deprecated since 0.13 and may be removed in the future. The current behavior is equivalent to passing `weights=None`.\n",
      "  warnings.warn(msg)\n"
     ]
    }
   ],
   "source": [
    "f_path = \"/home/vannsh.jani/brick_kilns/githubrepo/ML/model_50_no_ssl_features_imagenet.pth\"\n",
    "c_path = \"/home/vannsh.jani/brick_kilns/githubrepo/ML/model_50_no_ssl_classifier_imagenet.pth\"\n",
    "\n",
    "model = efficientnet_b0(pretrained=False)\n",
    "model.classifier = nn.Linear(1280,2)\n",
    "model.features.load_state_dict(torch.load(f_path))\n",
    "model.classifier.load_state_dict(torch.load(c_path))\n",
    "model.to(device)\n",
    "model.eval();"
   ]
  },
  {
   "cell_type": "code",
   "execution_count": 17,
   "metadata": {},
   "outputs": [],
   "source": [
    "gdf = gpd.read_file(\"/home/rishabh.mondal/Brick-Kilns-project/albk/experiments/data_preperation/shapefiles/statewise/DISTRICT_BOUNDARY.shp\")\n",
    "gdf.columns\n",
    "gdf['District'] = gdf['District'].str.replace('>', 'A')\n",
    "gdf['District'] = gdf['District'].str.replace('<', 'A')\n",
    "gdf['STATE'] = gdf['STATE'].str.replace('>', 'A') \n",
    "gdf['STATE'] = gdf['STATE'].str.replace('<', 'A')"
   ]
  },
  {
   "cell_type": "code",
   "execution_count": 18,
   "metadata": {},
   "outputs": [
    {
     "data": {
      "text/plain": [
       "<Axes: >"
      ]
     },
     "execution_count": 18,
     "metadata": {},
     "output_type": "execute_result"
    },
    {
     "data": {
      "image/png": "[encoded data removed]",
      "text/plain": [
       "<Figure size 640x480 with 1 Axes>"
      ]
     },
     "metadata": {},
     "output_type": "display_data"
    }
   ],
   "source": [
    "state_gdf = gdf[gdf['STATE'] == 'WEST BENGAL']\n",
    "district = \"PASCHIM BARDDHAMAN\".upper()\n",
    "custom_gdf = gdf[gdf[\"District\"] == district]\n",
    "state_gdf = state_gdf.to_crs(epsg=4326)\n",
    "custom_gdf = custom_gdf.to_crs(epsg=4326)\n",
    "\n",
    "custom_gdf.plot()"
   ]
  },
  {
   "cell_type": "code",
   "execution_count": 19,
   "metadata": {},
   "outputs": [],
   "source": [
    "input_folder_path='/home/rishabh.mondal/bkdb/statewise/West_Bengal'\n",
    "output_folder_path='/home/rishabh.mondal/Brick-Kilns-project/albk_rishabh/predicted_positive'\n",
    "number_of_files_to_process = 10 \n",
    "input_files = [os.path.join(input_folder_path, file) for file in os.listdir(input_folder_path) if file.endswith('.zarr')]\n",
    "output_files = [os.path.join(output_folder_path, file) for file in os.listdir(output_folder_path) if file.endswith('.csv')]\n"
   ]
  },
  {
   "cell_type": "code",
   "execution_count": 25,
   "metadata": {},
   "outputs": [
    {
     "name": "stderr",
     "output_type": "stream",
     "text": [
      "100%|██████████| 45/45 [00:00<00:00, 42271.82it/s]"
     ]
    },
    {
     "name": "stderr",
     "output_type": "stream",
     "text": [
      "\n",
      "100%|██████████| 3/3 [00:00<00:00, 10.63it/s]"
     ]
    },
    {
     "name": "stdout",
     "output_type": "stream",
     "text": [
      "tensor([0, 0, 0,  ..., 0, 0, 0])\n",
      "tensor(1)\n"
     ]
    },
    {
     "name": "stderr",
     "output_type": "stream",
     "text": [
      "\n"
     ]
    }
   ],
   "source": [
    "import os\n",
    "import sys\n",
    "import torch\n",
    "import xarray as xr\n",
    "import pandas as pd\n",
    "from tqdm import tqdm\n",
    "from joblib import Parallel, delayed\n",
    "\n",
    "# # Replace 'YourPyTorchModel' with the actual instantiation of your model\n",
    "# model = YourPyTorchModel()  # Replace with the actual instantiation of your model\n",
    "# device = torch.device(\"cuda\" if torch.cuda.is_available() else \"cpu\")  # Use GPU if available\n",
    "\n",
    "def process_file(file):\n",
    "    data = xr.open_zarr(file, consolidated=False)\n",
    "    img_list = []\n",
    "    idx_list = []\n",
    "    for lat_lag in range(-2, 3):\n",
    "        for lon_lag in range(-2, 3):\n",
    "            img = data[\"data\"].sel(lat_lag=lat_lag, lon_lag=lon_lag).values\n",
    "            lat = data[\"lat\"].values.item()\n",
    "            lon = data[\"lon\"].values.item()\n",
    "            idx = f\"{lat:.2f},{lon:.2f}_{lat_lag}_{lon_lag}\"\n",
    "            img = torch.tensor(img) / 255.0\n",
    "            img = torch.einsum(\"hwc -> chw\", img)\n",
    "            img_list.append(img)\n",
    "            idx_list.append(idx)\n",
    "    return torch.stack(img_list), idx_list\n",
    "\n",
    "def save_results(results, output_folder_path):\n",
    "    df = pd.DataFrame(results, columns=['lat', 'lon', 'lat_lag', 'lon_lag', 'pred_proba', 'pred_label'])\n",
    "    if not os.path.exists(output_folder_path):\n",
    "        os.makedirs(output_folder_path)\n",
    "\n",
    "    output_csv_path = os.path.join(output_folder_path, 'results.csv')\n",
    "    df.to_csv(output_csv_path, index=False)\n",
    "\n",
    "def main():\n",
    "    input_folder_path='/home/rishabh.mondal/bkdb/statewise/West_Bengal'\n",
    "    output_folder_path='/home/rishabh.mondal/Brick-Kilns-project/albk_rishabh/predicted_positive'\n",
    "    number_of_files_to_process = 45  # Set the desired number of files to process\n",
    "\n",
    "    input_files = [os.path.join(input_folder_path, file) for file in os.listdir(input_folder_path) if file.endswith('.zarr')]\n",
    "    output_files = [os.path.join(output_folder_path, file) for file in os.listdir(output_folder_path) if file.endswith('.csv')]\n",
    "\n",
    "    files_to_process = [file for file in input_files if file not in output_files]\n",
    "\n",
    "    if len(files_to_process) == 0:\n",
    "        sys.exit(\"No files to process. Exiting.\")\n",
    "\n",
    "    # Use Parallel to process files in parallel\n",
    "    results = Parallel(n_jobs=48)(delayed(process_file)(file) for file in tqdm(files_to_process[:number_of_files_to_process]))\n",
    "\n",
    "    # Concatenate images and calculate mean and std\n",
    "    all_images = torch.cat([result[0] for result in results], dim=0)\n",
    "    mean = all_images.mean(dim=(0, 2, 3), keepdims=True)\n",
    "    std = all_images.std(dim=(0, 2, 3), keepdims=True)\n",
    "    all_images = (all_images - mean) / std\n",
    "\n",
    "    # Flatten the list of indices\n",
    "    all_idx = [idx for result in results for idx in result[1]]\n",
    "\n",
    "    # Batched inference\n",
    "    batch_size = 512\n",
    "    all_preds = []\n",
    "\n",
    "    for i in tqdm(range(0, len(all_images), batch_size)):\n",
    "        batch = all_images[i:i + batch_size].to(device)\n",
    "        with torch.no_grad():\n",
    "            preds = model(batch).argmax(dim=1).cpu()\n",
    "        all_preds.append(preds)\n",
    "\n",
    "    # Concatenate predictions\n",
    "    all_preds = torch.cat(all_preds, dim=0)\n",
    "    print(all_preds)\n",
    "\n",
    "    # # Save results to a CSV file                                      #### error lines\n",
    "    # save_results(list(zip(all_idx, all_preds)), output_folder_path)   #### error lines\n",
    "    pred_positive_idx = (all_preds == 1)\n",
    "    print(pred_positive_idx.sum())\n",
    "if __name__ == \"__main__\":\n",
    "    main()\n"
   ]
  },
  {
   "cell_type": "code",
   "execution_count": null,
   "metadata": {},
   "outputs": [],
   "source": []
  }
 ],
 "metadata": {
  "kernelspec": {
   "display_name": "torch_space",
   "language": "python",
   "name": "python3"
  },
  "language_info": {
   "codemirror_mode": {
    "name": "ipython",
    "version": 3
   },
   "file_extension": ".py",
   "mimetype": "text/x-python",
   "name": "python",
   "nbconvert_exporter": "python",
   "pygments_lexer": "ipython3",
   "version": "3.11.5"
  }
 },
 "nbformat": 4,
 "nbformat_minor": 2
}
