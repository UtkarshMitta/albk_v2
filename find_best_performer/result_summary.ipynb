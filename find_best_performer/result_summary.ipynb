{
 "cells": [
  {
   "cell_type": "code",
   "execution_count": 9,
   "metadata": {},
   "outputs": [],
   "source": [
    "res_dict={}\n",
    "res_dict[\"resnet\"] = {\n",
    "    \"train_data\": 17000,\n",
    "    \"test_data\": 8500,\n",
    "    \"train_loss\": 0.00025225,\n",
    "    \"accuracy\": 0.9692,\n",
    "    \"precision\": 0.6503,\n",
    "    \"recall\": 0.8924,  # Replace with the actual value for recall\n",
    "    \"f1\": 0.7524\n",
    "}\n",
    "res_dict[\"efficientnet\"] = {\n",
    "    \"train_data\": 17000,\n",
    "    \"test_data\": 8500,\n",
    "    \"train_loss\":0.0025926,\n",
    "    \"accuracy\": 0.9705,\n",
    "    \"precision\": 0.7042,\n",
    "    \"recall\": 0.8603,  # Replace with the actual value for recall\n",
    "    \"f1\": 0.7745\n",
    "}\n",
    "res_dict[\"efficientnet_gelu\"] = {\n",
    "    \"train_data\": 17000,\n",
    "    \"test_data\": 8500,\n",
    "    \"train_loss\":0.0025926,\n",
    "    \"accuracy\": 0.9620,\n",
    "    \"precision\":0.7239,\n",
    "    \"recall\": 0.7420,  # Replace with the actual value for recall\n",
    "    \"f1\": 0.7328\n",
    "}\n",
    "res_dict[\"densenet\"] = {\n",
    "    \"train_data\": 17000,\n",
    "    \"test_data\": 8500,\n",
    "    \"train_loss\":0.0025926,\n",
    "    \"accuracy\": 0.9746,\n",
    "    \"precision\":0.8023,\n",
    "    \"recall\": 0.8379,  # Replace with the actual value for recall\n",
    "    \"f1\": 0.8197\n",
    "}"
   ]
  },
  {
   "cell_type": "code",
   "execution_count": 10,
   "metadata": {},
   "outputs": [
    {
     "data": {
      "text/html": [
       "<style type=\"text/css\">\n",
       "#T_7ebab_row1_col2, #T_7ebab_row1_col5, #T_7ebab_row3_col3, #T_7ebab_row3_col4, #T_7ebab_row3_col6 {\n",
       "  background-color: green;\n",
       "}\n",
       "</style>\n",
       "<table id=\"T_7ebab\">\n",
       "  <thead>\n",
       "    <tr>\n",
       "      <th class=\"blank level0\" >&nbsp;</th>\n",
       "      <th id=\"T_7ebab_level0_col0\" class=\"col_heading level0 col0\" >train_data</th>\n",
       "      <th id=\"T_7ebab_level0_col1\" class=\"col_heading level0 col1\" >test_data</th>\n",
       "      <th id=\"T_7ebab_level0_col2\" class=\"col_heading level0 col2\" >train_loss</th>\n",
       "      <th id=\"T_7ebab_level0_col3\" class=\"col_heading level0 col3\" >accuracy</th>\n",
       "      <th id=\"T_7ebab_level0_col4\" class=\"col_heading level0 col4\" >precision</th>\n",
       "      <th id=\"T_7ebab_level0_col5\" class=\"col_heading level0 col5\" >recall</th>\n",
       "      <th id=\"T_7ebab_level0_col6\" class=\"col_heading level0 col6\" >f1</th>\n",
       "    </tr>\n",
       "  </thead>\n",
       "  <tbody>\n",
       "    <tr>\n",
       "      <th id=\"T_7ebab_level0_row0\" class=\"row_heading level0 row0\" >efficientnet_gelu</th>\n",
       "      <td id=\"T_7ebab_row0_col0\" class=\"data row0 col0\" >17000.0000</td>\n",
       "      <td id=\"T_7ebab_row0_col1\" class=\"data row0 col1\" >8500.0000</td>\n",
       "      <td id=\"T_7ebab_row0_col2\" class=\"data row0 col2\" >0.0026</td>\n",
       "      <td id=\"T_7ebab_row0_col3\" class=\"data row0 col3\" >0.9620</td>\n",
       "      <td id=\"T_7ebab_row0_col4\" class=\"data row0 col4\" >0.7239</td>\n",
       "      <td id=\"T_7ebab_row0_col5\" class=\"data row0 col5\" >0.7420</td>\n",
       "      <td id=\"T_7ebab_row0_col6\" class=\"data row0 col6\" >0.7328</td>\n",
       "    </tr>\n",
       "    <tr>\n",
       "      <th id=\"T_7ebab_level0_row1\" class=\"row_heading level0 row1\" >resnet</th>\n",
       "      <td id=\"T_7ebab_row1_col0\" class=\"data row1 col0\" >17000.0000</td>\n",
       "      <td id=\"T_7ebab_row1_col1\" class=\"data row1 col1\" >8500.0000</td>\n",
       "      <td id=\"T_7ebab_row1_col2\" class=\"data row1 col2\" >0.0003</td>\n",
       "      <td id=\"T_7ebab_row1_col3\" class=\"data row1 col3\" >0.9692</td>\n",
       "      <td id=\"T_7ebab_row1_col4\" class=\"data row1 col4\" >0.6503</td>\n",
       "      <td id=\"T_7ebab_row1_col5\" class=\"data row1 col5\" >0.8924</td>\n",
       "      <td id=\"T_7ebab_row1_col6\" class=\"data row1 col6\" >0.7524</td>\n",
       "    </tr>\n",
       "    <tr>\n",
       "      <th id=\"T_7ebab_level0_row2\" class=\"row_heading level0 row2\" >efficientnet</th>\n",
       "      <td id=\"T_7ebab_row2_col0\" class=\"data row2 col0\" >17000.0000</td>\n",
       "      <td id=\"T_7ebab_row2_col1\" class=\"data row2 col1\" >8500.0000</td>\n",
       "      <td id=\"T_7ebab_row2_col2\" class=\"data row2 col2\" >0.0026</td>\n",
       "      <td id=\"T_7ebab_row2_col3\" class=\"data row2 col3\" >0.9705</td>\n",
       "      <td id=\"T_7ebab_row2_col4\" class=\"data row2 col4\" >0.7042</td>\n",
       "      <td id=\"T_7ebab_row2_col5\" class=\"data row2 col5\" >0.8603</td>\n",
       "      <td id=\"T_7ebab_row2_col6\" class=\"data row2 col6\" >0.7745</td>\n",
       "    </tr>\n",
       "    <tr>\n",
       "      <th id=\"T_7ebab_level0_row3\" class=\"row_heading level0 row3\" >densenet</th>\n",
       "      <td id=\"T_7ebab_row3_col0\" class=\"data row3 col0\" >17000.0000</td>\n",
       "      <td id=\"T_7ebab_row3_col1\" class=\"data row3 col1\" >8500.0000</td>\n",
       "      <td id=\"T_7ebab_row3_col2\" class=\"data row3 col2\" >0.0026</td>\n",
       "      <td id=\"T_7ebab_row3_col3\" class=\"data row3 col3\" >0.9746</td>\n",
       "      <td id=\"T_7ebab_row3_col4\" class=\"data row3 col4\" >0.8023</td>\n",
       "      <td id=\"T_7ebab_row3_col5\" class=\"data row3 col5\" >0.8379</td>\n",
       "      <td id=\"T_7ebab_row3_col6\" class=\"data row3 col6\" >0.8197</td>\n",
       "    </tr>\n",
       "  </tbody>\n",
       "</table>\n"
      ],
      "text/plain": [
       "<pandas.io.formats.style.Styler at 0x7f9ed6b6e650>"
      ]
     },
     "execution_count": 10,
     "metadata": {},
     "output_type": "execute_result"
    }
   ],
   "source": [
    "import pandas as pd\n",
    "res_df = pd.DataFrame(res_dict).T.sort_values(by=\"f1\")\n",
    "\n",
    "res_df.style.format(\"{:.4f}\").highlight_max(subset=[\"accuracy\", \"precision\", \"recall\", \"f1\"], color=\"green\").highlight_min(subset=[\"train_loss\"], color=\"green\")"
   ]
  },
  {
   "cell_type": "code",
   "execution_count": null,
   "metadata": {},
   "outputs": [],
   "source": []
  }
 ],
 "metadata": {
  "kernelspec": {
   "display_name": "torch_space",
   "language": "python",
   "name": "python3"
  },
  "language_info": {
   "codemirror_mode": {
    "name": "ipython",
    "version": 3
   },
   "file_extension": ".py",
   "mimetype": "text/x-python",
   "name": "python",
   "nbconvert_exporter": "python",
   "pygments_lexer": "ipython3",
   "version": "3.11.5"
  }
 },
 "nbformat": 4,
 "nbformat_minor": 2
}
