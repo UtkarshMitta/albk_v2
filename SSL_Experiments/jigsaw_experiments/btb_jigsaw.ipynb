{
 "cells": [
  {
   "cell_type": "code",
   "execution_count": 1,
   "metadata": {},
   "outputs": [],
   "source": [
    "import os\n",
    "os.environ[\"CUDA_VISIBLE_DEVICES\"]=\"1\"\n"
   ]
  },
  {
   "cell_type": "code",
   "execution_count": 2,
   "metadata": {},
   "outputs": [
    {
     "name": "stderr",
     "output_type": "stream",
     "text": [
      "/home/rishabh.mondal/miniconda3/envs/torch_space/lib/python3.11/site-packages/tqdm/auto.py:21: TqdmWarning: IProgress not found. Please update jupyter and ipywidgets. See https://ipywidgets.readthedocs.io/en/stable/user_install.html\n",
      "  from .autonotebook import tqdm as notebook_tqdm\n",
      "/home/rishabh.mondal/ASTRA/astra/torch/data.py:12: UserWarning: TORCH_HOME not set, setting it to /home/rishabh.mondal/.cache/torch\n",
      "  warnings.warn(f\"TORCH_HOME not set, setting it to {os.environ['TORCH_HOME']}\")\n"
     ]
    },
    {
     "data": {
      "text/plain": [
       "device(type='cuda')"
      ]
     },
     "execution_count": 2,
     "metadata": {},
     "output_type": "execute_result"
    }
   ],
   "source": [
    "import torch\n",
    "import torch.nn as nn\n",
    "import torch.nn.functional as F\n",
    "import torch.optim as optim\n",
    "import torchvision\n",
    "import torchvision.models as models\n",
    "import torchvision.transforms as transforms\n",
    "from torch.utils.data import DataLoader\n",
    "import matplotlib.pyplot as plt\n",
    "import os\n",
    "import umap.umap_ as umap\n",
    "# os.environ[\"CUDA_VISIBLE_DEVICES\"]=\"2\"\n",
    "import numpy as np\n",
    "import pandas as pd\n",
    "import umap.umap_ as umap\n",
    "\n",
    "from sklearn.metrics import confusion_matrix,f1_score,accuracy_score,precision_score,recall_score\n",
    "from sklearn.model_selection import train_test_split\n",
    "from sklearn.metrics import ConfusionMatrixDisplay\n",
    "from scipy.spatial.distance import hamming\n",
    "\n",
    "# ASTRA\n",
    "from astra.torch.data import load_cifar_10\n",
    "from astra.torch.utils import train_fn\n",
    "from astra.torch.models import EfficientNet, MLP, MLPClassifier, EfficientNetClassifier\n",
    "\n",
    "from itertools import permutations,product\n",
    "\n",
    "# %%\n",
    "device = torch.device(\"cuda\" if torch.cuda.is_available() else \"cpu\")\n",
    "device"
   ]
  },
  {
   "cell_type": "code",
   "execution_count": 3,
   "metadata": {},
   "outputs": [],
   "source": [
    "# %%\n",
    "loaded_data = torch.load(\"/home/rishabh.mondal/Brick-Kilns-project/albk_rishabh/tensor_data/new_bangladesh_100.pt\")\n",
    "X_train=loaded_data['X_train']\n",
    "X_test=loaded_data['X_test']\n",
    "y_train=loaded_data['y_train']\n",
    "y_test=loaded_data['y_test']"
   ]
  },
  {
   "cell_type": "code",
   "execution_count": 4,
   "metadata": {},
   "outputs": [],
   "source": [
    "ecf = EfficientNetClassifier(dense_hidden_dims=[1280,1024,256],n_classes=2)\n"
   ]
  },
  {
   "cell_type": "code",
   "execution_count": 5,
   "metadata": {},
   "outputs": [],
   "source": [
    "result_dict = {}\n",
    "\n",
    "def get_metrics(y_pred,y_label):\n",
    "    with torch.no_grad():\n",
    "        acc = accuracy_score(y_label,y_pred)\n",
    "        f1 = f1_score(y_label,y_pred)\n",
    "        precision = precision_score(y_label,y_pred)\n",
    "        recall = recall_score(y_label,y_pred)\n",
    "        return acc,f1,precision,recall\n",
    "\n",
    "def predict(model,X_test,y_test,percent,ssl,batch_size = 64):\n",
    "    with torch.no_grad():\n",
    "        model.eval()\n",
    "        # incorporating batch size\n",
    "        test_dataset = torch.utils.data.TensorDataset(X_test, y_test)\n",
    "        test_loader = torch.utils.data.DataLoader(test_dataset, batch_size=batch_size, shuffle=False)\n",
    "        y_pred = []\n",
    "        for x, y in test_loader:\n",
    "            x = x.to(device)\n",
    "            y = y.to(device)\n",
    "            output = model(x)\n",
    "            y_pred.append(output)\n",
    "        y_pred = torch.cat(y_pred)\n",
    "        y_pred = torch.argmax(y_pred,dim=1)\n",
    "        y_pred = y_pred.cpu().numpy()\n",
    "        y_test = y_test.cpu().numpy()\n",
    "        acc,f1,precision,recall = get_metrics(y_pred,y_test)\n",
    "\n",
    "\n",
    "        result_dict[percent+\" \"+ssl] = {\"accuracy\":acc,\"f1\":f1,\"precision\":precision,\"recall\":recall}"
   ]
  },
  {
   "cell_type": "code",
   "execution_count": 6,
   "metadata": {},
   "outputs": [
    {
     "name": "stderr",
     "output_type": "stream",
     "text": [
      "/home/rishabh.mondal/miniconda3/envs/torch_space/lib/python3.11/site-packages/torchvision/models/_utils.py:208: UserWarning: The parameter 'pretrained' is deprecated since 0.13 and may be removed in the future, please use 'weights' instead.\n",
      "  warnings.warn(\n",
      "/home/rishabh.mondal/miniconda3/envs/torch_space/lib/python3.11/site-packages/torchvision/models/_utils.py:223: UserWarning: Arguments other than a weight enum or `None` for 'weights' are deprecated since 0.13 and may be removed in the future. The current behavior is equivalent to passing `weights=EfficientNet_B0_Weights.IMAGENET1K_V1`. You can also use `weights=EfficientNet_B0_Weights.DEFAULT` to get the most up-to-date weights.\n",
      "  warnings.warn(msg)\n"
     ]
    }
   ],
   "source": [
    "path=\"/home/vannsh.jani/brick_kilns/githubrepo/ML/model_59_delban1.pth\"\n",
    "effictnet=torchvision.models.efficientnet_b0(pretrained=True)\n",
    "effictnet.classifier[1]=nn.Linear(1280,2)\n",
    "effictnet.features.load_state_dict(torch.load(path))\n",
    "model = effictnet.to(device)\n"
   ]
  },
  {
   "cell_type": "code",
   "execution_count": 7,
   "metadata": {},
   "outputs": [],
   "source": [
    "y_train = y_train.type(torch.uint8)\n"
   ]
  },
  {
   "cell_type": "code",
   "execution_count": 8,
   "metadata": {},
   "outputs": [
    {
     "name": "stderr",
     "output_type": "stream",
     "text": [
      "Loss: 0.00068290: 100%|██████████| 30/30 [04:19<00:00,  8.66s/it]\n"
     ]
    }
   ],
   "source": [
    "iter_losses, epoch_losses = train_fn(model,nn.CrossEntropyLoss(), X_train, y_train, lr=3e-4,verbose=True,batch_size=128,epochs=30)\n"
   ]
  },
  {
   "cell_type": "code",
   "execution_count": 11,
   "metadata": {},
   "outputs": [
    {
     "name": "stderr",
     "output_type": "stream",
     "text": [
      "/home/rishabh.mondal/miniconda3/envs/torch_space/lib/python3.11/site-packages/sklearn/metrics/_classification.py:1471: UndefinedMetricWarning: Precision is ill-defined and being set to 0.0 due to no predicted samples. Use `zero_division` parameter to control this behavior.\n",
      "  _warn_prf(average, modifier, msg_start, len(result))\n"
     ]
    }
   ],
   "source": [
    "predict(model,X_test,y_test,\"100\",\"SSL\")"
   ]
  },
  {
   "cell_type": "code",
   "execution_count": 12,
   "metadata": {},
   "outputs": [
    {
     "data": {
      "text/plain": [
       "{'100 SSL': {'accuracy': 0.8787142857142857,\n",
       "  'f1': 0.0,\n",
       "  'precision': 0.0,\n",
       "  'recall': 0.0}}"
      ]
     },
     "execution_count": 12,
     "metadata": {},
     "output_type": "execute_result"
    },
    {
     "ename": "",
     "evalue": "",
     "output_type": "error",
     "traceback": [
      "\u001b[1;31mThe Kernel crashed while executing code in the current cell or a previous cell. \n",
      "\u001b[1;31mPlease review the code in the cell(s) to identify a possible cause of the failure. \n",
      "\u001b[1;31mClick <a href='https://aka.ms/vscodeJupyterKernelCrash'>here</a> for more info. \n",
      "\u001b[1;31mView Jupyter <a href='command:jupyter.viewOutput'>log</a> for further details."
     ]
    }
   ],
   "source": [
    "result_dict"
   ]
  }
 ],
 "metadata": {
  "kernelspec": {
   "display_name": "torch_space",
   "language": "python",
   "name": "python3"
  },
  "language_info": {
   "codemirror_mode": {
    "name": "ipython",
    "version": 3
   },
   "file_extension": ".py",
   "mimetype": "text/x-python",
   "name": "python",
   "nbconvert_exporter": "python",
   "pygments_lexer": "ipython3",
   "version": "3.11.5"
  }
 },
 "nbformat": 4,
 "nbformat_minor": 2
}
