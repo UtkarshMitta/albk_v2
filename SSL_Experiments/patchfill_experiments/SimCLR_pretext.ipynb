{
  "cells": [
    {
      "cell_type": "markdown",
      "metadata": {
        "id": "r8gmKK7APluc"
      },
      "source": [
        "SimCLR study on Cifar10 data. \n",
        "\n",
        "Network: ResNet18 \n",
        "\n",
        "Batch size: 256\n",
        "\n",
        "Optimizer: SGD\n",
        "\n",
        "Loss: NT-Xent loss\n",
        "\n",
        "lr:  0.3\n",
        "\n",
        "Pre-Training data: 10000 images (1000 image per class)\n",
        "\n",
        "Trained for 300 epochs"
      ]
    },
    {
      "cell_type": "code",
      "execution_count": 40,
      "metadata": {
        "id": "iXESJ2O74nhU"
      },
      "outputs": [],
      "source": [
        "import torch\n",
        "import torchvision\n",
        "import torchvision.transforms as transforms\n",
        "import matplotlib.pyplot as plt\n",
        "import numpy as np\n",
        "import torch.nn.functional as F\n",
        "from torch.utils.data import random_split\n",
        "from torchvision.utils import make_grid\n",
        "import torch.nn as nn\n",
        "from torch.optim import lr_scheduler\n",
        "import copy\n",
        "import time\n",
        "import os\n",
        "import argparse\n",
        "from torch.utils.data import Subset\n",
        "import csv\n",
        "device = torch.device('cuda')\n",
        "from ResNet import *\n"
      ]
    },
    {
      "cell_type": "markdown",
      "metadata": {},
      "source": [
        "### Augmentaion on pre-training data"
      ]
    },
    {
      "cell_type": "code",
      "execution_count": 41,
      "metadata": {
        "id": "kQ8srBZo2UsG"
      },
      "outputs": [],
      "source": [
        "class Augment_train(object):\n",
        "  def __init__(self,size):\n",
        "    s = 0.5 # jitter strength\n",
        "    size = 32\n",
        "    color_jitter = transforms.ColorJitter(0.8*s, 0.8*s, 0.8*s, 0.2*s)\n",
        "    \n",
        "    self.train_transforms = transforms.Compose([\n",
        "        transforms.RandomResizedCrop(size, scale=(0.08, 1.0), ratio=(0.75, 1.3333333333333333)),\n",
        "        transforms.RandomHorizontalFlip(p=0.5),\n",
        "        transforms.RandomApply([color_jitter], p=0.8), \n",
        "        transforms.RandomGrayscale(p=0.2),\n",
        "        transforms.ToTensor(),\n",
        "        transforms.Normalize((0.4914, 0.4822, 0.4465), (0.2023, 0.1994, 0.2010)),\n",
        "      ])\n",
        "  \n",
        "  def __call__(self,x):\n",
        "    transform = self.train_transforms\n",
        "\n",
        "    xi = transform(x)\n",
        "    xj = transform(x)\n",
        "    return xi, xj"
      ]
    },
    {
      "cell_type": "markdown",
      "metadata": {},
      "source": [
        "### Augmentaion on evaluation data to check pre-text task performance"
      ]
    },
    {
      "cell_type": "code",
      "execution_count": 42,
      "metadata": {
        "id": "Pv-_UXDhJHIt"
      },
      "outputs": [],
      "source": [
        "class Augment_eval(object):\n",
        "  \n",
        "  def __init__(self, size):\n",
        "    size = 32\n",
        "    \n",
        "    self.eval_transforms = transforms.Compose([\n",
        "        transforms.Resize(size),\n",
        "        transforms.ToTensor(),\n",
        "        transforms.Normalize((0.4914, 0.4822, 0.4465), (0.2023, 0.1994, 0.2010))\n",
        "    ])\n",
        "\n",
        "    def __call__(self,x):\n",
        "      transform = self.eval_transforms\n",
        "      xi = transform(x)\n",
        "      xj = transform(x)\n",
        "\n",
        "      return xi,xj\n",
        "  "
      ]
    },
    {
      "cell_type": "markdown",
      "metadata": {},
      "source": [
        "### Downloaing data"
      ]
    },
    {
      "cell_type": "code",
      "execution_count": 43,
      "metadata": {
        "colab": {
          "base_uri": "https://localhost:8080/",
          "height": 85,
          "referenced_widgets": [
            "4fbaf6d539f045249d12f3e465534d4f",
            "71c2733f5cac4b34aec139920b2276bb",
            "0472bea112604ce38fae9eb0dd8c7016",
            "d936face0d2342fd80ebdf02d66a4b38",
            "35b6e8cea90747eab7a2bd5996bdd73b",
            "cdd363f97f044c55afa07cb805aa674d",
            "1005bf7a75a841fbbb94c2909bcea09d",
            "e4931b58bb4b4a3f8260a455dd292074",
            "3346ed3347af4c8e91a73f7946e7cbfa",
            "b941dab936f64c74a11ca99cd0bce267",
            "0ef8906a788f4b9a917bfd89347dc6e0"
          ]
        },
        "id": "RkJnMxNNRnVX",
        "outputId": "d691998c-fd4c-458c-dbc6-d44af3634405"
      },
      "outputs": [
        {
          "name": "stdout",
          "output_type": "stream",
          "text": [
            "Files already downloaded and verified\n"
          ]
        }
      ],
      "source": [
        "dataset = torchvision.datasets.CIFAR10(\n",
        "      root='./data', train=True, download=True, transform= Augment_train(32))\n"
      ]
    },
    {
      "cell_type": "markdown",
      "metadata": {},
      "source": [
        "### Create a subset with less data and equal distribution of classes \n"
      ]
    },
    {
      "cell_type": "code",
      "execution_count": 44,
      "metadata": {
        "colab": {
          "base_uri": "https://localhost:8080/"
        },
        "id": "glpwlRGRGa8S",
        "outputId": "929ecb8f-41b3-437f-aba6-572330b382d2"
      },
      "outputs": [
        {
          "name": "stdout",
          "output_type": "stream",
          "text": [
            "10000\n"
          ]
        }
      ],
      "source": [
        "with open('datalabel.txt', 'w',newline='') as csvfile:\n",
        "        writer = csv.writer(csvfile, delimiter=',',quotechar='|', quoting=csv.QUOTE_MINIMAL)\n",
        "        writer.writerow(['current_class','label'])\n",
        "\n",
        "def create_subset(ds):\n",
        "  \n",
        "  airplane_i, dog_i, deer_i, frog_i, cat_i, bird_i, horse_i, automobile_i, ship_i, truck_i = [], [], [], [], [],[],[],[],[],[]\n",
        "  dog_idx, deer_idx, airplane_idx, frog_idx, cat_idx, bird_idx, automobile_idx, ship_idx, truck_idx, horse_idx = ds.class_to_idx['dog'], ds.class_to_idx['deer'],ds.class_to_idx['airplane'],ds.class_to_idx['frog'],ds.class_to_idx['cat'],ds.class_to_idx['bird'],ds.class_to_idx['automobile'],ds.class_to_idx['ship'],ds.class_to_idx['truck'],ds.class_to_idx['horse']\n",
        "  label=[]\n",
        "  for i in range(len(ds)):\n",
        "    current_class = ds[i][1]\n",
        "    if current_class == dog_idx:\n",
        "      dog_i.append(i)\n",
        "      label='dog'\n",
        "    elif current_class == deer_idx:\n",
        "      deer_i.append(i)\n",
        "      label='deer'\n",
        "    elif current_class == airplane_idx:\n",
        "      airplane_i.append(i)\n",
        "      label='airplane'\n",
        "    elif current_class == frog_idx:\n",
        "      frog_i.append(i)\n",
        "      label='frog'\n",
        "    elif current_class == cat_idx:\n",
        "      cat_i.append(i)\n",
        "      label='cat'\n",
        "    elif current_class == bird_idx:\n",
        "      bird_i.append(i)\n",
        "      label='bird'\n",
        "    elif current_class == automobile_idx:\n",
        "      automobile_i.append(i)\n",
        "      label='automobile'\n",
        "    elif current_class == ship_idx:\n",
        "      ship_i.append(i)\n",
        "      label='ship'\n",
        "    elif current_class == truck_idx:\n",
        "      truck_i.append(i) \n",
        "      label='truck'\n",
        "    else:\n",
        "      horse_i.append(i)\n",
        "      label='horse'\n",
        "    with open('datalabel.txt', 'a', newline='') as csvfile:\n",
        "          writer = csv.writer(csvfile, delimiter=',', quotechar='|', quoting=csv.QUOTE_MINIMAL)\n",
        "          writer.writerow([current_class, label])\n",
        "\n",
        "  airplane_ui = airplane_i[:int(0.2 * len(airplane_i))]\n",
        "  dog_ui = dog_i[:int(0.2 * len(dog_i))]\n",
        "  deer_ui = deer_i[:int(0.2 * len(deer_i))]\n",
        "  frog_ui = frog_i[:int(0.2 * len(frog_i))]\n",
        "  cat_ui = cat_i[:int(0.2 * len(cat_i))]\n",
        "  bird_ui = bird_i[:int(0.2 * len(bird_i))]\n",
        "  horse_ui = horse_i[:int(0.2 * len(horse_i))]\n",
        "  automobile_ui = automobile_i[:int(0.2 * len(automobile_i))]\n",
        "  ship_ui = ship_i[:int(0.2 * len(ship_i))]\n",
        "  truck_ui = truck_i[:int(0.2 * len(truck_i))]\n",
        "\n",
        "  unlabelled_dataset = Subset(ds, airplane_ui+ dog_ui+ deer_ui+ frog_ui+ cat_ui+ bird_ui+ horse_ui+ automobile_ui+ ship_ui+ truck_ui)\n",
        "  \n",
        "  \n",
        "  return unlabelled_dataset\n",
        "unlabelled_dataset = create_subset(dataset)\n",
        "print(len(unlabelled_dataset))"
      ]
    },
    {
      "cell_type": "markdown",
      "metadata": {},
      "source": [
        "### Prepare the Train loader"
      ]
    },
    {
      "cell_type": "code",
      "execution_count": 45,
      "metadata": {
        "id": "Zjcw0_XLSIy_"
      },
      "outputs": [],
      "source": [
        "trainloader = torch.utils.data.DataLoader(\n",
        "    unlabelled_dataset, batch_size=256, shuffle=True, num_workers=8)"
      ]
    },
    {
      "cell_type": "code",
      "execution_count": 46,
      "metadata": {
        "colab": {
          "base_uri": "https://localhost:8080/",
          "height": 52
        },
        "id": "CTUpzpAIQux0",
        "outputId": "0489b03f-e44f-425a-d7d0-c363dea4d54e"
      },
      "outputs": [
        {
          "data": {
            "text/plain": [
              "<Figure size 1600x1600 with 0 Axes>"
            ]
          },
          "execution_count": 46,
          "metadata": {},
          "output_type": "execute_result"
        },
        {
          "data": {
            "text/plain": [
              "<Figure size 1600x1600 with 0 Axes>"
            ]
          },
          "metadata": {},
          "output_type": "display_data"
        }
      ],
      "source": [
        "def imshow(img):\n",
        "    npimg = img.numpy()\n",
        "    plt.imshow(np.transpose(npimg, (1, 2, 0)))\n",
        "    plt.show()\n",
        "\n",
        "plt.figure(figsize=(16,16))"
      ]
    },
    {
      "cell_type": "code",
      "execution_count": 47,
      "metadata": {
        "colab": {
          "base_uri": "https://localhost:8080/",
          "height": 571
        },
        "id": "QrKaw_VBnXJ-",
        "outputId": "ff5a52be-41ba-45a1-db87-df45a811b228"
      },
      "outputs": [
        {
          "name": "stderr",
          "output_type": "stream",
          "text": [
            "Clipping input data to the valid range for imshow with RGB data ([0..1] for floats or [0..255] for integers).\n"
          ]
        },
        {
          "data": {
            "image/png": "[encoded data removed]",
            "text/plain": [
              "<Figure size 640x480 with 1 Axes>"
            ]
          },
          "metadata": {},
          "output_type": "display_data"
        },
        {
          "name": "stderr",
          "output_type": "stream",
          "text": [
            "Clipping input data to the valid range for imshow with RGB data ([0..1] for floats or [0..255] for integers).\n"
          ]
        },
        {
          "data": {
            "image/png": "[encoded data removed]",
            "text/plain": [
              "<Figure size 640x480 with 1 Axes>"
            ]
          },
          "metadata": {},
          "output_type": "display_data"
        }
      ],
      "source": [
        "# visualize augmented images \n",
        "\n",
        "for images, labels in trainloader:\n",
        "    imshow(images[0][1])\n",
        "    imshow(images[1][1])\n",
        "    break"
      ]
    },
    {
      "cell_type": "code",
      "execution_count": 48,
      "metadata": {
        "colab": {
          "base_uri": "https://localhost:8080/",
          "height": 606
        },
        "id": "kEey3vZwCnMV",
        "outputId": "ca692b89-a731-4ab6-8a38-daae60d7a8b5"
      },
      "outputs": [
        {
          "name": "stderr",
          "output_type": "stream",
          "text": [
            "Clipping input data to the valid range for imshow with RGB data ([0..1] for floats or [0..255] for integers).\n"
          ]
        },
        {
          "data": {
            "image/png": "[encoded data removed]",
            "text/plain": [
              "<Figure size 640x480 with 1 Axes>"
            ]
          },
          "metadata": {},
          "output_type": "display_data"
        },
        {
          "name": "stderr",
          "output_type": "stream",
          "text": [
            "Clipping input data to the valid range for imshow with RGB data ([0..1] for floats or [0..255] for integers).\n"
          ]
        },
        {
          "data": {
            "image/png": "[encoded data removed]",
            "text/plain": [
              "<Figure size 640x480 with 1 Axes>"
            ]
          },
          "metadata": {},
          "output_type": "display_data"
        },
        {
          "name": "stdout",
          "output_type": "stream",
          "text": [
            "\n"
          ]
        }
      ],
      "source": [
        "for images, labels in trainloader:\n",
        "    imshow(images[0][1])\n",
        "    imshow(images[1][1])\n",
        "    print()\n",
        "    break"
      ]
    },
    {
      "cell_type": "markdown",
      "metadata": {},
      "source": [
        "### SimCLR  specific Loss function Cosine Similarity"
      ]
    },
    {
      "cell_type": "code",
      "execution_count": 49,
      "metadata": {
        "id": "CotkzqPDWWsZ"
      },
      "outputs": [],
      "source": [
        "class NTXent_L(nn.Module):\n",
        "  def __init__(self,batch_size,temperature=0.5):\n",
        "      super().__init__()\n",
        "      self.batch_size=batch_size\n",
        "      self.temperature = temperature\n",
        "      \n",
        "  def cosine_sim(self, output1,output2): #output1, output2 as 2 augmented versions of image;\n",
        "    o_con= torch.cat([output1,output2], dim=0)\n",
        "    return F.cosine_similarity(o_con.unsqueeze(1), o_con.unsqueeze(0), dim=2)\n",
        "  def forward(self, z_i, z_j):\n",
        "\n",
        "    batch_size= z_i.shape[0]\n",
        "\n",
        "    sim_m = self.cosine_sim(z_i,z_j)\n",
        "\n",
        "    sim_ij = torch.diag(sim_m,batch_size)\n",
        "    sim_ji = torch.diag(sim_m, -batch_size)\n",
        "   \n",
        "    sim_con= torch.cat([sim_ij, sim_ji],dim=0)\n",
        "    pos= torch.exp(sim_con/self.temperature)\n",
        "    mask = (~torch.eye(batch_size *2 ,batch_size*2, dtype=bool)).float()\n",
        "    neg= mask.to(device) *torch.exp(sim_m/self.temperature)\n",
        "    loss = torch.sum(-torch.log(pos/torch.sum(neg, dim=1))) / (2*self.batch_size)\n",
        "    \n",
        "    return loss"
      ]
    },
    {
      "cell_type": "code",
      "execution_count": 50,
      "metadata": {
        "id": "4-SlIq_y5V8P"
      },
      "outputs": [],
      "source": [
        "criterion = NTXent_L(batch_size=256, temperature = 0.5)\n",
        "criterion = criterion.to(device)"
      ]
    },
    {
      "cell_type": "code",
      "execution_count": 51,
      "metadata": {
        "id": "4STM67XOKw2H"
      },
      "outputs": [],
      "source": [
        "class Identity(nn.Module):\n",
        "    def __init__(self):\n",
        "        super(Identity, self).__init__()\n",
        "\n",
        "    def forward(self, x):\n",
        "        return x"
      ]
    },
    {
      "cell_type": "markdown",
      "metadata": {},
      "source": [
        "### SimCLR Model"
      ]
    },
    {
      "cell_type": "code",
      "execution_count": 52,
      "metadata": {
        "id": "siwPNrNjMLEP"
      },
      "outputs": [],
      "source": [
        "class SimCLR_model(nn.Module):\n",
        "\n",
        "    def __init__(self, base_encoder, projection_dim, n_features):\n",
        "        super(SimCLR_model, self).__init__()\n",
        "\n",
        "        self.base_encoder = base_encoder\n",
        "        self.n_features = n_features\n",
        "        self.base_encoder.linear=nn.Linear(n_features, n_features)\n",
        "\n",
        "        self.base_encoder.fc = Identity()\n",
        "        self.projectionHead = nn.Sequential(\n",
        "            nn.Linear(self.n_features, self.n_features, bias=False),\n",
        "            nn.BatchNorm1d(self.n_features),\n",
        "            nn.ReLU(), #non-linearity\n",
        "            nn.Linear(self.n_features, projection_dim, bias=False),\n",
        "            nn.BatchNorm1d(projection_dim),\n",
        "        )\n",
        "\n",
        "    def forward(self, x_i, x_j):\n",
        "        h_i = self.base_encoder(x_i)\n",
        "        h_j = self.base_encoder(x_j)\n",
        "\n",
        "        z_i = self.projectionHead(h_i)\n",
        "        z_j = self.projectionHead(h_j)\n",
        "       \n",
        "        return h_i, h_j, z_i, z_j"
      ]
    },
    {
      "cell_type": "markdown",
      "metadata": {},
      "source": [
        "### Base encoder = ResNet18"
      ]
    },
    {
      "cell_type": "code",
      "execution_count": 53,
      "metadata": {},
      "outputs": [
        {
          "name": "stdout",
          "output_type": "stream",
          "text": [
            "ResNet(\n",
            "  (conv1): Conv2d(3, 64, kernel_size=(3, 3), stride=(1, 1), padding=(1, 1), bias=False)\n",
            "  (bn1): BatchNorm2d(64, eps=1e-05, momentum=0.1, affine=True, track_running_stats=True)\n",
            "  (layer1): Sequential(\n",
            "    (0): Bottleneck(\n",
            "      (conv1): Conv2d(64, 64, kernel_size=(1, 1), stride=(1, 1), bias=False)\n",
            "      (bn1): BatchNorm2d(64, eps=1e-05, momentum=0.1, affine=True, track_running_stats=True)\n",
            "      (conv2): Conv2d(64, 64, kernel_size=(3, 3), stride=(1, 1), padding=(1, 1), bias=False)\n",
            "      (bn2): BatchNorm2d(64, eps=1e-05, momentum=0.1, affine=True, track_running_stats=True)\n",
            "      (conv3): Conv2d(64, 256, kernel_size=(1, 1), stride=(1, 1), bias=False)\n",
            "      (bn3): BatchNorm2d(256, eps=1e-05, momentum=0.1, affine=True, track_running_stats=True)\n",
            "      (shortcut): Sequential(\n",
            "        (0): Conv2d(64, 256, kernel_size=(1, 1), stride=(1, 1), bias=False)\n",
            "        (1): BatchNorm2d(256, eps=1e-05, momentum=0.1, affine=True, track_running_stats=True)\n",
            "      )\n",
            "    )\n",
            "    (1): Bottleneck(\n",
            "      (conv1): Conv2d(256, 64, kernel_size=(1, 1), stride=(1, 1), bias=False)\n",
            "      (bn1): BatchNorm2d(64, eps=1e-05, momentum=0.1, affine=True, track_running_stats=True)\n",
            "      (conv2): Conv2d(64, 64, kernel_size=(3, 3), stride=(1, 1), padding=(1, 1), bias=False)\n",
            "      (bn2): BatchNorm2d(64, eps=1e-05, momentum=0.1, affine=True, track_running_stats=True)\n",
            "      (conv3): Conv2d(64, 256, kernel_size=(1, 1), stride=(1, 1), bias=False)\n",
            "      (bn3): BatchNorm2d(256, eps=1e-05, momentum=0.1, affine=True, track_running_stats=True)\n",
            "      (shortcut): Sequential()\n",
            "    )\n",
            "    (2): Bottleneck(\n",
            "      (conv1): Conv2d(256, 64, kernel_size=(1, 1), stride=(1, 1), bias=False)\n",
            "      (bn1): BatchNorm2d(64, eps=1e-05, momentum=0.1, affine=True, track_running_stats=True)\n",
            "      (conv2): Conv2d(64, 64, kernel_size=(3, 3), stride=(1, 1), padding=(1, 1), bias=False)\n",
            "      (bn2): BatchNorm2d(64, eps=1e-05, momentum=0.1, affine=True, track_running_stats=True)\n",
            "      (conv3): Conv2d(64, 256, kernel_size=(1, 1), stride=(1, 1), bias=False)\n",
            "      (bn3): BatchNorm2d(256, eps=1e-05, momentum=0.1, affine=True, track_running_stats=True)\n",
            "      (shortcut): Sequential()\n",
            "    )\n",
            "  )\n",
            "  (layer2): Sequential(\n",
            "    (0): Bottleneck(\n",
            "      (conv1): Conv2d(256, 128, kernel_size=(1, 1), stride=(1, 1), bias=False)\n",
            "      (bn1): BatchNorm2d(128, eps=1e-05, momentum=0.1, affine=True, track_running_stats=True)\n",
            "      (conv2): Conv2d(128, 128, kernel_size=(3, 3), stride=(2, 2), padding=(1, 1), bias=False)\n",
            "      (bn2): BatchNorm2d(128, eps=1e-05, momentum=0.1, affine=True, track_running_stats=True)\n",
            "      (conv3): Conv2d(128, 512, kernel_size=(1, 1), stride=(1, 1), bias=False)\n",
            "      (bn3): BatchNorm2d(512, eps=1e-05, momentum=0.1, affine=True, track_running_stats=True)\n",
            "      (shortcut): Sequential(\n",
            "        (0): Conv2d(256, 512, kernel_size=(1, 1), stride=(2, 2), bias=False)\n",
            "        (1): BatchNorm2d(512, eps=1e-05, momentum=0.1, affine=True, track_running_stats=True)\n",
            "      )\n",
            "    )\n",
            "    (1): Bottleneck(\n",
            "      (conv1): Conv2d(512, 128, kernel_size=(1, 1), stride=(1, 1), bias=False)\n",
            "      (bn1): BatchNorm2d(128, eps=1e-05, momentum=0.1, affine=True, track_running_stats=True)\n",
            "      (conv2): Conv2d(128, 128, kernel_size=(3, 3), stride=(1, 1), padding=(1, 1), bias=False)\n",
            "      (bn2): BatchNorm2d(128, eps=1e-05, momentum=0.1, affine=True, track_running_stats=True)\n",
            "      (conv3): Conv2d(128, 512, kernel_size=(1, 1), stride=(1, 1), bias=False)\n",
            "      (bn3): BatchNorm2d(512, eps=1e-05, momentum=0.1, affine=True, track_running_stats=True)\n",
            "      (shortcut): Sequential()\n",
            "    )\n",
            "    (2): Bottleneck(\n",
            "      (conv1): Conv2d(512, 128, kernel_size=(1, 1), stride=(1, 1), bias=False)\n",
            "      (bn1): BatchNorm2d(128, eps=1e-05, momentum=0.1, affine=True, track_running_stats=True)\n",
            "      (conv2): Conv2d(128, 128, kernel_size=(3, 3), stride=(1, 1), padding=(1, 1), bias=False)\n",
            "      (bn2): BatchNorm2d(128, eps=1e-05, momentum=0.1, affine=True, track_running_stats=True)\n",
            "      (conv3): Conv2d(128, 512, kernel_size=(1, 1), stride=(1, 1), bias=False)\n",
            "      (bn3): BatchNorm2d(512, eps=1e-05, momentum=0.1, affine=True, track_running_stats=True)\n",
            "      (shortcut): Sequential()\n",
            "    )\n",
            "    (3): Bottleneck(\n",
            "      (conv1): Conv2d(512, 128, kernel_size=(1, 1), stride=(1, 1), bias=False)\n",
            "      (bn1): BatchNorm2d(128, eps=1e-05, momentum=0.1, affine=True, track_running_stats=True)\n",
            "      (conv2): Conv2d(128, 128, kernel_size=(3, 3), stride=(1, 1), padding=(1, 1), bias=False)\n",
            "      (bn2): BatchNorm2d(128, eps=1e-05, momentum=0.1, affine=True, track_running_stats=True)\n",
            "      (conv3): Conv2d(128, 512, kernel_size=(1, 1), stride=(1, 1), bias=False)\n",
            "      (bn3): BatchNorm2d(512, eps=1e-05, momentum=0.1, affine=True, track_running_stats=True)\n",
            "      (shortcut): Sequential()\n",
            "    )\n",
            "  )\n",
            "  (layer3): Sequential(\n",
            "    (0): Bottleneck(\n",
            "      (conv1): Conv2d(512, 256, kernel_size=(1, 1), stride=(1, 1), bias=False)\n",
            "      (bn1): BatchNorm2d(256, eps=1e-05, momentum=0.1, affine=True, track_running_stats=True)\n",
            "      (conv2): Conv2d(256, 256, kernel_size=(3, 3), stride=(2, 2), padding=(1, 1), bias=False)\n",
            "      (bn2): BatchNorm2d(256, eps=1e-05, momentum=0.1, affine=True, track_running_stats=True)\n",
            "      (conv3): Conv2d(256, 1024, kernel_size=(1, 1), stride=(1, 1), bias=False)\n",
            "      (bn3): BatchNorm2d(1024, eps=1e-05, momentum=0.1, affine=True, track_running_stats=True)\n",
            "      (shortcut): Sequential(\n",
            "        (0): Conv2d(512, 1024, kernel_size=(1, 1), stride=(2, 2), bias=False)\n",
            "        (1): BatchNorm2d(1024, eps=1e-05, momentum=0.1, affine=True, track_running_stats=True)\n",
            "      )\n",
            "    )\n",
            "    (1): Bottleneck(\n",
            "      (conv1): Conv2d(1024, 256, kernel_size=(1, 1), stride=(1, 1), bias=False)\n",
            "      (bn1): BatchNorm2d(256, eps=1e-05, momentum=0.1, affine=True, track_running_stats=True)\n",
            "      (conv2): Conv2d(256, 256, kernel_size=(3, 3), stride=(1, 1), padding=(1, 1), bias=False)\n",
            "      (bn2): BatchNorm2d(256, eps=1e-05, momentum=0.1, affine=True, track_running_stats=True)\n",
            "      (conv3): Conv2d(256, 1024, kernel_size=(1, 1), stride=(1, 1), bias=False)\n",
            "      (bn3): BatchNorm2d(1024, eps=1e-05, momentum=0.1, affine=True, track_running_stats=True)\n",
            "      (shortcut): Sequential()\n",
            "    )\n",
            "    (2): Bottleneck(\n",
            "      (conv1): Conv2d(1024, 256, kernel_size=(1, 1), stride=(1, 1), bias=False)\n",
            "      (bn1): BatchNorm2d(256, eps=1e-05, momentum=0.1, affine=True, track_running_stats=True)\n",
            "      (conv2): Conv2d(256, 256, kernel_size=(3, 3), stride=(1, 1), padding=(1, 1), bias=False)\n",
            "      (bn2): BatchNorm2d(256, eps=1e-05, momentum=0.1, affine=True, track_running_stats=True)\n",
            "      (conv3): Conv2d(256, 1024, kernel_size=(1, 1), stride=(1, 1), bias=False)\n",
            "      (bn3): BatchNorm2d(1024, eps=1e-05, momentum=0.1, affine=True, track_running_stats=True)\n",
            "      (shortcut): Sequential()\n",
            "    )\n",
            "    (3): Bottleneck(\n",
            "      (conv1): Conv2d(1024, 256, kernel_size=(1, 1), stride=(1, 1), bias=False)\n",
            "      (bn1): BatchNorm2d(256, eps=1e-05, momentum=0.1, affine=True, track_running_stats=True)\n",
            "      (conv2): Conv2d(256, 256, kernel_size=(3, 3), stride=(1, 1), padding=(1, 1), bias=False)\n",
            "      (bn2): BatchNorm2d(256, eps=1e-05, momentum=0.1, affine=True, track_running_stats=True)\n",
            "      (conv3): Conv2d(256, 1024, kernel_size=(1, 1), stride=(1, 1), bias=False)\n",
            "      (bn3): BatchNorm2d(1024, eps=1e-05, momentum=0.1, affine=True, track_running_stats=True)\n",
            "      (shortcut): Sequential()\n",
            "    )\n",
            "    (4): Bottleneck(\n",
            "      (conv1): Conv2d(1024, 256, kernel_size=(1, 1), stride=(1, 1), bias=False)\n",
            "      (bn1): BatchNorm2d(256, eps=1e-05, momentum=0.1, affine=True, track_running_stats=True)\n",
            "      (conv2): Conv2d(256, 256, kernel_size=(3, 3), stride=(1, 1), padding=(1, 1), bias=False)\n",
            "      (bn2): BatchNorm2d(256, eps=1e-05, momentum=0.1, affine=True, track_running_stats=True)\n",
            "      (conv3): Conv2d(256, 1024, kernel_size=(1, 1), stride=(1, 1), bias=False)\n",
            "      (bn3): BatchNorm2d(1024, eps=1e-05, momentum=0.1, affine=True, track_running_stats=True)\n",
            "      (shortcut): Sequential()\n",
            "    )\n",
            "    (5): Bottleneck(\n",
            "      (conv1): Conv2d(1024, 256, kernel_size=(1, 1), stride=(1, 1), bias=False)\n",
            "      (bn1): BatchNorm2d(256, eps=1e-05, momentum=0.1, affine=True, track_running_stats=True)\n",
            "      (conv2): Conv2d(256, 256, kernel_size=(3, 3), stride=(1, 1), padding=(1, 1), bias=False)\n",
            "      (bn2): BatchNorm2d(256, eps=1e-05, momentum=0.1, affine=True, track_running_stats=True)\n",
            "      (conv3): Conv2d(256, 1024, kernel_size=(1, 1), stride=(1, 1), bias=False)\n",
            "      (bn3): BatchNorm2d(1024, eps=1e-05, momentum=0.1, affine=True, track_running_stats=True)\n",
            "      (shortcut): Sequential()\n",
            "    )\n",
            "  )\n",
            "  (layer4): Sequential(\n",
            "    (0): Bottleneck(\n",
            "      (conv1): Conv2d(1024, 512, kernel_size=(1, 1), stride=(1, 1), bias=False)\n",
            "      (bn1): BatchNorm2d(512, eps=1e-05, momentum=0.1, affine=True, track_running_stats=True)\n",
            "      (conv2): Conv2d(512, 512, kernel_size=(3, 3), stride=(2, 2), padding=(1, 1), bias=False)\n",
            "      (bn2): BatchNorm2d(512, eps=1e-05, momentum=0.1, affine=True, track_running_stats=True)\n",
            "      (conv3): Conv2d(512, 2048, kernel_size=(1, 1), stride=(1, 1), bias=False)\n",
            "      (bn3): BatchNorm2d(2048, eps=1e-05, momentum=0.1, affine=True, track_running_stats=True)\n",
            "      (shortcut): Sequential(\n",
            "        (0): Conv2d(1024, 2048, kernel_size=(1, 1), stride=(2, 2), bias=False)\n",
            "        (1): BatchNorm2d(2048, eps=1e-05, momentum=0.1, affine=True, track_running_stats=True)\n",
            "      )\n",
            "    )\n",
            "    (1): Bottleneck(\n",
            "      (conv1): Conv2d(2048, 512, kernel_size=(1, 1), stride=(1, 1), bias=False)\n",
            "      (bn1): BatchNorm2d(512, eps=1e-05, momentum=0.1, affine=True, track_running_stats=True)\n",
            "      (conv2): Conv2d(512, 512, kernel_size=(3, 3), stride=(1, 1), padding=(1, 1), bias=False)\n",
            "      (bn2): BatchNorm2d(512, eps=1e-05, momentum=0.1, affine=True, track_running_stats=True)\n",
            "      (conv3): Conv2d(512, 2048, kernel_size=(1, 1), stride=(1, 1), bias=False)\n",
            "      (bn3): BatchNorm2d(2048, eps=1e-05, momentum=0.1, affine=True, track_running_stats=True)\n",
            "      (shortcut): Sequential()\n",
            "    )\n",
            "    (2): Bottleneck(\n",
            "      (conv1): Conv2d(2048, 512, kernel_size=(1, 1), stride=(1, 1), bias=False)\n",
            "      (bn1): BatchNorm2d(512, eps=1e-05, momentum=0.1, affine=True, track_running_stats=True)\n",
            "      (conv2): Conv2d(512, 512, kernel_size=(3, 3), stride=(1, 1), padding=(1, 1), bias=False)\n",
            "      (bn2): BatchNorm2d(512, eps=1e-05, momentum=0.1, affine=True, track_running_stats=True)\n",
            "      (conv3): Conv2d(512, 2048, kernel_size=(1, 1), stride=(1, 1), bias=False)\n",
            "      (bn3): BatchNorm2d(2048, eps=1e-05, momentum=0.1, affine=True, track_running_stats=True)\n",
            "      (shortcut): Sequential()\n",
            "    )\n",
            "  )\n",
            "  (linear): Linear(in_features=2048, out_features=10, bias=True)\n",
            ")\n"
          ]
        }
      ],
      "source": [
        "base_encoder = ResNet50()\n",
        "print(base_encoder)"
      ]
    },
    {
      "cell_type": "code",
      "execution_count": 54,
      "metadata": {
        "id": "mgEyTG9iOKko"
      },
      "outputs": [],
      "source": [
        "projection_dim=128\n",
        "n_features= base_encoder.linear.in_features\n",
        "net= SimCLR_model(base_encoder, projection_dim, n_features)\n",
        "net= net.to(device)\n",
        "#net"
      ]
    },
    {
      "cell_type": "code",
      "execution_count": 55,
      "metadata": {
        "id": "3jsAW72eu54D"
      },
      "outputs": [],
      "source": [
        "batch_size = 256\n",
        "lr = 0.3\n",
        "start_epoch=0\n",
        "max_epoch=300\n",
        "optimizer= torch.optim.SGD(net.parameters(), lr)"
      ]
    },
    {
      "cell_type": "markdown",
      "metadata": {},
      "source": [
        "### Train the Pre-text task"
      ]
    },
    {
      "cell_type": "code",
      "execution_count": 56,
      "metadata": {},
      "outputs": [
        {
          "data": {
            "text/plain": [
              "Parameter containing:\n",
              "tensor([[-0.0198, -0.0106, -0.0024,  ...,  0.0189, -0.0215,  0.0013],\n",
              "        [ 0.0111,  0.0076, -0.0175,  ...,  0.0113,  0.0116,  0.0112],\n",
              "        [ 0.0160, -0.0062,  0.0190,  ..., -0.0037, -0.0192,  0.0065],\n",
              "        ...,\n",
              "        [ 0.0063,  0.0176,  0.0206,  ...,  0.0204, -0.0155,  0.0111],\n",
              "        [ 0.0063,  0.0089, -0.0186,  ..., -0.0086,  0.0186,  0.0009],\n",
              "        [-0.0055,  0.0046, -0.0050,  ..., -0.0086,  0.0214, -0.0087]],\n",
              "       device='cuda:0', requires_grad=True)"
            ]
          },
          "execution_count": 56,
          "metadata": {},
          "output_type": "execute_result"
        }
      ],
      "source": [
        "net.base_encoder.linear.weight\n"
      ]
    },
    {
      "cell_type": "code",
      "execution_count": 57,
      "metadata": {
        "id": "evBab6cIVHVf"
      },
      "outputs": [
        {
          "name": "stdout",
          "output_type": "stream",
          "text": [
            "epoch= 0\n",
            "epoch loss= 233.31295031309128\n",
            "epoch= 10\n",
            "epoch loss= 207.9650985300541\n",
            "epoch= 20\n",
            "epoch loss= 201.53902457654476\n",
            "epoch= 30\n",
            "epoch loss= 198.08643026649952\n",
            "epoch= 40\n",
            "epoch loss= 195.93843565881252\n",
            "epoch= 50\n",
            "epoch loss= 194.5536212325096\n",
            "epoch= 60\n",
            "epoch loss= 192.5896695703268\n",
            "epoch= 70\n",
            "epoch loss= 192.57478781044483\n",
            "epoch= 80\n",
            "epoch loss= 190.61799731850624\n",
            "epoch= 90\n",
            "epoch loss= 190.42702248692513\n",
            "epoch= 100\n",
            "epoch loss= 189.4749294668436\n",
            "epoch= 110\n",
            "epoch loss= 188.95396001636982\n",
            "epoch= 120\n",
            "epoch loss= 188.43114568293095\n",
            "epoch= 130\n",
            "epoch loss= 191.1613228470087\n",
            "epoch= 140\n",
            "epoch loss= 187.91238513588905\n",
            "epoch= 150\n",
            "epoch loss= 187.97919577360153\n",
            "epoch= 160\n",
            "epoch loss= 187.26442359387875\n",
            "epoch= 170\n",
            "epoch loss= 186.78734776377678\n",
            "epoch= 180\n",
            "epoch loss= 186.5803474187851\n",
            "epoch= 190\n",
            "epoch loss= 186.45508091151714\n",
            "epoch= 200\n",
            "epoch loss= 187.25713562965393\n",
            "epoch= 210\n",
            "epoch loss= 186.0587771013379\n",
            "epoch= 220\n",
            "epoch loss= 185.7241676747799\n",
            "epoch= 230\n",
            "epoch loss= 185.8436635285616\n",
            "epoch= 240\n",
            "epoch loss= 185.38554829359055\n",
            "epoch= 250\n",
            "epoch loss= 185.3416786789894\n",
            "epoch= 260\n",
            "epoch loss= 184.60671010613441\n",
            "epoch= 270\n",
            "epoch loss= 184.55903351306915\n",
            "epoch= 280\n",
            "epoch loss= 184.26049490273\n",
            "epoch= 290\n",
            "epoch loss= 184.38475896418095\n"
          ]
        }
      ],
      "source": [
        "def train(epoch):\n",
        "    # print('\\nEpoch: %d' % epoch)\n",
        "    net.train()\n",
        "    s=0\n",
        "    tot_loss = 0\n",
        "    total = 0\n",
        "    batch_idx=0\n",
        "    i=0\n",
        "    for batch_idx, (images, targets) in enumerate(trainloader):\n",
        "        images[0], images[1], labels = images[0].to(device),images[1].to(device), targets.to(device)\n",
        "        optimizer.zero_grad()\n",
        "\n",
        "        h_i, h_j, z_i, z_j = net(images[0], images[1])\n",
        "        loss= criterion(z_i,z_j)\n",
        "\n",
        "        loss.backward()\n",
        "\n",
        "        optimizer.step()\n",
        "\n",
        "        tot_loss += loss.item()\n",
        "        # print('batch loss', loss.item())\n",
        "\n",
        "    if epoch % 10 == 0:\n",
        "        print(\"epoch=\",epoch)\n",
        "        print(\"epoch loss=\",tot_loss)\n",
        "\n",
        "    if epoch % 25 == 0:\n",
        "        modelstate_save_name = 'modelstate_bs_restart_r.pt'\n",
        "        path_modelstate = F\"/home/rishabh.mondal/Brick-Kilns-project/albk_rishabh/Saved_model/{modelstate_save_name}\" \n",
        "        torch.save(net.state_dict(), path_modelstate)\n",
        "\n",
        "        parameters_end = {\n",
        "            'net': net.state_dict(),\n",
        "            'epoch': epoch,\n",
        "            'loss': tot_loss\n",
        "        }\n",
        "        paramsend_save_name = 'paramsend_bs_restart_r.pt'\n",
        "        path_paramsend = F\"/home/rishabh.mondal/Brick-Kilns-project/albk_rishabh/Saved_model/{paramsend_save_name}\" \n",
        "        torch.save(parameters_end, path_paramsend)\n",
        "\n",
        "for epoch in range(start_epoch, start_epoch+max_epoch):\n",
        "    train(epoch)\n",
        "      "
      ]
    },
    {
      "cell_type": "code",
      "execution_count": null,
      "metadata": {},
      "outputs": [],
      "source": []
    }
  ],
  "metadata": {
    "accelerator": "GPU",
    "colab": {
      "provenance": []
    },
    "gpuClass": "standard",
    "kernelspec": {
      "display_name": "Python 3",
      "name": "python3"
    },
    "language_info": {
      "codemirror_mode": {
        "name": "ipython",
        "version": 3
      },
      "file_extension": ".py",
      "mimetype": "text/x-python",
      "name": "python",
      "nbconvert_exporter": "python",
      "pygments_lexer": "ipython3",
      "version": "3.11.5"
    },
    "widgets": {
      "application/vnd.jupyter.widget-state+json": {
        "0472bea112604ce38fae9eb0dd8c7016": {
          "model_module": "@jupyter-widgets/controls",
          "model_module_version": "1.5.0",
          "model_name": "FloatProgressModel",
          "state": {
            "_dom_classes": [],
            "_model_module": "@jupyter-widgets/controls",
            "_model_module_version": "1.5.0",
            "_model_name": "FloatProgressModel",
            "_view_count": null,
            "_view_module": "@jupyter-widgets/controls",
            "_view_module_version": "1.5.0",
            "_view_name": "ProgressView",
            "bar_style": "success",
            "description": "",
            "description_tooltip": null,
            "layout": "IPY_MODEL_e4931b58bb4b4a3f8260a455dd292074",
            "max": 170498071,
            "min": 0,
            "orientation": "horizontal",
            "style": "IPY_MODEL_3346ed3347af4c8e91a73f7946e7cbfa",
            "value": 170498071
          }
        },
        "0ef8906a788f4b9a917bfd89347dc6e0": {
          "model_module": "@jupyter-widgets/controls",
          "model_module_version": "1.5.0",
          "model_name": "DescriptionStyleModel",
          "state": {
            "_model_module": "@jupyter-widgets/controls",
            "_model_module_version": "1.5.0",
            "_model_name": "DescriptionStyleModel",
            "_view_count": null,
            "_view_module": "@jupyter-widgets/base",
            "_view_module_version": "1.2.0",
            "_view_name": "StyleView",
            "description_width": ""
          }
        },
        "1005bf7a75a841fbbb94c2909bcea09d": {
          "model_module": "@jupyter-widgets/controls",
          "model_module_version": "1.5.0",
          "model_name": "DescriptionStyleModel",
          "state": {
            "_model_module": "@jupyter-widgets/controls",
            "_model_module_version": "1.5.0",
            "_model_name": "DescriptionStyleModel",
            "_view_count": null,
            "_view_module": "@jupyter-widgets/base",
            "_view_module_version": "1.2.0",
            "_view_name": "StyleView",
            "description_width": ""
          }
        },
        "3346ed3347af4c8e91a73f7946e7cbfa": {
          "model_module": "@jupyter-widgets/controls",
          "model_module_version": "1.5.0",
          "model_name": "ProgressStyleModel",
          "state": {
            "_model_module": "@jupyter-widgets/controls",
            "_model_module_version": "1.5.0",
            "_model_name": "ProgressStyleModel",
            "_view_count": null,
            "_view_module": "@jupyter-widgets/base",
            "_view_module_version": "1.2.0",
            "_view_name": "StyleView",
            "bar_color": null,
            "description_width": ""
          }
        },
        "35b6e8cea90747eab7a2bd5996bdd73b": {
          "model_module": "@jupyter-widgets/base",
          "model_module_version": "1.2.0",
          "model_name": "LayoutModel",
          "state": {
            "_model_module": "@jupyter-widgets/base",
            "_model_module_version": "1.2.0",
            "_model_name": "LayoutModel",
            "_view_count": null,
            "_view_module": "@jupyter-widgets/base",
            "_view_module_version": "1.2.0",
            "_view_name": "LayoutView",
            "align_content": null,
            "align_items": null,
            "align_self": null,
            "border": null,
            "bottom": null,
            "display": null,
            "flex": null,
            "flex_flow": null,
            "grid_area": null,
            "grid_auto_columns": null,
            "grid_auto_flow": null,
            "grid_auto_rows": null,
            "grid_column": null,
            "grid_gap": null,
            "grid_row": null,
            "grid_template_areas": null,
            "grid_template_columns": null,
            "grid_template_rows": null,
            "height": null,
            "justify_content": null,
            "justify_items": null,
            "left": null,
            "margin": null,
            "max_height": null,
            "max_width": null,
            "min_height": null,
            "min_width": null,
            "object_fit": null,
            "object_position": null,
            "order": null,
            "overflow": null,
            "overflow_x": null,
            "overflow_y": null,
            "padding": null,
            "right": null,
            "top": null,
            "visibility": null,
            "width": null
          }
        },
        "4fbaf6d539f045249d12f3e465534d4f": {
          "model_module": "@jupyter-widgets/controls",
          "model_module_version": "1.5.0",
          "model_name": "HBoxModel",
          "state": {
            "_dom_classes": [],
            "_model_module": "@jupyter-widgets/controls",
            "_model_module_version": "1.5.0",
            "_model_name": "HBoxModel",
            "_view_count": null,
            "_view_module": "@jupyter-widgets/controls",
            "_view_module_version": "1.5.0",
            "_view_name": "HBoxView",
            "box_style": "",
            "children": [
              "IPY_MODEL_71c2733f5cac4b34aec139920b2276bb",
              "IPY_MODEL_0472bea112604ce38fae9eb0dd8c7016",
              "IPY_MODEL_d936face0d2342fd80ebdf02d66a4b38"
            ],
            "layout": "IPY_MODEL_35b6e8cea90747eab7a2bd5996bdd73b"
          }
        },
        "71c2733f5cac4b34aec139920b2276bb": {
          "model_module": "@jupyter-widgets/controls",
          "model_module_version": "1.5.0",
          "model_name": "HTMLModel",
          "state": {
            "_dom_classes": [],
            "_model_module": "@jupyter-widgets/controls",
            "_model_module_version": "1.5.0",
            "_model_name": "HTMLModel",
            "_view_count": null,
            "_view_module": "@jupyter-widgets/controls",
            "_view_module_version": "1.5.0",
            "_view_name": "HTMLView",
            "description": "",
            "description_tooltip": null,
            "layout": "IPY_MODEL_cdd363f97f044c55afa07cb805aa674d",
            "placeholder": "​",
            "style": "IPY_MODEL_1005bf7a75a841fbbb94c2909bcea09d",
            "value": "100%"
          }
        },
        "b941dab936f64c74a11ca99cd0bce267": {
          "model_module": "@jupyter-widgets/base",
          "model_module_version": "1.2.0",
          "model_name": "LayoutModel",
          "state": {
            "_model_module": "@jupyter-widgets/base",
            "_model_module_version": "1.2.0",
            "_model_name": "LayoutModel",
            "_view_count": null,
            "_view_module": "@jupyter-widgets/base",
            "_view_module_version": "1.2.0",
            "_view_name": "LayoutView",
            "align_content": null,
            "align_items": null,
            "align_self": null,
            "border": null,
            "bottom": null,
            "display": null,
            "flex": null,
            "flex_flow": null,
            "grid_area": null,
            "grid_auto_columns": null,
            "grid_auto_flow": null,
            "grid_auto_rows": null,
            "grid_column": null,
            "grid_gap": null,
            "grid_row": null,
            "grid_template_areas": null,
            "grid_template_columns": null,
            "grid_template_rows": null,
            "height": null,
            "justify_content": null,
            "justify_items": null,
            "left": null,
            "margin": null,
            "max_height": null,
            "max_width": null,
            "min_height": null,
            "min_width": null,
            "object_fit": null,
            "object_position": null,
            "order": null,
            "overflow": null,
            "overflow_x": null,
            "overflow_y": null,
            "padding": null,
            "right": null,
            "top": null,
            "visibility": null,
            "width": null
          }
        },
        "cdd363f97f044c55afa07cb805aa674d": {
          "model_module": "@jupyter-widgets/base",
          "model_module_version": "1.2.0",
          "model_name": "LayoutModel",
          "state": {
            "_model_module": "@jupyter-widgets/base",
            "_model_module_version": "1.2.0",
            "_model_name": "LayoutModel",
            "_view_count": null,
            "_view_module": "@jupyter-widgets/base",
            "_view_module_version": "1.2.0",
            "_view_name": "LayoutView",
            "align_content": null,
            "align_items": null,
            "align_self": null,
            "border": null,
            "bottom": null,
            "display": null,
            "flex": null,
            "flex_flow": null,
            "grid_area": null,
            "grid_auto_columns": null,
            "grid_auto_flow": null,
            "grid_auto_rows": null,
            "grid_column": null,
            "grid_gap": null,
            "grid_row": null,
            "grid_template_areas": null,
            "grid_template_columns": null,
            "grid_template_rows": null,
            "height": null,
            "justify_content": null,
            "justify_items": null,
            "left": null,
            "margin": null,
            "max_height": null,
            "max_width": null,
            "min_height": null,
            "min_width": null,
            "object_fit": null,
            "object_position": null,
            "order": null,
            "overflow": null,
            "overflow_x": null,
            "overflow_y": null,
            "padding": null,
            "right": null,
            "top": null,
            "visibility": null,
            "width": null
          }
        },
        "d936face0d2342fd80ebdf02d66a4b38": {
          "model_module": "@jupyter-widgets/controls",
          "model_module_version": "1.5.0",
          "model_name": "HTMLModel",
          "state": {
            "_dom_classes": [],
            "_model_module": "@jupyter-widgets/controls",
            "_model_module_version": "1.5.0",
            "_model_name": "HTMLModel",
            "_view_count": null,
            "_view_module": "@jupyter-widgets/controls",
            "_view_module_version": "1.5.0",
            "_view_name": "HTMLView",
            "description": "",
            "description_tooltip": null,
            "layout": "IPY_MODEL_b941dab936f64c74a11ca99cd0bce267",
            "placeholder": "​",
            "style": "IPY_MODEL_0ef8906a788f4b9a917bfd89347dc6e0",
            "value": " 170498071/170498071 [00:04&lt;00:00, 46648320.99it/s]"
          }
        },
        "e4931b58bb4b4a3f8260a455dd292074": {
          "model_module": "@jupyter-widgets/base",
          "model_module_version": "1.2.0",
          "model_name": "LayoutModel",
          "state": {
            "_model_module": "@jupyter-widgets/base",
            "_model_module_version": "1.2.0",
            "_model_name": "LayoutModel",
            "_view_count": null,
            "_view_module": "@jupyter-widgets/base",
            "_view_module_version": "1.2.0",
            "_view_name": "LayoutView",
            "align_content": null,
            "align_items": null,
            "align_self": null,
            "border": null,
            "bottom": null,
            "display": null,
            "flex": null,
            "flex_flow": null,
            "grid_area": null,
            "grid_auto_columns": null,
            "grid_auto_flow": null,
            "grid_auto_rows": null,
            "grid_column": null,
            "grid_gap": null,
            "grid_row": null,
            "grid_template_areas": null,
            "grid_template_columns": null,
            "grid_template_rows": null,
            "height": null,
            "justify_content": null,
            "justify_items": null,
            "left": null,
            "margin": null,
            "max_height": null,
            "max_width": null,
            "min_height": null,
            "min_width": null,
            "object_fit": null,
            "object_position": null,
            "order": null,
            "overflow": null,
            "overflow_x": null,
            "overflow_y": null,
            "padding": null,
            "right": null,
            "top": null,
            "visibility": null,
            "width": null
          }
        }
      }
    }
  },
  "nbformat": 4,
  "nbformat_minor": 0
}
