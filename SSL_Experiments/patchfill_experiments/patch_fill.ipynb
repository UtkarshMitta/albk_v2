{
 "cells": [
  {
   "cell_type": "code",
   "execution_count": 1,
   "metadata": {},
   "outputs": [],
   "source": [
    "import os \n",
    "os.environ[\"CUDA_VISIBLE_DEVICES\"] = \"3\""
   ]
  },
  {
   "cell_type": "code",
   "execution_count": 2,
   "metadata": {},
   "outputs": [
    {
     "name": "stderr",
     "output_type": "stream",
     "text": [
      "/home/rishabh.mondal/ASTRA/astra/torch/data.py:12: UserWarning: TORCH_HOME not set, setting it to /home/rishabh.mondal/.cache/torch\n",
      "  warnings.warn(f\"TORCH_HOME not set, setting it to {os.environ['TORCH_HOME']}\")\n"
     ]
    }
   ],
   "source": [
    "import torch\n",
    "from astra.torch.models import ResNetClassifier,ResNet18_Weights\n",
    "from astra.torch.data import load_cifar_10\n",
    "import torch\n",
    "import torch.nn as nn\n",
    "from glob import glob\n",
    "from os.path import expanduser, join, basename, dirname\n",
    "import xarray as xr\n",
    "import numpy as np\n",
    "from tqdm import tqdm\n",
    "import pandas as pd\n",
    "import matplotlib.pyplot as plt\n",
    "from itertools import product\n",
    "from torch.utils.data import TensorDataset, DataLoader\n",
    "from astra.torch.models import ResNetClassifier,ResNet18_Weights\n",
    "from astra.torch.utils import train_fn\n",
    "\n",
    "import torchvision.models as models\n",
    "from astra.torch.metrics import accuracy_score, f1_score, precision_score, recall_score,classification_report"
   ]
  },
  {
   "cell_type": "code",
   "execution_count": 3,
   "metadata": {},
   "outputs": [
    {
     "name": "stdout",
     "output_type": "stream",
     "text": [
      "Files already downloaded and verified\n",
      "Files already downloaded and verified\n"
     ]
    },
    {
     "data": {
      "text/plain": [
       "\n",
       "CIFAR-10 Dataset\n",
       "length of dataset: 60000\n",
       "shape of images: torch.Size([3, 32, 32])\n",
       "len of classes: 10\n",
       "classes: ['airplane', 'automobile', 'bird', 'cat', 'deer', 'dog', 'frog', 'horse', 'ship', 'truck']\n",
       "dtype of images: torch.float32\n",
       "dtype of labels: torch.int64\n",
       "range of image values: min=0.0, max=1.0\n",
       "            "
      ]
     },
     "execution_count": 3,
     "metadata": {},
     "output_type": "execute_result"
    }
   ],
   "source": [
    "dataset = load_cifar_10()\n",
    "dataset"
   ]
  },
  {
   "cell_type": "markdown",
   "metadata": {},
   "source": [
    "#### Make dataset for one vs rest classification"
   ]
  },
  {
   "cell_type": "code",
   "execution_count": 4,
   "metadata": {},
   "outputs": [
    {
     "name": "stdout",
     "output_type": "stream",
     "text": [
      "tensor([1, 0, 0,  ..., 0, 0, 0], dtype=torch.uint8)\n",
      "60000\n",
      "torch.Size([10000, 3, 32, 32])\n",
      "torch.Size([10000])\n",
      "torch.Size([40000, 3, 32, 32])\n",
      "torch.Size([40000])\n",
      "torch.Size([20000, 3, 32, 32])\n",
      "torch.Size([20000])\n"
     ]
    }
   ],
   "source": [
    "n_train=10000\n",
    "n_pool=40000\n",
    "n_test=20000\n",
    "y=dataset.targets\n",
    "x=dataset.data\n",
    "classes=dataset.classes\n",
    "class_1_idx=classes.index('frog')\n",
    "class_1_mask=y==class_1_idx\n",
    "y=class_1_mask.byte()\n",
    "print(y)\n",
    "print(len(y))\n",
    "idx=torch.randperm(len(y))\n",
    "train_data=x[idx[:n_train]]\n",
    "train_targets=y[idx[:n_train]]\n",
    "\n",
    "# pool_data=x[idx[n_train:-n_test]]\n",
    "# pool_targets=y[idx[n_train:-n_test]]\n",
    "\n",
    "test_data=x[idx[-n_test:]]\n",
    "test_targets=y[idx[-n_test:]]\n",
    "\n",
    "pool_data=x[idx[:n_pool]]\n",
    "pool_targets=y[idx[:n_pool]]\n",
    "\n",
    "print(train_data.shape)\n",
    "print(train_targets.shape)\n",
    "print(pool_data.shape)\n",
    "print(pool_targets.shape)\n",
    "print(test_data.shape)\n",
    "print(test_targets.shape)\n"
   ]
  },
  {
   "cell_type": "code",
   "execution_count": 5,
   "metadata": {},
   "outputs": [],
   "source": [
    "# def remove_patches(images):\n",
    "#     patched_images = images.clone()\n",
    "#     for i in range(images.size(0)):\n",
    "#         # Randomly choose the top-left corner of the patch\n",
    "#         row_start = torch.randint(0, 25, (1,))\n",
    "#         col_start = torch.randint(0, 25, (1,))\n",
    "        \n",
    "#         # Remove the 8x8 patch\n",
    "#         patched_images[i, :, row_start:row_start+8, col_start:col_start+8] = 0\n",
    "\n",
    "#     return patched_images\n",
    "# train_indices = idx[:n_pool]\n",
    "# print(len(train_indices))\n",
    "# train_data_patch = remove_patches(pool_data)\n",
    "# print(train_data_patch.shape)\n",
    "# import matplotlib.pyplot as plt\n",
    "# import torchvision.transforms.functional as F\n",
    "\n",
    "# # Function to display images\n",
    "# def display_images(images, targets, classes, num_images=5):\n",
    "#     plt.figure(figsize=(15, 3))\n",
    "#     for i in range(num_images):\n",
    "#         plt.subplot(1, num_images, i + 1)\n",
    "#         image = F.to_pil_image(images[i])\n",
    "#         plt.imshow(image)\n",
    "#         plt.title(f\"Target: {classes[targets[i].item()]}\")\n",
    "#         plt.axis('off')\n",
    "#     plt.show()\n",
    "\n",
    "# # Display five images from the modified train dataset\n",
    "# display_images(train_data_patch, train_targets, dataset.classes, num_images=5)\n",
    "# display_images(fill_patches_with_white, train_targets, dataset.classes, num_images=5)"
   ]
  },
  {
   "cell_type": "code",
   "execution_count": 6,
   "metadata": {},
   "outputs": [],
   "source": [
    "import cv2\n",
    "import numpy as np\n",
    "import matplotlib.pyplot as plt\n",
    "np.random.seed(0)\n",
    "\n",
    "\n"
   ]
  },
  {
   "cell_type": "code",
   "execution_count": 7,
   "metadata": {},
   "outputs": [],
   "source": [
    "import torchvision.transforms as transforms\n",
    "aug = transforms.Compose([\n",
    "\n",
    "    transforms.RandomGrayscale(p=0.2),\n",
    "    transforms.ColorJitter(0.8*0.1, 0.8*0.1, 0.8*0.1, 0.2*0.1),\n",
    "    transforms.GaussianBlur(kernel_size=23, sigma=(0.1, 2.0)),\n",
    "    transforms.RandomHorizontalFlip(p=0.5),\n",
    "    transforms.RandomVerticalFlip(p=0.5)\n",
    "])"
   ]
  },
  {
   "cell_type": "code",
   "execution_count": 8,
   "metadata": {},
   "outputs": [
    {
     "name": "stdout",
     "output_type": "stream",
     "text": [
      "torch.Size([40000, 3, 32, 32])\n"
     ]
    }
   ],
   "source": [
    "augmentaed_images=aug(pool_data)\n",
    "print(augmentaed_images.shape)\n",
    "augmentaed_images1=aug(pool_data)\n",
    "dataset1 = TensorDataset(augmentaed_images,augmentaed_images1)"
   ]
  },
  {
   "cell_type": "code",
   "execution_count": 9,
   "metadata": {},
   "outputs": [],
   "source": [
    "from torch.utils.data import DataLoader, random_split, TensorDataset\n",
    "\n",
    "train_ratio = 0.8\n",
    "dataset_size = len(dataset1)\n",
    "train_size = int(train_ratio * dataset_size)\n",
    "val_size = dataset_size - train_size\n",
    "\n",
    "# Split the dataset\n",
    "train_dataset, val_dataset = random_split(dataset1, [train_size, val_size])\n",
    "\n",
    "# You can then create DataLoader instances for training and validation\n",
    "pretrain_loader = DataLoader(train_dataset, batch_size=256, shuffle=True)\n",
    "preval_loader = DataLoader(val_dataset, batch_size=256, shuffle=False)\n"
   ]
  },
  {
   "cell_type": "markdown",
   "metadata": {},
   "source": [
    "### Pretrain Task SimCLR"
   ]
  },
  {
   "cell_type": "code",
   "execution_count": 10,
   "metadata": {},
   "outputs": [],
   "source": [
    "import torch \n",
    "import torch.nn as nn\n",
    "from torchvision.models import resnet18\n",
    "\n",
    "class SimCLR(nn.Module):\n",
    "    def __init__(self, out_dim):\n",
    "        super(SimCLR, self).__init__()\n",
    "        resnet = resnet18(weights=None)\n",
    "        res_out_dim = resnet.fc.in_features\n",
    "        #resnet encoder\n",
    "        self.f = nn.Sequential(*list(resnet.children())[:-1])\n",
    "        #non linear projection head\n",
    "        self.g = nn.Sequential(nn.Linear(res_out_dim, res_out_dim), nn.ReLU(), nn.Linear(res_out_dim, out_dim))\n",
    "\n",
    "    def forward(self, xi, xj):\n",
    "        x = torch.cat([xi, xj], dim=0)\n",
    "        h = self.f(x)\n",
    "        z = self.g(h.squeeze())\n",
    "        return h, z\n",
    "\n",
    "    def get_hidden(self, x):\n",
    "        h = self.f(x)\n",
    "        return h.squeeze()\n",
    "\n",
    "        \n",
    "\n"
   ]
  },
  {
   "cell_type": "code",
   "execution_count": 11,
   "metadata": {},
   "outputs": [
    {
     "name": "stdout",
     "output_type": "stream",
     "text": [
      "----------------------------------------------------------------\n",
      "        Layer (type)               Output Shape         Param #\n",
      "================================================================\n",
      "            Conv2d-1           [-1, 64, 16, 16]           9,408\n",
      "       BatchNorm2d-2           [-1, 64, 16, 16]             128\n",
      "              ReLU-3           [-1, 64, 16, 16]               0\n",
      "         MaxPool2d-4             [-1, 64, 8, 8]               0\n",
      "            Conv2d-5             [-1, 64, 8, 8]          36,864\n",
      "       BatchNorm2d-6             [-1, 64, 8, 8]             128\n",
      "              ReLU-7             [-1, 64, 8, 8]               0\n",
      "            Conv2d-8             [-1, 64, 8, 8]          36,864\n",
      "       BatchNorm2d-9             [-1, 64, 8, 8]             128\n",
      "             ReLU-10             [-1, 64, 8, 8]               0\n",
      "       BasicBlock-11             [-1, 64, 8, 8]               0\n",
      "           Conv2d-12             [-1, 64, 8, 8]          36,864\n",
      "      BatchNorm2d-13             [-1, 64, 8, 8]             128\n",
      "             ReLU-14             [-1, 64, 8, 8]               0\n",
      "           Conv2d-15             [-1, 64, 8, 8]          36,864\n",
      "      BatchNorm2d-16             [-1, 64, 8, 8]             128\n",
      "             ReLU-17             [-1, 64, 8, 8]               0\n",
      "       BasicBlock-18             [-1, 64, 8, 8]               0\n",
      "           Conv2d-19            [-1, 128, 4, 4]          73,728\n",
      "      BatchNorm2d-20            [-1, 128, 4, 4]             256\n",
      "             ReLU-21            [-1, 128, 4, 4]               0\n",
      "           Conv2d-22            [-1, 128, 4, 4]         147,456\n",
      "      BatchNorm2d-23            [-1, 128, 4, 4]             256\n",
      "           Conv2d-24            [-1, 128, 4, 4]           8,192\n",
      "      BatchNorm2d-25            [-1, 128, 4, 4]             256\n",
      "             ReLU-26            [-1, 128, 4, 4]               0\n",
      "       BasicBlock-27            [-1, 128, 4, 4]               0\n",
      "           Conv2d-28            [-1, 128, 4, 4]         147,456\n",
      "      BatchNorm2d-29            [-1, 128, 4, 4]             256\n",
      "             ReLU-30            [-1, 128, 4, 4]               0\n",
      "           Conv2d-31            [-1, 128, 4, 4]         147,456\n",
      "      BatchNorm2d-32            [-1, 128, 4, 4]             256\n",
      "             ReLU-33            [-1, 128, 4, 4]               0\n",
      "       BasicBlock-34            [-1, 128, 4, 4]               0\n",
      "           Conv2d-35            [-1, 256, 2, 2]         294,912\n",
      "      BatchNorm2d-36            [-1, 256, 2, 2]             512\n",
      "             ReLU-37            [-1, 256, 2, 2]               0\n",
      "           Conv2d-38            [-1, 256, 2, 2]         589,824\n",
      "      BatchNorm2d-39            [-1, 256, 2, 2]             512\n",
      "           Conv2d-40            [-1, 256, 2, 2]          32,768\n",
      "      BatchNorm2d-41            [-1, 256, 2, 2]             512\n",
      "             ReLU-42            [-1, 256, 2, 2]               0\n",
      "       BasicBlock-43            [-1, 256, 2, 2]               0\n",
      "           Conv2d-44            [-1, 256, 2, 2]         589,824\n",
      "      BatchNorm2d-45            [-1, 256, 2, 2]             512\n",
      "             ReLU-46            [-1, 256, 2, 2]               0\n",
      "           Conv2d-47            [-1, 256, 2, 2]         589,824\n",
      "      BatchNorm2d-48            [-1, 256, 2, 2]             512\n",
      "             ReLU-49            [-1, 256, 2, 2]               0\n",
      "       BasicBlock-50            [-1, 256, 2, 2]               0\n",
      "           Conv2d-51            [-1, 512, 1, 1]       1,179,648\n",
      "      BatchNorm2d-52            [-1, 512, 1, 1]           1,024\n",
      "             ReLU-53            [-1, 512, 1, 1]               0\n",
      "           Conv2d-54            [-1, 512, 1, 1]       2,359,296\n",
      "      BatchNorm2d-55            [-1, 512, 1, 1]           1,024\n",
      "           Conv2d-56            [-1, 512, 1, 1]         131,072\n",
      "      BatchNorm2d-57            [-1, 512, 1, 1]           1,024\n",
      "             ReLU-58            [-1, 512, 1, 1]               0\n",
      "       BasicBlock-59            [-1, 512, 1, 1]               0\n",
      "           Conv2d-60            [-1, 512, 1, 1]       2,359,296\n",
      "      BatchNorm2d-61            [-1, 512, 1, 1]           1,024\n",
      "             ReLU-62            [-1, 512, 1, 1]               0\n",
      "           Conv2d-63            [-1, 512, 1, 1]       2,359,296\n",
      "      BatchNorm2d-64            [-1, 512, 1, 1]           1,024\n",
      "             ReLU-65            [-1, 512, 1, 1]               0\n",
      "       BasicBlock-66            [-1, 512, 1, 1]               0\n",
      "AdaptiveAvgPool2d-67            [-1, 512, 1, 1]               0\n",
      "           Linear-68                  [-1, 512]         262,656\n",
      "             ReLU-69                  [-1, 512]               0\n",
      "           Linear-70                  [-1, 128]          65,664\n",
      "================================================================\n",
      "Total params: 11,504,832\n",
      "Trainable params: 11,504,832\n",
      "Non-trainable params: 0\n",
      "----------------------------------------------------------------\n",
      "Input size (MB): 36.00\n",
      "Forward/backward pass size (MB): 1.29\n",
      "Params size (MB): 43.89\n",
      "Estimated Total Size (MB): 81.18\n",
      "----------------------------------------------------------------\n"
     ]
    }
   ],
   "source": [
    "from torchsummary import summary\n",
    "models = SimCLR(128).to('cuda')\n",
    "# Assuming 'model' is your SimCLR model\n",
    "summary(models, input_size=[(3, 32, 32), (3, 32, 32)])\n"
   ]
  },
  {
   "cell_type": "code",
   "execution_count": 12,
   "metadata": {},
   "outputs": [],
   "source": [
    "device = 'cuda' if torch.cuda.is_available else 'cpu'\n",
    "\n",
    "### Hyperparameters setting\n",
    "epochs = 100\n",
    "batch_size = 64\n",
    "T = 0.5\n",
    "proj_dim = 512\n",
    "num_worker = 8\n",
    "valid_size = 0.2\n",
    "strength = 1.0\n",
    "trainloss = []\n",
    "valloss = []"
   ]
  },
  {
   "cell_type": "code",
   "execution_count": 13,
   "metadata": {},
   "outputs": [],
   "source": [
    "model = SimCLR(out_dim=proj_dim).to(device)\n",
    "optimizer = torch.optim.Adam(model.parameters(), 1e-3, weight_decay=1e-5)\n",
    "scheduler = torch.optim.lr_scheduler.CosineAnnealingLR(optimizer, T_max=len(pretrain_loader), eta_min=0, last_epoch=-1)\n",
    "val_loss = 1e9\n"
   ]
  },
  {
   "cell_type": "code",
   "execution_count": 14,
   "metadata": {},
   "outputs": [],
   "source": [
    "import torch.nn.functional as F\n"
   ]
  },
  {
   "cell_type": "code",
   "execution_count": 15,
   "metadata": {},
   "outputs": [],
   "source": [
    "def NTXent(z, N):\n",
    "    # z = F.normalize(z, dim=1)\n",
    "    mask = torch.eye(N*2).to(device).bool()\n",
    "    tmp = torch.mm(z, z.T).masked_fill(mask, float('-inf'))\n",
    "    loss_matrix = - F.log_softmax(tmp / T, dim=1) \n",
    "    loss = sum(torch.diag(loss_matrix[:N, N:]))+sum(torch.diag(loss_matrix[N:, :N]))\n",
    "    loss /= 2 * N\n",
    "    return loss"
   ]
  },
  {
   "cell_type": "code",
   "execution_count": 16,
   "metadata": {},
   "outputs": [
    {
     "name": "stdout",
     "output_type": "stream",
     "text": [
      "Train loss after 10 epochs: 0.0133\n",
      "Val loss after 10 epochs: 0.0268\n",
      "Train loss after 20 epochs: 0.0088\n",
      "Val loss after 20 epochs: 0.0342\n",
      "Train loss after 30 epochs: 0.0081\n",
      "Val loss after 30 epochs: 0.0211\n",
      "Train loss after 40 epochs: 0.0076\n",
      "Val loss after 40 epochs: 0.0438\n",
      "Train loss after 50 epochs: 0.0157\n",
      "Val loss after 50 epochs: 0.1218\n",
      "Train loss after 60 epochs: 0.0093\n",
      "Val loss after 60 epochs: 0.1340\n",
      "Train loss after 70 epochs: 0.0078\n",
      "Val loss after 70 epochs: 0.0512\n",
      "Train loss after 80 epochs: 0.0053\n",
      "Val loss after 80 epochs: 0.0153\n",
      "Train loss after 90 epochs: 0.0041\n",
      "Val loss after 90 epochs: 0.0115\n",
      "Train loss after 100 epochs: 0.0078\n",
      "Val loss after 100 epochs: 0.0150\n"
     ]
    }
   ],
   "source": [
    "for epoch in range(epochs):\n",
    "    model.train()\n",
    "    epoch_loss = 0\n",
    "    for x1, x2 in pretrain_loader:\n",
    "        x1, x2 = x1.to(device), x2.to(device)\n",
    "        h, z = model(x1, x2)\n",
    "        loss = NTXent(z, x1.size(0))\n",
    "        optimizer.zero_grad()\n",
    "        loss.backward()\n",
    "        optimizer.step()\n",
    "        epoch_loss += loss.item()\n",
    "        scheduler.step()\n",
    "    epoch_loss /= len(pretrain_loader)\n",
    "    trainloss.append(epoch_loss)\n",
    "    # print(f'Epoch {epoch+1}/{epochs}, train loss: {epoch_loss:.4f}')\n",
    "    if epoch_loss < val_loss:\n",
    "        val_loss = epoch_loss\n",
    "        torch.save(model.state_dict(), '/home/rishabh.mondal/Brick-Kilns-project/albk_rishabh/Saved_model/model.pt')\n",
    "    model.eval()\n",
    "    epoch_loss = 0\n",
    "    for x1, x2 in preval_loader:\n",
    "        x1, x2 = x1.to(device), x2.to(device)\n",
    "        h, z = model(x1, x2)\n",
    "        loss = NTXent(z, x1.size(0))\n",
    "        epoch_loss += loss.item()\n",
    "    epoch_loss /= len(preval_loader)\n",
    "    valloss.append(epoch_loss)\n",
    "    # print(f'Epoch {epoch+1}/{epochs}, val loss: {epoch_loss:.4f}')    \n",
    "    if (epoch+1) % 10 == 0:\n",
    "        print(f'Train loss after {epoch+1} epochs: {trainloss[-1]:.4f}')\n",
    "        print(f'Val loss after {epoch+1} epochs: {valloss[-1]:.4f}')\n"
   ]
  },
  {
   "cell_type": "code",
   "execution_count": 17,
   "metadata": {},
   "outputs": [
    {
     "data": {
      "text/plain": [
       "<matplotlib.legend.Legend at 0x7f999154fed0>"
      ]
     },
     "execution_count": 17,
     "metadata": {},
     "output_type": "execute_result"
    },
    {
     "data": {
      "image/png": "[encoded data removed]",
      "text/plain": [
       "<Figure size 640x480 with 1 Axes>"
      ]
     },
     "metadata": {},
     "output_type": "display_data"
    }
   ],
   "source": [
    "eps = range(1, len(trainloss) + 1)\n",
    "plt.plot(eps, trainloss, 'b', label='Training Accuracy')\n",
    "plt.plot(eps, valloss, 'r', label='Validation Accuracy')\n",
    "plt.title('Training and Validation Loss')\n",
    "plt.legend()"
   ]
  },
  {
   "cell_type": "markdown",
   "metadata": {},
   "source": [
    "### Downstream Task : Classification 1 vs rest"
   ]
  },
  {
   "cell_type": "code",
   "execution_count": 18,
   "metadata": {},
   "outputs": [],
   "source": [
    "class CustomModel(nn.Module):\n",
    "    def __init__(self):\n",
    "        super(CustomModel, self).__init__()\n",
    "        proj_dim = 512\n",
    "        hidden_dim = 256\n",
    "        self.encoder = SimCLR(out_dim=proj_dim)\n",
    "        path=torch.load('/home/rishabh.mondal/Brick-Kilns-project/albk_rishabh/Saved_model/model.pt')\n",
    "        # print(\"Load checkpoint trained for %d epochs. Loss is %f.\" %(path[\"epoch\"], path[\"loss\"]))\n",
    "        self.encoder.load_state_dict(path)\n",
    "        self.fc=nn.Sequential(nn.Linear(proj_dim, hidden_dim), nn.ReLU(), nn.Linear(hidden_dim, hidden_dim), nn.ReLU(), nn.Linear(hidden_dim, 2))\n",
    "    def forward(self, x):\n",
    "        out=self.encoder.get_hidden(x)\n",
    "        out=self.fc(out)\n",
    "        return out\n"
   ]
  },
  {
   "cell_type": "code",
   "execution_count": 19,
   "metadata": {},
   "outputs": [],
   "source": [
    "train_dataset=TensorDataset(train_data,train_targets)\n",
    "train_loader=DataLoader(train_dataset, batch_size=256, shuffle=True)\n",
    "test_dataset=TensorDataset(test_data,test_targets)\n",
    "test_loader=DataLoader(test_dataset, batch_size=256, shuffle=False)"
   ]
  },
  {
   "cell_type": "code",
   "execution_count": 20,
   "metadata": {},
   "outputs": [
    {
     "name": "stdout",
     "output_type": "stream",
     "text": [
      "Epoch 1/100, Train Accuracy: 89.36%, Train Loss: 11.7233\n",
      "Epoch 1/100, Validation Accuracy: 90.13%\n",
      "Epoch 2/100, Train Accuracy: 90.17%, Train Loss: 10.0194\n",
      "Epoch 2/100, Validation Accuracy: 90.36%\n",
      "Epoch 3/100, Train Accuracy: 90.33%, Train Loss: 9.7790\n",
      "Epoch 3/100, Validation Accuracy: 90.34%\n",
      "Epoch 4/100, Train Accuracy: 90.36%, Train Loss: 9.6302\n",
      "Epoch 4/100, Validation Accuracy: 90.44%\n",
      "Epoch 5/100, Train Accuracy: 90.16%, Train Loss: 9.6494\n",
      "Epoch 5/100, Validation Accuracy: 90.28%\n",
      "Epoch 6/100, Train Accuracy: 90.40%, Train Loss: 9.5823\n",
      "Epoch 6/100, Validation Accuracy: 90.44%\n",
      "Epoch 7/100, Train Accuracy: 90.57%, Train Loss: 9.7200\n",
      "Epoch 7/100, Validation Accuracy: 90.46%\n",
      "Epoch 8/100, Train Accuracy: 90.49%, Train Loss: 9.3444\n",
      "Epoch 8/100, Validation Accuracy: 90.36%\n",
      "Epoch 9/100, Train Accuracy: 90.67%, Train Loss: 9.3254\n",
      "Epoch 9/100, Validation Accuracy: 90.50%\n",
      "Epoch 10/100, Train Accuracy: 90.80%, Train Loss: 9.1564\n",
      "Epoch 10/100, Validation Accuracy: 90.39%\n",
      "Epoch 11/100, Train Accuracy: 90.83%, Train Loss: 9.0816\n",
      "Epoch 11/100, Validation Accuracy: 90.29%\n",
      "Epoch 12/100, Train Accuracy: 90.89%, Train Loss: 9.0415\n",
      "Epoch 12/100, Validation Accuracy: 90.37%\n",
      "Epoch 13/100, Train Accuracy: 90.89%, Train Loss: 8.9036\n",
      "Epoch 13/100, Validation Accuracy: 90.39%\n",
      "Epoch 14/100, Train Accuracy: 91.04%, Train Loss: 8.6902\n",
      "Epoch 14/100, Validation Accuracy: 90.36%\n",
      "Epoch 15/100, Train Accuracy: 91.16%, Train Loss: 8.5469\n",
      "Epoch 15/100, Validation Accuracy: 90.33%\n",
      "Epoch 16/100, Train Accuracy: 91.37%, Train Loss: 8.5675\n",
      "Epoch 16/100, Validation Accuracy: 89.72%\n",
      "Epoch 17/100, Train Accuracy: 91.46%, Train Loss: 8.6344\n",
      "Epoch 17/100, Validation Accuracy: 89.83%\n",
      "Epoch 18/100, Train Accuracy: 91.35%, Train Loss: 8.3347\n",
      "Epoch 18/100, Validation Accuracy: 90.23%\n",
      "Epoch 19/100, Train Accuracy: 91.69%, Train Loss: 8.1856\n",
      "Epoch 19/100, Validation Accuracy: 90.08%\n",
      "Epoch 20/100, Train Accuracy: 91.77%, Train Loss: 8.1544\n",
      "Epoch 20/100, Validation Accuracy: 90.22%\n",
      "Epoch 21/100, Train Accuracy: 92.04%, Train Loss: 7.9118\n",
      "Epoch 21/100, Validation Accuracy: 89.64%\n",
      "Epoch 22/100, Train Accuracy: 91.80%, Train Loss: 7.7310\n",
      "Epoch 22/100, Validation Accuracy: 90.18%\n",
      "Epoch 23/100, Train Accuracy: 92.34%, Train Loss: 7.6142\n",
      "Epoch 23/100, Validation Accuracy: 89.98%\n",
      "Epoch 24/100, Train Accuracy: 92.44%, Train Loss: 7.4568\n",
      "Epoch 24/100, Validation Accuracy: 89.08%\n",
      "Epoch 25/100, Train Accuracy: 92.57%, Train Loss: 7.2124\n",
      "Epoch 25/100, Validation Accuracy: 89.81%\n",
      "Epoch 26/100, Train Accuracy: 92.67%, Train Loss: 7.0590\n",
      "Epoch 26/100, Validation Accuracy: 89.39%\n",
      "Epoch 27/100, Train Accuracy: 92.69%, Train Loss: 7.1640\n",
      "Epoch 27/100, Validation Accuracy: 88.96%\n",
      "Epoch 28/100, Train Accuracy: 93.01%, Train Loss: 6.9882\n",
      "Epoch 28/100, Validation Accuracy: 89.75%\n",
      "Epoch 29/100, Train Accuracy: 92.95%, Train Loss: 6.7698\n",
      "Epoch 29/100, Validation Accuracy: 89.54%\n",
      "Epoch 30/100, Train Accuracy: 93.59%, Train Loss: 6.3745\n",
      "Epoch 30/100, Validation Accuracy: 88.90%\n",
      "Epoch 31/100, Train Accuracy: 93.62%, Train Loss: 6.2639\n",
      "Epoch 31/100, Validation Accuracy: 88.75%\n",
      "Epoch 32/100, Train Accuracy: 93.48%, Train Loss: 6.5101\n",
      "Epoch 32/100, Validation Accuracy: 89.08%\n",
      "Epoch 33/100, Train Accuracy: 93.92%, Train Loss: 5.9643\n",
      "Epoch 33/100, Validation Accuracy: 88.89%\n",
      "Epoch 34/100, Train Accuracy: 94.13%, Train Loss: 5.6395\n",
      "Epoch 34/100, Validation Accuracy: 89.47%\n",
      "Epoch 35/100, Train Accuracy: 94.52%, Train Loss: 5.1814\n",
      "Epoch 35/100, Validation Accuracy: 88.76%\n",
      "Epoch 36/100, Train Accuracy: 94.81%, Train Loss: 5.1311\n",
      "Epoch 36/100, Validation Accuracy: 88.87%\n",
      "Epoch 37/100, Train Accuracy: 94.53%, Train Loss: 5.3391\n",
      "Epoch 37/100, Validation Accuracy: 89.12%\n",
      "Epoch 38/100, Train Accuracy: 95.13%, Train Loss: 4.9199\n",
      "Epoch 38/100, Validation Accuracy: 88.78%\n",
      "Epoch 39/100, Train Accuracy: 95.32%, Train Loss: 4.6552\n",
      "Epoch 39/100, Validation Accuracy: 88.56%\n",
      "Epoch 40/100, Train Accuracy: 95.73%, Train Loss: 4.5258\n",
      "Epoch 40/100, Validation Accuracy: 88.50%\n",
      "Epoch 41/100, Train Accuracy: 95.47%, Train Loss: 4.4324\n",
      "Epoch 41/100, Validation Accuracy: 88.97%\n",
      "Epoch 42/100, Train Accuracy: 96.07%, Train Loss: 4.1636\n",
      "Epoch 42/100, Validation Accuracy: 87.84%\n",
      "Epoch 43/100, Train Accuracy: 95.52%, Train Loss: 4.3467\n",
      "Epoch 43/100, Validation Accuracy: 87.23%\n",
      "Epoch 44/100, Train Accuracy: 95.61%, Train Loss: 4.2464\n",
      "Epoch 44/100, Validation Accuracy: 87.24%\n",
      "Epoch 45/100, Train Accuracy: 95.75%, Train Loss: 4.1698\n",
      "Epoch 45/100, Validation Accuracy: 89.10%\n",
      "Epoch 46/100, Train Accuracy: 95.66%, Train Loss: 4.2315\n",
      "Epoch 46/100, Validation Accuracy: 87.81%\n",
      "Epoch 47/100, Train Accuracy: 96.51%, Train Loss: 3.4953\n",
      "Epoch 47/100, Validation Accuracy: 87.89%\n",
      "Epoch 48/100, Train Accuracy: 96.88%, Train Loss: 3.2388\n",
      "Epoch 48/100, Validation Accuracy: 88.10%\n",
      "Epoch 49/100, Train Accuracy: 97.23%, Train Loss: 2.8725\n",
      "Epoch 49/100, Validation Accuracy: 88.31%\n",
      "Epoch 50/100, Train Accuracy: 97.28%, Train Loss: 2.8108\n",
      "Epoch 50/100, Validation Accuracy: 88.14%\n",
      "Epoch 51/100, Train Accuracy: 97.42%, Train Loss: 2.8014\n",
      "Epoch 51/100, Validation Accuracy: 88.09%\n",
      "Epoch 52/100, Train Accuracy: 97.36%, Train Loss: 2.8225\n",
      "Epoch 52/100, Validation Accuracy: 87.42%\n",
      "Epoch 53/100, Train Accuracy: 97.22%, Train Loss: 2.7594\n",
      "Epoch 53/100, Validation Accuracy: 87.34%\n",
      "Epoch 54/100, Train Accuracy: 97.52%, Train Loss: 2.3932\n",
      "Epoch 54/100, Validation Accuracy: 87.92%\n",
      "Epoch 55/100, Train Accuracy: 98.11%, Train Loss: 2.0259\n",
      "Epoch 55/100, Validation Accuracy: 87.99%\n",
      "Epoch 56/100, Train Accuracy: 98.20%, Train Loss: 1.9933\n",
      "Epoch 56/100, Validation Accuracy: 88.27%\n",
      "Epoch 57/100, Train Accuracy: 98.22%, Train Loss: 1.9243\n",
      "Epoch 57/100, Validation Accuracy: 88.36%\n",
      "Epoch 58/100, Train Accuracy: 97.95%, Train Loss: 2.2575\n",
      "Epoch 58/100, Validation Accuracy: 87.61%\n",
      "Epoch 59/100, Train Accuracy: 97.81%, Train Loss: 2.1912\n",
      "Epoch 59/100, Validation Accuracy: 88.19%\n",
      "Epoch 60/100, Train Accuracy: 98.46%, Train Loss: 1.8499\n",
      "Epoch 60/100, Validation Accuracy: 87.77%\n",
      "Epoch 61/100, Train Accuracy: 97.76%, Train Loss: 2.2769\n",
      "Epoch 61/100, Validation Accuracy: 86.99%\n",
      "Epoch 62/100, Train Accuracy: 97.74%, Train Loss: 2.3953\n",
      "Epoch 62/100, Validation Accuracy: 88.06%\n",
      "Epoch 63/100, Train Accuracy: 97.95%, Train Loss: 2.2595\n",
      "Epoch 63/100, Validation Accuracy: 87.08%\n",
      "Epoch 64/100, Train Accuracy: 98.17%, Train Loss: 2.0786\n",
      "Epoch 64/100, Validation Accuracy: 87.15%\n",
      "Epoch 65/100, Train Accuracy: 98.33%, Train Loss: 2.0235\n",
      "Epoch 65/100, Validation Accuracy: 86.84%\n",
      "Epoch 66/100, Train Accuracy: 97.06%, Train Loss: 2.9837\n",
      "Epoch 66/100, Validation Accuracy: 86.45%\n",
      "Epoch 67/100, Train Accuracy: 97.07%, Train Loss: 2.9289\n",
      "Epoch 67/100, Validation Accuracy: 88.39%\n",
      "Epoch 68/100, Train Accuracy: 98.46%, Train Loss: 1.7510\n",
      "Epoch 68/100, Validation Accuracy: 87.44%\n",
      "Epoch 69/100, Train Accuracy: 99.09%, Train Loss: 1.2920\n",
      "Epoch 69/100, Validation Accuracy: 87.67%\n",
      "Epoch 70/100, Train Accuracy: 99.26%, Train Loss: 1.0869\n",
      "Epoch 70/100, Validation Accuracy: 87.47%\n",
      "Epoch 71/100, Train Accuracy: 99.26%, Train Loss: 1.0781\n",
      "Epoch 71/100, Validation Accuracy: 87.78%\n",
      "Epoch 72/100, Train Accuracy: 99.09%, Train Loss: 1.1483\n",
      "Epoch 72/100, Validation Accuracy: 88.18%\n",
      "Epoch 73/100, Train Accuracy: 99.08%, Train Loss: 1.1496\n",
      "Epoch 73/100, Validation Accuracy: 87.78%\n",
      "Epoch 74/100, Train Accuracy: 99.58%, Train Loss: 0.7496\n",
      "Epoch 74/100, Validation Accuracy: 87.58%\n",
      "Epoch 75/100, Train Accuracy: 99.49%, Train Loss: 0.8316\n",
      "Epoch 75/100, Validation Accuracy: 86.94%\n",
      "Epoch 76/100, Train Accuracy: 99.23%, Train Loss: 0.9213\n",
      "Epoch 76/100, Validation Accuracy: 87.27%\n",
      "Epoch 77/100, Train Accuracy: 99.43%, Train Loss: 0.7633\n",
      "Epoch 77/100, Validation Accuracy: 87.87%\n",
      "Epoch 78/100, Train Accuracy: 99.62%, Train Loss: 0.6503\n",
      "Epoch 78/100, Validation Accuracy: 87.80%\n",
      "Epoch 79/100, Train Accuracy: 99.76%, Train Loss: 0.5102\n",
      "Epoch 79/100, Validation Accuracy: 87.76%\n",
      "Epoch 80/100, Train Accuracy: 99.77%, Train Loss: 0.4475\n",
      "Epoch 80/100, Validation Accuracy: 87.50%\n",
      "Epoch 81/100, Train Accuracy: 99.83%, Train Loss: 0.4358\n",
      "Epoch 81/100, Validation Accuracy: 87.66%\n",
      "Epoch 82/100, Train Accuracy: 99.87%, Train Loss: 0.3788\n",
      "Epoch 82/100, Validation Accuracy: 87.60%\n",
      "Epoch 83/100, Train Accuracy: 99.91%, Train Loss: 0.3281\n",
      "Epoch 83/100, Validation Accuracy: 87.42%\n",
      "Epoch 84/100, Train Accuracy: 99.87%, Train Loss: 0.3391\n",
      "Epoch 84/100, Validation Accuracy: 87.77%\n",
      "Epoch 85/100, Train Accuracy: 99.73%, Train Loss: 0.4464\n",
      "Epoch 85/100, Validation Accuracy: 87.31%\n",
      "Epoch 86/100, Train Accuracy: 99.90%, Train Loss: 0.3354\n",
      "Epoch 86/100, Validation Accuracy: 87.69%\n",
      "Epoch 87/100, Train Accuracy: 99.92%, Train Loss: 0.2689\n",
      "Epoch 87/100, Validation Accuracy: 87.37%\n",
      "Epoch 88/100, Train Accuracy: 99.95%, Train Loss: 0.2478\n",
      "Epoch 88/100, Validation Accuracy: 87.50%\n",
      "Epoch 89/100, Train Accuracy: 99.89%, Train Loss: 0.2647\n",
      "Epoch 89/100, Validation Accuracy: 87.47%\n",
      "Epoch 90/100, Train Accuracy: 99.85%, Train Loss: 0.3179\n",
      "Epoch 90/100, Validation Accuracy: 87.48%\n",
      "Epoch 91/100, Train Accuracy: 99.81%, Train Loss: 0.4254\n",
      "Epoch 91/100, Validation Accuracy: 87.20%\n",
      "Epoch 92/100, Train Accuracy: 99.55%, Train Loss: 0.7045\n",
      "Epoch 92/100, Validation Accuracy: 87.19%\n",
      "Epoch 93/100, Train Accuracy: 97.75%, Train Loss: 2.8024\n",
      "Epoch 93/100, Validation Accuracy: 86.45%\n",
      "Epoch 94/100, Train Accuracy: 96.51%, Train Loss: 3.9307\n",
      "Epoch 94/100, Validation Accuracy: 86.95%\n",
      "Epoch 95/100, Train Accuracy: 97.72%, Train Loss: 3.0259\n",
      "Epoch 95/100, Validation Accuracy: 88.26%\n",
      "Epoch 96/100, Train Accuracy: 96.20%, Train Loss: 5.1327\n",
      "Epoch 96/100, Validation Accuracy: 85.38%\n",
      "Epoch 97/100, Train Accuracy: 96.07%, Train Loss: 4.5572\n",
      "Epoch 97/100, Validation Accuracy: 87.72%\n",
      "Epoch 98/100, Train Accuracy: 97.81%, Train Loss: 2.2207\n",
      "Epoch 98/100, Validation Accuracy: 87.30%\n",
      "Epoch 99/100, Train Accuracy: 99.20%, Train Loss: 1.1130\n",
      "Epoch 99/100, Validation Accuracy: 87.89%\n",
      "Epoch 100/100, Train Accuracy: 99.30%, Train Loss: 0.9802\n",
      "Epoch 100/100, Validation Accuracy: 87.42%\n"
     ]
    }
   ],
   "source": [
    "finetune=True\n",
    "proj_dim = 512\n",
    "hidden_dim = 256\n",
    "target_acc=0.0\n",
    "model = CustomModel().to(device)\n",
    "if finetune:\n",
    "    for param in model.encoder.parameters():\n",
    "        param.requires_grad = False\n",
    "optimizer=torch.optim.Adam(list(model.encoder.f.parameters())+list(model.fc.parameters()), lr=1e-3)\n",
    "criterion = nn.CrossEntropyLoss()\n",
    "train_acc=[]\n",
    "val_acc=[]\n",
    "for epoch in range(100):\n",
    "    t_total = 0\n",
    "    t_correct = 0\n",
    "    train_loss = 0\n",
    "    for x, y in train_loader:\n",
    "        x, y = x.to(device), y.to(device)\n",
    "        h = model.encoder.get_hidden(x)\n",
    "        logits = model.fc(h)\n",
    "\n",
    "        pred = torch.argmax(logits, dim=1)\n",
    "        t_total += y.shape[0]\n",
    "        t_correct += (pred == y).sum().item()\n",
    "\n",
    "        optimizer.zero_grad()\n",
    "        loss = F.cross_entropy(logits, y)\n",
    "        loss.backward()\n",
    "        optimizer.step()\n",
    "\n",
    "        train_loss += loss.item()\n",
    "\n",
    "    train_acc.append(100.0 * t_correct / t_total)\n",
    "    print(f\"Epoch {epoch+1}/{epochs}, Train Accuracy: {train_acc[-1]:.2f}%, Train Loss: {train_loss:.4f}\")\n",
    "    correct = 0    \n",
    "    total = 0\n",
    "    model.eval()\n",
    "    with torch.no_grad():\n",
    "        for test_x, test_y in test_loader:\n",
    "            test_x, test_y = test_x.to(device), test_y.to(device) \n",
    "            h = model.encoder.get_hidden(test_x)\n",
    "            logits = model.fc(h)\n",
    "              \n",
    "            pred = torch.argmax(logits, dim=1)\n",
    "            total += test_y.shape[0]\n",
    "            correct += (pred == test_y).sum().item()\n",
    "        valid_acc = 100.0 * correct / total\n",
    "        val_acc.append(valid_acc)\n",
    "        print(f\"Epoch {epoch+1}/{epochs}, Validation Accuracy: {valid_acc:.2f}%\")\n",
    "\n",
    "    if (valid_acc>target_acc):\n",
    "        target_acc=valid_acc\n",
    "        torch.save({\"model\": model.state_dict(), \"epoch\": epoch, \"loss\": loss}, \"/home/rishabh.mondal/Brick-Kilns-project/albk_rishabh/Saved_model/fullmodel_trial.pt\")\n",
    "\n"
   ]
  },
  {
   "cell_type": "code",
   "execution_count": 21,
   "metadata": {},
   "outputs": [
    {
     "data": {
      "image/png": "[encoded data removed]",
      "text/plain": [
       "<Figure size 640x480 with 1 Axes>"
      ]
     },
     "metadata": {},
     "output_type": "display_data"
    }
   ],
   "source": [
    "eps = range(1, len(train_acc) + 1)\n",
    "plt.plot(eps, train_acc, 'b', label='Training Accuracy')\n",
    "plt.plot(eps, val_acc, 'r', label='Validation Accuracy')\n",
    "plt.title('Training and Validation Accuracy')\n",
    "plt.legend();"
   ]
  },
  {
   "cell_type": "code",
   "execution_count": 22,
   "metadata": {},
   "outputs": [],
   "source": [
    "import sklearn\n",
    "def evaluate(test_loader, model, device):\n",
    "    correct = 0    \n",
    "    total = 0\n",
    "    confusion_matrix = torch.zeros(2,2)\n",
    "    model.eval()\n",
    "    \n",
    "    #Prints confusion matrix\n",
    "    with torch.no_grad():\n",
    "        for test_x, test_y in test_loader:\n",
    "            test_x, test_y = test_x.to(device), test_y.to(device) \n",
    "            h = model.encoder.get_hidden(test_x)\n",
    "            logits = model.fc(h)\n",
    "              \n",
    "            pred = torch.argmax(logits, dim=1)\n",
    "            total += test_y.shape[0]\n",
    "            correct += (pred == test_y).sum().item()\n",
    "            for l, p in zip(test_y.view(-1), pred.view(-1)):\n",
    "                confusion_matrix[l.long(), p.long()] += 1\n",
    "                \n",
    "    total_acc = 100.0 * correct / total\n",
    "    print(confusion_matrix)\n",
    "    #calculate f1 score\n",
    "    \n",
    "    print(f\"Test Accuracy: {total_acc:.2f}%\")\n",
    "    # print(f\"F1 Score: {f1_score:.2f}%\")\n",
    "    return total_acc"
   ]
  },
  {
   "cell_type": "code",
   "execution_count": 23,
   "metadata": {},
   "outputs": [
    {
     "name": "stdout",
     "output_type": "stream",
     "text": [
      "tensor([[16964.,  1062.],\n",
      "        [ 1454.,   520.]])\n",
      "Test Accuracy: 87.42%\n"
     ]
    }
   ],
   "source": [
    "acc = evaluate(test_loader, model, device)\n"
   ]
  },
  {
   "cell_type": "code",
   "execution_count": 24,
   "metadata": {},
   "outputs": [
    {
     "name": "stdout",
     "output_type": "stream",
     "text": [
      "Precision: 0.34\n",
      "Recall: 0.19\n",
      "F1 Score: 0.24\n"
     ]
    }
   ],
   "source": [
    "import numpy as np\n",
    "\n",
    "confusion_matrix = np.array([[17209., 744.], [1661., 386.]])\n",
    "\n",
    "true_positives = confusion_matrix[1, 1]\n",
    "false_positives = confusion_matrix[0, 1]\n",
    "false_negatives = confusion_matrix[1, 0]\n",
    "\n",
    "precision = true_positives / (true_positives + false_positives)\n",
    "recall = true_positives / (true_positives + false_negatives)\n",
    "\n",
    "f1_score = 2 * (precision * recall) / (precision + recall)\n",
    "\n",
    "print(f\"Precision: {precision:.2f}\")\n",
    "print(f\"Recall: {recall:.2f}\")\n",
    "print(f\"F1 Score: {f1_score:.2f}\")\n"
   ]
  },
  {
   "cell_type": "code",
   "execution_count": null,
   "metadata": {},
   "outputs": [],
   "source": []
  },
  {
   "cell_type": "code",
   "execution_count": null,
   "metadata": {},
   "outputs": [],
   "source": []
  }
 ],
 "metadata": {
  "kernelspec": {
   "display_name": "torch_space",
   "language": "python",
   "name": "python3"
  },
  "language_info": {
   "codemirror_mode": {
    "name": "ipython",
    "version": 3
   },
   "file_extension": ".py",
   "mimetype": "text/x-python",
   "name": "python",
   "nbconvert_exporter": "python",
   "pygments_lexer": "ipython3",
   "version": "3.11.5"
  }
 },
 "nbformat": 4,
 "nbformat_minor": 2
}
