{
  "cells": [
    {
      "cell_type": "code",
      "execution_count": null,
      "metadata": {},
      "outputs": [],
      "source": [
        "import os\n",
        "\n",
        "os.environ[\"CUDA_VISIBLE_DEVICES\"] = \"3\""
      ]
    },
    {
      "cell_type": "code",
      "execution_count": 2,
      "metadata": {},
      "outputs": [
        {
          "name": "stdout",
          "output_type": "stream",
          "text": [
            "{'total_params': 4664446, 'trainable_params': 4664446, 'non_trainable_params': 0}\n",
            "{'total_params': 11440194, 'trainable_params': 11440194, 'non_trainable_params': 0}\n"
          ]
        }
      ],
      "source": [
        "from astra.torch.models import EfficientNet,ResNetClassifier, MLP, MLPClassifier, EfficientNetClassifier\n",
        "from astra.torch.utils import count_params\n",
        "print(count_params(EfficientNetClassifier()))\n",
        "print(count_params(ResNetClassifier()))"
      ]
    },
    {
      "cell_type": "code",
      "execution_count": 3,
      "metadata": {
        "id": "iXESJ2O74nhU"
      },
      "outputs": [],
      "source": [
        "import torch\n",
        "import torchvision\n",
        "import torchvision.transforms as transforms\n",
        "import matplotlib.pyplot as plt\n",
        "import numpy as np\n",
        "import torch.nn.functional as F\n",
        "from torch.utils.data import random_split\n",
        "from torchvision.utils import make_grid\n",
        "import torch.nn as nn\n",
        "import copy\n",
        "import time\n",
        "import os\n",
        "import argparse\n",
        "from torch.utils.data import Subset\n",
        "import csv\n",
        "device = torch.device('cuda')\n",
        "from ResNet import *\n",
        "from sklearn.metrics import confusion_matrix,f1_score,accuracy_score,precision_score,recall_score\n",
        "from sklearn.metrics import ConfusionMatrixDisplay"
      ]
    },
    {
      "cell_type": "markdown",
      "metadata": {
        "id": "sLMCEfSo2-Ta"
      },
      "source": [
        "### transforms for downstream tasks"
      ]
    },
    {
      "cell_type": "code",
      "execution_count": 4,
      "metadata": {
        "id": "Y-XzUQ9KouOQ"
      },
      "outputs": [],
      "source": [
        "transform_test = transforms.Compose([\n",
        "        transforms.Resize(224),\n",
        "        # transforms.ToTensor(),\n",
        "        transforms.Normalize((0.4914, 0.4822, 0.4465), (0.2023, 0.1994, 0.2010))\n",
        "    ])\n",
        "\n",
        "transform_eval = transforms.Compose([\n",
        "        transforms.RandomResizedCrop((224,224), scale=(0.08, 1.0), ratio=(0.75, 1.3333333333333333)),\n",
        "        transforms.RandomHorizontalFlip(p=0.5),\n",
        "        transforms.Resize(224),\n",
        "        # transforms.ToTensor(),\n",
        "        transforms.Normalize((0.4914, 0.4822, 0.4465), (0.2023, 0.1994, 0.2010))\n",
        "    ])\n"
      ]
    },
    {
      "cell_type": "code",
      "execution_count": 5,
      "metadata": {},
      "outputs": [
        {
          "name": "stdout",
          "output_type": "stream",
          "text": [
            "torch.Size([10025, 3, 224, 224])\n",
            "torch.Size([10025])\n",
            "torch.Size([25500, 3, 224, 224])\n",
            "torch.Size([25500])\n"
          ]
        }
      ],
      "source": [
        "loaded_data = torch.load(\"/home/rishabh.mondal/Brick-Kilns-project/albk_rishabh/tensor_data/test_data.pt\")\n",
        "loaded_data1 = torch.load(\"/home/rishabh.mondal/Brick-Kilns-project/albk_rishabh/tensor_data/data.pt\")\n",
        "images= loaded_data1['images']\n",
        "labels = loaded_data1['labels']\n",
        "images = images / 255\n",
        "images = (images - images.mean(dim=(0, 2, 3), keepdim=True)) / images.std(dim=(0, 2, 3), keepdim=True)\n",
        "images1 = loaded_data['images']\n",
        "labels1 = loaded_data['labels']\n",
        "images1 = images1 / 255\n",
        "images1 = (images1 - images1.mean(dim=(0, 2, 3), keepdim=True)) / images1.std(dim=(0, 2, 3), keepdim=True)\n",
        "print(images1.shape)\n",
        "print(labels1.shape)\n",
        "print(images.shape)\n",
        "print(labels.shape)\n",
        "train_images = images[:225]\n",
        "train_labels = labels[:225]\n",
        "test_images = images1\n",
        "test_labels = labels1"
      ]
    },
    {
      "cell_type": "code",
      "execution_count": 6,
      "metadata": {},
      "outputs": [
        {
          "name": "stdout",
          "output_type": "stream",
          "text": [
            "Number of train labels with value 1: tensor(14)\n",
            "Number of test labels with value 1: tensor(1042)\n"
          ]
        },
        {
          "name": "stderr",
          "output_type": "stream",
          "text": [
            "/home/rishabh.mondal/miniconda3/envs/torch_space/lib/python3.11/site-packages/torchvision/transforms/functional.py:1603: UserWarning: The default value of the antialias parameter of all the resizing transforms (Resize(), RandomResizedCrop(), etc.) will change from None to True in v0.17, in order to be consistent across the PIL and Tensor backends. To suppress this warning, directly pass antialias=True (recommended, future default), antialias=None (current default, which means False for Tensors and True for PIL), or antialias=False (only works on Tensors - PIL will still use antialiasing). This also applies if you are using the inference transforms from the models weights: update the call to weights.transforms(antialias=True).\n",
            "  warnings.warn(\n"
          ]
        }
      ],
      "source": [
        "train_labels_count = (train_labels == 1).sum()\n",
        "test_labels_count = (test_labels == 1).sum()\n",
        "\n",
        "print(\"Number of train labels with value 1:\", train_labels_count)\n",
        "print(\"Number of test labels with value 1:\", test_labels_count)\n",
        "train_images=transform_eval(train_images)\n",
        "test_images=transform_test(test_images)"
      ]
    },
    {
      "cell_type": "markdown",
      "metadata": {},
      "source": [
        "### Data preporcessing for how much percentage of the data is used for finetune"
      ]
    },
    {
      "cell_type": "code",
      "execution_count": 7,
      "metadata": {},
      "outputs": [
        {
          "name": "stdout",
          "output_type": "stream",
          "text": [
            "torch.Size([225, 3, 224, 224])\n",
            "torch.Size([10025, 3, 224, 224])\n"
          ]
        }
      ],
      "source": [
        "print(train_images.shape)\n",
        "print(test_images.shape)\n",
        "train_set=torch.utils.data.TensorDataset(train_images,train_labels)\n",
        "test_set=torch.utils.data.TensorDataset(test_images,test_labels)\n",
        "train_loader=torch.utils.data.DataLoader(train_set,batch_size=512,shuffle=True,num_workers=8)\n",
        "test_loader=torch.utils.data.DataLoader(test_set,batch_size=512,shuffle=False,num_workers=8)"
      ]
    },
    {
      "cell_type": "code",
      "execution_count": 8,
      "metadata": {
        "id": "siwPNrNjMLEP"
      },
      "outputs": [],
      "source": [
        "class Identity(nn.Module):\n",
        "    def __init__(self):\n",
        "        super(Identity, self).__init__()\n",
        "\n",
        "    def forward(self, x):\n",
        "        return x\n",
        "class SimCLR_model(nn.Module):\n",
        "    def __init__(self, base_encoder, projection_dim, n_features):\n",
        "        super(SimCLR_model, self).__init__()\n",
        "\n",
        "        self.base_encoder = base_encoder\n",
        "        self.n_features = n_features\n",
        "        self.base_encoder.fc=nn.Linear(n_features, n_features)\n",
        "\n",
        "        self.base_encoder.linear = Identity()\n",
        "        self.projectionHead = nn.Sequential(\n",
        "            nn.Linear(self.n_features, self.n_features, bias=False),\n",
        "            nn.BatchNorm1d(self.n_features),\n",
        "            nn.ReLU(), #non-linearity\n",
        "            nn.Linear(self.n_features, projection_dim, bias=False),\n",
        "            nn.BatchNorm1d(projection_dim),\n",
        "        )\n",
        "\n",
        "    def forward(self, x_i, x_j):\n",
        "        h_i = self.base_encoder(x_i)\n",
        "        h_j = self.base_encoder(x_j)\n",
        "        \n",
        "        z_i = self.projectionHead(h_i)\n",
        "        z_j = self.projectionHead(h_j)\n",
        "        \n",
        "        return h_i, h_j, z_i, z_j"
      ]
    },
    {
      "cell_type": "code",
      "execution_count": 9,
      "metadata": {
        "id": "mgEyTG9iOKko"
      },
      "outputs": [
        {
          "name": "stdout",
          "output_type": "stream",
          "text": [
            "Parameter containing:\n",
            "tensor([[ 0.0170, -0.0209,  0.0127,  ..., -0.0056, -0.0187,  0.0213],\n",
            "        [-0.0151, -0.0046, -0.0063,  ..., -0.0015,  0.0048,  0.0113],\n",
            "        [-0.0194,  0.0042, -0.0198,  ...,  0.0078,  0.0213, -0.0166],\n",
            "        ...,\n",
            "        [-0.0014,  0.0164,  0.0119,  ..., -0.0190, -0.0065,  0.0109],\n",
            "        [-0.0159,  0.0203, -0.0091,  ...,  0.0113, -0.0147, -0.0192],\n",
            "        [ 0.0039, -0.0093,  0.0167,  ..., -0.0040,  0.0006, -0.0119]],\n",
            "       device='cuda:0', requires_grad=True)\n"
          ]
        },
        {
          "data": {
            "text/plain": [
              "500"
            ]
          },
          "execution_count": 9,
          "metadata": {},
          "output_type": "execute_result"
        }
      ],
      "source": [
        "base_encoder = ResNet50()\n",
        "projection_dim=224\n",
        "n_features= base_encoder.fc.in_features\n",
        "net= SimCLR_model(base_encoder, projection_dim, n_features)\n",
        "net= net.to(device)\n",
        "# net\n",
        "print(base_encoder.fc.weight) #weights of the linear layer before loading the model with SimCLR\n",
        "\n",
        "path_paramsend = \"/home/rishabh.mondal/Brick-Kilns-project/albk_rishabh/Saved_model/paramsend_bs_restart_r_bk_1.pt\"\n",
        "checkpoint = torch.load(path_paramsend, map_location=torch.device('cpu'))\n",
        "loss= checkpoint['loss']\n",
        "epoch = checkpoint['epoch']\n",
        "start_epoch=0\n",
        "net.load_state_dict(checkpoint['net'])\n",
        "epoch"
      ]
    },
    {
      "cell_type": "code",
      "execution_count": 10,
      "metadata": {
        "id": "frbFBo78g2JK"
      },
      "outputs": [
        {
          "name": "stdout",
          "output_type": "stream",
          "text": [
            "2048\n",
            "Linear(in_features=2048, out_features=2, bias=True)\n",
            "Parameter containing:\n",
            "tensor([[-0.0091, -0.0156, -0.0191,  ..., -0.0086, -0.0174, -0.0219],\n",
            "        [-0.0064,  0.0119, -0.0144,  ..., -0.0134, -0.0201, -0.0134],\n",
            "        [-0.0087,  0.0016, -0.0122,  ...,  0.0003,  0.0143, -0.0217],\n",
            "        ...,\n",
            "        [ 0.0071, -0.0214, -0.0155,  ..., -0.0190,  0.0213,  0.0186],\n",
            "        [ 0.0068, -0.0062, -0.0091,  ..., -0.0078,  0.0128, -0.0012],\n",
            "        [-0.0111, -0.0013, -0.0044,  ...,  0.0073,  0.0183,  0.0058]],\n",
            "       device='cuda:0', requires_grad=True)\n"
          ]
        }
      ],
      "source": [
        "classes = ('positive', 'negetive')\n",
        "net_eval= base_encoder\n",
        "n_features= base_encoder.fc.in_features\n",
        "print(n_features)\n",
        "net_eval.linear=nn.Linear(n_features, len(classes)) \n",
        "print(net_eval.linear)\n",
        "optimizer= torch.optim.SGD(net_eval.parameters(), lr=0.001, momentum=0.9, weight_decay=5e-4)\n",
        "criterion = nn.CrossEntropyLoss()\n",
        "criterion = criterion.to(device)\n",
        "net_eval.to(device)\n",
        "print(net_eval.fc.weight) #weights of the linear layer after loading the model with SimCLR"
      ]
    },
    {
      "cell_type": "markdown",
      "metadata": {},
      "source": [
        "### fine-tune the downstram model  and predict on test data"
      ]
    },
    {
      "cell_type": "code",
      "execution_count": 11,
      "metadata": {},
      "outputs": [
        {
          "name": "stdout",
          "output_type": "stream",
          "text": [
            "Epoch: 0\n",
            "Train Loss: 7.485 | Train Acc: 0.000% (0/225)\n",
            "Epoch: 1\n",
            "Train Loss: 6.166 | Train Acc: 32.889% (74/225)\n",
            "Epoch: 2\n",
            "Train Loss: 3.672 | Train Acc: 93.778% (211/225)\n",
            "Epoch: 3\n",
            "Train Loss: 1.293 | Train Acc: 93.778% (211/225)\n",
            "Epoch: 4\n",
            "Train Loss: 0.707 | Train Acc: 93.778% (211/225)\n",
            "Epoch: 5\n",
            "Train Loss: 0.815 | Train Acc: 93.778% (211/225)\n",
            "Epoch: 6\n",
            "Train Loss: 0.923 | Train Acc: 93.778% (211/225)\n",
            "Epoch: 7\n",
            "Train Loss: 0.992 | Train Acc: 93.778% (211/225)\n",
            "Epoch: 8\n",
            "Train Loss: 1.027 | Train Acc: 93.778% (211/225)\n",
            "Epoch: 9\n",
            "Train Loss: 1.040 | Train Acc: 93.778% (211/225)\n",
            "Epoch: 10\n",
            "Train Loss: 1.035 | Train Acc: 93.778% (211/225)\n",
            "Epoch: 11\n",
            "Train Loss: 1.015 | Train Acc: 93.778% (211/225)\n",
            "Epoch: 12\n",
            "Train Loss: 0.981 | Train Acc: 93.778% (211/225)\n",
            "Epoch: 13\n",
            "Train Loss: 0.934 | Train Acc: 93.778% (211/225)\n",
            "Epoch: 14\n",
            "Train Loss: 0.880 | Train Acc: 93.778% (211/225)\n",
            "Epoch: 15\n",
            "Train Loss: 0.821 | Train Acc: 93.778% (211/225)\n",
            "Epoch: 16\n",
            "Train Loss: 0.759 | Train Acc: 93.778% (211/225)\n",
            "Epoch: 17\n",
            "Train Loss: 0.695 | Train Acc: 93.778% (211/225)\n",
            "Epoch: 18\n",
            "Train Loss: 0.631 | Train Acc: 93.778% (211/225)\n",
            "Epoch: 19\n",
            "Train Loss: 0.568 | Train Acc: 93.778% (211/225)\n",
            "Epoch: 20\n",
            "Train Loss: 0.507 | Train Acc: 93.778% (211/225)\n",
            "Epoch: 21\n",
            "Train Loss: 0.447 | Train Acc: 93.778% (211/225)\n",
            "Epoch: 22\n",
            "Train Loss: 0.388 | Train Acc: 93.778% (211/225)\n",
            "Epoch: 23\n",
            "Train Loss: 0.332 | Train Acc: 93.778% (211/225)\n",
            "Epoch: 24\n",
            "Train Loss: 0.279 | Train Acc: 93.778% (211/225)\n",
            "Epoch: 25\n",
            "Train Loss: 0.232 | Train Acc: 93.778% (211/225)\n",
            "Epoch: 26\n",
            "Train Loss: 0.194 | Train Acc: 93.778% (211/225)\n",
            "Epoch: 27\n",
            "Train Loss: 0.170 | Train Acc: 93.778% (211/225)\n",
            "Epoch: 28\n",
            "Train Loss: 0.166 | Train Acc: 93.778% (211/225)\n",
            "Epoch: 29\n",
            "Train Loss: 0.179 | Train Acc: 93.778% (211/225)\n",
            "Epoch: 30\n",
            "Train Loss: 0.200 | Train Acc: 93.333% (210/225)\n",
            "Epoch: 31\n",
            "Train Loss: 0.216 | Train Acc: 91.556% (206/225)\n",
            "Epoch: 32\n",
            "Train Loss: 0.217 | Train Acc: 91.556% (206/225)\n",
            "Epoch: 33\n",
            "Train Loss: 0.203 | Train Acc: 94.222% (212/225)\n",
            "Epoch: 34\n",
            "Train Loss: 0.180 | Train Acc: 96.000% (216/225)\n",
            "Epoch: 35\n",
            "Train Loss: 0.157 | Train Acc: 94.667% (213/225)\n",
            "Epoch: 36\n",
            "Train Loss: 0.142 | Train Acc: 94.222% (212/225)\n",
            "Epoch: 37\n",
            "Train Loss: 0.133 | Train Acc: 93.778% (211/225)\n",
            "Epoch: 38\n",
            "Train Loss: 0.130 | Train Acc: 93.778% (211/225)\n",
            "Epoch: 39\n",
            "Train Loss: 0.130 | Train Acc: 93.778% (211/225)\n",
            "Epoch: 40\n",
            "Train Loss: 0.129 | Train Acc: 93.778% (211/225)\n",
            "Epoch: 41\n",
            "Train Loss: 0.128 | Train Acc: 93.778% (211/225)\n",
            "Epoch: 42\n",
            "Train Loss: 0.125 | Train Acc: 93.778% (211/225)\n",
            "Epoch: 43\n",
            "Train Loss: 0.120 | Train Acc: 93.778% (211/225)\n",
            "Epoch: 44\n",
            "Train Loss: 0.114 | Train Acc: 93.778% (211/225)\n",
            "Epoch: 45\n",
            "Train Loss: 0.106 | Train Acc: 93.778% (211/225)\n",
            "Epoch: 46\n",
            "Train Loss: 0.098 | Train Acc: 93.778% (211/225)\n",
            "Epoch: 47\n",
            "Train Loss: 0.090 | Train Acc: 93.778% (211/225)\n",
            "Epoch: 48\n",
            "Train Loss: 0.083 | Train Acc: 94.667% (213/225)\n",
            "Epoch: 49\n",
            "Train Loss: 0.077 | Train Acc: 97.333% (219/225)\n",
            "Epoch: 50\n",
            "Train Loss: 0.072 | Train Acc: 97.333% (219/225)\n",
            "Epoch: 51\n",
            "Train Loss: 0.068 | Train Acc: 99.556% (224/225)\n",
            "Epoch: 52\n",
            "Train Loss: 0.064 | Train Acc: 99.556% (224/225)\n",
            "Epoch: 53\n",
            "Train Loss: 0.060 | Train Acc: 100.000% (225/225)\n",
            "Epoch: 54\n",
            "Train Loss: 0.056 | Train Acc: 100.000% (225/225)\n",
            "Epoch: 55\n",
            "Train Loss: 0.051 | Train Acc: 100.000% (225/225)\n",
            "Epoch: 56\n",
            "Train Loss: 0.045 | Train Acc: 100.000% (225/225)\n",
            "Epoch: 57\n",
            "Train Loss: 0.040 | Train Acc: 100.000% (225/225)\n",
            "Epoch: 58\n",
            "Train Loss: 0.035 | Train Acc: 100.000% (225/225)\n",
            "Epoch: 59\n",
            "Train Loss: 0.031 | Train Acc: 100.000% (225/225)\n",
            "Epoch: 60\n",
            "Train Loss: 0.027 | Train Acc: 100.000% (225/225)\n",
            "Epoch: 61\n",
            "Train Loss: 0.024 | Train Acc: 100.000% (225/225)\n",
            "Epoch: 62\n",
            "Train Loss: 0.021 | Train Acc: 100.000% (225/225)\n",
            "Epoch: 63\n",
            "Train Loss: 0.019 | Train Acc: 100.000% (225/225)\n",
            "Epoch: 64\n",
            "Train Loss: 0.016 | Train Acc: 100.000% (225/225)\n",
            "Epoch: 65\n",
            "Train Loss: 0.014 | Train Acc: 100.000% (225/225)\n",
            "Epoch: 66\n",
            "Train Loss: 0.012 | Train Acc: 100.000% (225/225)\n",
            "Epoch: 67\n",
            "Train Loss: 0.011 | Train Acc: 100.000% (225/225)\n",
            "Epoch: 68\n",
            "Train Loss: 0.009 | Train Acc: 100.000% (225/225)\n",
            "Epoch: 69\n",
            "Train Loss: 0.008 | Train Acc: 100.000% (225/225)\n",
            "Epoch: 70\n",
            "Train Loss: 0.007 | Train Acc: 100.000% (225/225)\n",
            "Epoch: 71\n",
            "Train Loss: 0.006 | Train Acc: 100.000% (225/225)\n",
            "Epoch: 72\n",
            "Train Loss: 0.005 | Train Acc: 100.000% (225/225)\n",
            "Epoch: 73\n",
            "Train Loss: 0.005 | Train Acc: 100.000% (225/225)\n",
            "Epoch: 74\n",
            "Train Loss: 0.004 | Train Acc: 100.000% (225/225)\n",
            "Epoch: 75\n",
            "Train Loss: 0.004 | Train Acc: 100.000% (225/225)\n",
            "Epoch: 76\n",
            "Train Loss: 0.003 | Train Acc: 100.000% (225/225)\n",
            "Epoch: 77\n",
            "Train Loss: 0.003 | Train Acc: 100.000% (225/225)\n",
            "Epoch: 78\n",
            "Train Loss: 0.003 | Train Acc: 100.000% (225/225)\n",
            "Epoch: 79\n",
            "Train Loss: 0.002 | Train Acc: 100.000% (225/225)\n",
            "Epoch: 80\n",
            "Train Loss: 0.002 | Train Acc: 100.000% (225/225)\n",
            "Epoch: 81\n",
            "Train Loss: 0.002 | Train Acc: 100.000% (225/225)\n",
            "Epoch: 82\n",
            "Train Loss: 0.002 | Train Acc: 100.000% (225/225)\n",
            "Epoch: 83\n",
            "Train Loss: 0.002 | Train Acc: 100.000% (225/225)\n",
            "Epoch: 84\n",
            "Train Loss: 0.002 | Train Acc: 100.000% (225/225)\n",
            "Epoch: 85\n",
            "Train Loss: 0.001 | Train Acc: 100.000% (225/225)\n",
            "Epoch: 86\n",
            "Train Loss: 0.001 | Train Acc: 100.000% (225/225)\n",
            "Epoch: 87\n",
            "Train Loss: 0.001 | Train Acc: 100.000% (225/225)\n",
            "Epoch: 88\n",
            "Train Loss: 0.001 | Train Acc: 100.000% (225/225)\n",
            "Epoch: 89\n",
            "Train Loss: 0.001 | Train Acc: 100.000% (225/225)\n",
            "Epoch: 90\n",
            "Train Loss: 0.001 | Train Acc: 100.000% (225/225)\n",
            "Epoch: 91\n",
            "Train Loss: 0.001 | Train Acc: 100.000% (225/225)\n",
            "Epoch: 92\n",
            "Train Loss: 0.001 | Train Acc: 100.000% (225/225)\n",
            "Epoch: 93\n",
            "Train Loss: 0.001 | Train Acc: 100.000% (225/225)\n",
            "Epoch: 94\n",
            "Train Loss: 0.001 | Train Acc: 100.000% (225/225)\n",
            "Epoch: 95\n",
            "Train Loss: 0.001 | Train Acc: 100.000% (225/225)\n",
            "Epoch: 96\n",
            "Train Loss: 0.001 | Train Acc: 100.000% (225/225)\n",
            "Epoch: 97\n",
            "Train Loss: 0.001 | Train Acc: 100.000% (225/225)\n",
            "Epoch: 98\n",
            "Train Loss: 0.001 | Train Acc: 100.000% (225/225)\n",
            "Epoch: 99\n",
            "Train Loss: 0.001 | Train Acc: 100.000% (225/225)\n"
          ]
        }
      ],
      "source": [
        "#train net_eval\n",
        "net_eval.train()\n",
        "for epoch in range(start_epoch, start_epoch+100):\n",
        "    print('Epoch: %d' % epoch)\n",
        "    net_eval.train()\n",
        "    train_loss = 0\n",
        "    correct = 0\n",
        "    total = 0\n",
        "    for batch_idx, (inputs, targets) in enumerate(train_loader):\n",
        "        inputs, targets = inputs.to(device), targets.to(device)\n",
        "        optimizer.zero_grad()\n",
        "        outputs = net_eval(inputs)\n",
        "        loss = criterion(outputs, targets)\n",
        "        loss.backward()\n",
        "        optimizer.step()\n",
        "        train_loss += loss.item()\n",
        "        _, predicted = outputs.max(1)\n",
        "        total += targets.size(0)\n",
        "        correct += predicted.eq(targets).sum().item()\n",
        "        \n",
        "    print('Train Loss: %.3f | Train Acc: %.3f%% (%d/%d)'\n",
        "        % (train_loss/(batch_idx+1), 100.*correct/total, correct, total))\n"
      ]
    },
    {
      "cell_type": "code",
      "execution_count": 12,
      "metadata": {},
      "outputs": [],
      "source": [
        "result_dict = {}"
      ]
    },
    {
      "cell_type": "code",
      "execution_count": 13,
      "metadata": {},
      "outputs": [],
      "source": [
        "\n",
        "def get_metrics(y_pred, y_label):\n",
        "    acc = accuracy_score(y_label, y_pred)\n",
        "    f1 = f1_score(y_label, y_pred, average='macro')\n",
        "    precision = precision_score(y_label, y_pred, average='macro')\n",
        "    recall = recall_score(y_label, y_pred, average='macro')\n",
        "    print(f\"Accuracy = {acc}\")\n",
        "    print(f\"F1 = {f1}\")\n",
        "    print(f\"Precision = {precision}\")\n",
        "    print(f\"Recall = {recall}\")\n",
        "    return acc, f1, precision, recall\n",
        "\n",
        "def prdict(net_eval, test_loader, percent, ssl, device):\n",
        "    net_eval.eval()\n",
        "    correct = 0\n",
        "    total = 0\n",
        "    y_pred = []\n",
        "    y_test = []\n",
        "    with torch.no_grad():\n",
        "        for batch_idx, (inputs, targets) in enumerate(test_loader):\n",
        "            inputs, targets = inputs.to(device), targets.to(device)\n",
        "            outputs = net_eval(inputs)\n",
        "            _, predicted = outputs.max(1)\n",
        "            total += targets.size(0)\n",
        "            correct += predicted.eq(targets).sum().item()\n",
        "            y_pred.extend(predicted.cpu().numpy())\n",
        "            y_test.extend(targets.cpu().numpy())\n",
        "    print('Test Acc: %.3f%% (%d/%d)' % (100.*correct/total, correct, total))\n",
        "    acc, f1, precision, recall = get_metrics(y_pred, y_test)\n",
        "    result_dict[f\"{percent} {ssl}\"] = {\"accuracy\": acc, \"f1\": f1, \"precision\": precision, \"recall\": recall}\n",
        "    return y_pred, y_test\n"
      ]
    },
    {
      "cell_type": "code",
      "execution_count": 14,
      "metadata": {},
      "outputs": [
        {
          "name": "stdout",
          "output_type": "stream",
          "text": [
            "Test Acc: 83.611% (8382/10025)\n",
            "Accuracy = 0.8361097256857856\n",
            "F1 = 0.49326175961322305\n",
            "Precision = 0.4936997243054168\n",
            "Recall = 0.4953925553129466\n"
          ]
        }
      ],
      "source": [
        "y_pred,ytest=prdict(net_eval, test_loader, \"1%\", \"ssl\", device,)"
      ]
    },
    {
      "cell_type": "code",
      "execution_count": 15,
      "metadata": {},
      "outputs": [],
      "source": [
        "import pandas as pd"
      ]
    },
    {
      "cell_type": "code",
      "execution_count": 16,
      "metadata": {},
      "outputs": [
        {
          "name": "stdout",
          "output_type": "stream",
          "text": [
            "{'1% ssl': {'accuracy': 0.8361097256857856, 'f1': 0.49326175961322305, 'precision': 0.4936997243054168, 'recall': 0.4953925553129466}}\n"
          ]
        }
      ],
      "source": [
        "print(result_dict)"
      ]
    },
    {
      "cell_type": "code",
      "execution_count": 25,
      "metadata": {},
      "outputs": [],
      "source": [
        "import pickle\n",
        "\n",
        "file_path = \"dictionary1%_ssl.pkl\"\n",
        "\n",
        "# Open the file in write mode\n",
        "with open(file_path, \"wb\") as file:\n",
        "    # Write the dictionary to the file\n",
        "    pickle.dump(result_dict, file)"
      ]
    },
    {
      "cell_type": "code",
      "execution_count": 26,
      "metadata": {},
      "outputs": [],
      "source": [
        "# import pickle\n",
        "\n",
        "# Load the dictionaries from the files\n",
        "with open(\"dictionary1%_ssl.pkl\", \"rb\") as file1, open(\"merged_dictionary.pkl\", \"rb\") as file2:\n",
        "    dict1 = pickle.load(file1)\n",
        "    dict2 = pickle.load(file2)\n",
        "\n",
        "# Merge the dictionaries\n",
        "merged_dict = {**dict1, **dict2}\n",
        "\n",
        "# Save the merged dictionary to a file\n",
        "with open(\"merged_dictionary.pkl\", \"wb\") as file:\n",
        "    pickle.dump(merged_dict, file)\n"
      ]
    },
    {
      "cell_type": "code",
      "execution_count": 27,
      "metadata": {},
      "outputs": [
        {
          "name": "stdout",
          "output_type": "stream",
          "text": [
            "{'1% ssl': {'accuracy': 0.8361097256857856, 'f1': 0.49326175961322305, 'precision': 0.4936997243054168, 'recall': 0.4953925553129466}, '100% No_ssl': {'accuracy': 0.8858852867830423, 'f1': 0.5883355296237898, 'precision': 0.6494528284733744, 'recall': 0.5702518598256506}, '50% No_ssl': {'accuracy': 0.8832917705735661, 'f1': 0.5748131015528688, 'precision': 0.631794956421822, 'recall': 0.5598967809316937}, '30% ssl': {'accuracy': 0.8552618453865337, 'f1': 0.6870296510455187, 'precision': 0.6617655428988737, 'recall': 0.7368364599115882}, '10% ssl': {'accuracy': 0.8633416458852868, 'f1': 0.6054464860268431, 'precision': 0.6146796079125735, 'recall': 0.5983943759838107}, '50% ssl': {'accuracy': 0.9000498753117206, 'f1': 0.6537813301348333, 'precision': 0.7290320547796593, 'recall': 0.6226951826044631}, '100% ssl': {'accuracy': 0.913217, 'f1': 0.696559, 'precision': 0.797193, 'recall': 0.654645}}\n"
          ]
        }
      ],
      "source": [
        "# import pickle\n",
        "\n",
        "# Load the merged dictionary from the file\n",
        "with open(\"merged_dictionary.pkl\", \"rb\") as file:\n",
        "    merged_dict = pickle.load(file)\n",
        "\n",
        "# Print the merged dictionary\n",
        "print(merged_dict)\n"
      ]
    },
    {
      "cell_type": "code",
      "execution_count": 28,
      "metadata": {},
      "outputs": [
        {
          "data": {
            "text/html": [
              "<div>\n",
              "<style scoped>\n",
              "    .dataframe tbody tr th:only-of-type {\n",
              "        vertical-align: middle;\n",
              "    }\n",
              "\n",
              "    .dataframe tbody tr th {\n",
              "        vertical-align: top;\n",
              "    }\n",
              "\n",
              "    .dataframe thead th {\n",
              "        text-align: right;\n",
              "    }\n",
              "</style>\n",
              "<table border=\"1\" class=\"dataframe\">\n",
              "  <thead>\n",
              "    <tr style=\"text-align: right;\">\n",
              "      <th></th>\n",
              "      <th>1% ssl</th>\n",
              "      <th>100% No_ssl</th>\n",
              "      <th>50% No_ssl</th>\n",
              "      <th>30% ssl</th>\n",
              "      <th>10% ssl</th>\n",
              "      <th>50% ssl</th>\n",
              "      <th>100% ssl</th>\n",
              "    </tr>\n",
              "  </thead>\n",
              "  <tbody>\n",
              "    <tr>\n",
              "      <th>accuracy</th>\n",
              "      <td>0.836110</td>\n",
              "      <td>0.885885</td>\n",
              "      <td>0.883292</td>\n",
              "      <td>0.855262</td>\n",
              "      <td>0.863342</td>\n",
              "      <td>0.900050</td>\n",
              "      <td>0.913217</td>\n",
              "    </tr>\n",
              "    <tr>\n",
              "      <th>f1</th>\n",
              "      <td>0.493262</td>\n",
              "      <td>0.588336</td>\n",
              "      <td>0.574813</td>\n",
              "      <td>0.687030</td>\n",
              "      <td>0.605446</td>\n",
              "      <td>0.653781</td>\n",
              "      <td>0.696559</td>\n",
              "    </tr>\n",
              "    <tr>\n",
              "      <th>precision</th>\n",
              "      <td>0.493700</td>\n",
              "      <td>0.649453</td>\n",
              "      <td>0.631795</td>\n",
              "      <td>0.661766</td>\n",
              "      <td>0.614680</td>\n",
              "      <td>0.729032</td>\n",
              "      <td>0.797193</td>\n",
              "    </tr>\n",
              "    <tr>\n",
              "      <th>recall</th>\n",
              "      <td>0.495393</td>\n",
              "      <td>0.570252</td>\n",
              "      <td>0.559897</td>\n",
              "      <td>0.736836</td>\n",
              "      <td>0.598394</td>\n",
              "      <td>0.622695</td>\n",
              "      <td>0.654645</td>\n",
              "    </tr>\n",
              "  </tbody>\n",
              "</table>\n",
              "</div>"
            ],
            "text/plain": [
              "             1% ssl  100% No_ssl  50% No_ssl   30% ssl   10% ssl   50% ssl  \\\n",
              "accuracy   0.836110     0.885885    0.883292  0.855262  0.863342  0.900050   \n",
              "f1         0.493262     0.588336    0.574813  0.687030  0.605446  0.653781   \n",
              "precision  0.493700     0.649453    0.631795  0.661766  0.614680  0.729032   \n",
              "recall     0.495393     0.570252    0.559897  0.736836  0.598394  0.622695   \n",
              "\n",
              "           100% ssl  \n",
              "accuracy   0.913217  \n",
              "f1         0.696559  \n",
              "precision  0.797193  \n",
              "recall     0.654645  "
            ]
          },
          "execution_count": 28,
          "metadata": {},
          "output_type": "execute_result"
        }
      ],
      "source": [
        "# df=pd.read_csv(\"/home/rishabh.mondal/Brick-Kilns-project/albk_rishabh/albk_v2/SSL_Experiments/patchfill_experiments/SSL_Result.csv\")\n",
        "# df\n",
        "# # resdf = pd.DataFrame(result_dict)\n",
        "resdf = pd.DataFrame(merged_dict)\n",
        "resdf\n",
        "\n"
      ]
    },
    {
      "cell_type": "code",
      "execution_count": 21,
      "metadata": {},
      "outputs": [],
      "source": [
        "#list to tensor\n",
        "y_pred = torch.tensor(y_pred)\n",
        "ytest = torch.tensor(ytest)\n",
        "def results(y_labels,y_pred,plot_confusion = False):\n",
        "    y_labels = y_labels.to(device) \n",
        "    y_pred = y_pred.to(device)\n",
        "    print(f\"Accuracy = {(y_labels == y_pred).float().mean()}\")\n",
        "    if plot_confusion:\n",
        "        cm = confusion_matrix(y_labels.cpu(), y_pred.cpu())\n",
        "        unique_labels = np.unique(y_labels.cpu())\n",
        "        cm_display = ConfusionMatrixDisplay(cm, display_labels=unique_labels).plot(values_format='d', cmap='Blues')\n",
        "        plt.show()"
      ]
    },
    {
      "cell_type": "code",
      "execution_count": 22,
      "metadata": {},
      "outputs": [
        {
          "name": "stdout",
          "output_type": "stream",
          "text": [
            "Accuracy = 0.8361096978187561\n"
          ]
        },
        {
          "data": {
            "image/png": "[encoded data removed]",
            "text/plain": [
              "<Figure size 640x480 with 2 Axes>"
            ]
          },
          "metadata": {},
          "output_type": "display_data"
        }
      ],
      "source": [
        "results(ytest,y_pred,plot_confusion = True)"
      ]
    },
    {
      "cell_type": "code",
      "execution_count": 23,
      "metadata": {},
      "outputs": [],
      "source": [
        "import pandas as pd\n",
        "\n",
        "# Assuming df is your DataFrame\n",
        "df = pd.read_csv(\"/home/rishabh.mondal/Brick-Kilns-project/albk_rishabh/albk_v2/SSL_Experiments/patchfill_experiments/SSL_Result.csv\")\n",
        "\n",
        "# Extract the '100% SSL' column and convert it to a dictionary\n",
        "ssl_dict = df.set_index('Results')['100% SSL'].to_dict()\n",
        "\n",
        "# Display the created dictionary\n",
        "ssl_dict={'100% ssl':{'accuracy': 0.913217, 'f1': 0.696559, 'precision': 0.797193, 'recall': 0.654645}}\n"
      ]
    },
    {
      "cell_type": "code",
      "execution_count": 24,
      "metadata": {},
      "outputs": [
        {
          "ename": "NameError",
          "evalue": "name 'pickle' is not defined",
          "output_type": "error",
          "traceback": [
            "\u001b[0;31m---------------------------------------------------------------------------\u001b[0m",
            "\u001b[0;31mNameError\u001b[0m                                 Traceback (most recent call last)",
            "Cell \u001b[0;32mIn[24], line 6\u001b[0m\n\u001b[1;32m      3\u001b[0m \u001b[38;5;66;03m# Open the file in write mode\u001b[39;00m\n\u001b[1;32m      4\u001b[0m \u001b[38;5;28;01mwith\u001b[39;00m \u001b[38;5;28mopen\u001b[39m(file_path, \u001b[38;5;124m\"\u001b[39m\u001b[38;5;124mwb\u001b[39m\u001b[38;5;124m\"\u001b[39m) \u001b[38;5;28;01mas\u001b[39;00m file:\n\u001b[1;32m      5\u001b[0m     \u001b[38;5;66;03m# Write the dictionary to the file\u001b[39;00m\n\u001b[0;32m----> 6\u001b[0m     \u001b[43mpickle\u001b[49m\u001b[38;5;241m.\u001b[39mdump(ssl_dict, file)\n",
            "\u001b[0;31mNameError\u001b[0m: name 'pickle' is not defined"
          ]
        }
      ],
      "source": [
        "file_path = \"dictionary2.pkl\"\n",
        "\n",
        "# Open the file in write mode\n",
        "with open(file_path, \"wb\") as file:\n",
        "    # Write the dictionary to the file\n",
        "    pickle.dump(ssl_dict, file)"
      ]
    },
    {
      "cell_type": "code",
      "execution_count": null,
      "metadata": {},
      "outputs": [],
      "source": [
        "import pickle\n",
        "\n",
        "# Load the dictionaries from the files\n",
        "with open(\"merged_dictionary.pkl\", \"rb\") as file1, open(\"dictionary2.pkl\", \"rb\") as file2:\n",
        "    dict1 = pickle.load(file1)\n",
        "    dict2 = pickle.load(file2)\n",
        "\n",
        "# Merge the dictionaries\n",
        "merged_dict = {**dict1, **dict2}\n",
        "\n",
        "# Save the merged dictionary to a file\n",
        "with open(\"merged_dictionary.pkl\", \"wb\") as file:\n",
        "    pickle.dump(merged_dict, file)"
      ]
    },
    {
      "cell_type": "code",
      "execution_count": null,
      "metadata": {},
      "outputs": [
        {
          "data": {
            "text/html": [
              "<div>\n",
              "<style scoped>\n",
              "    .dataframe tbody tr th:only-of-type {\n",
              "        vertical-align: middle;\n",
              "    }\n",
              "\n",
              "    .dataframe tbody tr th {\n",
              "        vertical-align: top;\n",
              "    }\n",
              "\n",
              "    .dataframe thead th {\n",
              "        text-align: right;\n",
              "    }\n",
              "</style>\n",
              "<table border=\"1\" class=\"dataframe\">\n",
              "  <thead>\n",
              "    <tr style=\"text-align: right;\">\n",
              "      <th></th>\n",
              "      <th>50% ssl</th>\n",
              "      <th>100% No_ssl</th>\n",
              "      <th>100% ssl</th>\n",
              "    </tr>\n",
              "  </thead>\n",
              "  <tbody>\n",
              "    <tr>\n",
              "      <th>accuracy</th>\n",
              "      <td>0.900050</td>\n",
              "      <td>0.885885</td>\n",
              "      <td>0.913217</td>\n",
              "    </tr>\n",
              "    <tr>\n",
              "      <th>f1</th>\n",
              "      <td>0.653781</td>\n",
              "      <td>0.588336</td>\n",
              "      <td>0.696559</td>\n",
              "    </tr>\n",
              "    <tr>\n",
              "      <th>precision</th>\n",
              "      <td>0.729032</td>\n",
              "      <td>0.649453</td>\n",
              "      <td>0.797193</td>\n",
              "    </tr>\n",
              "    <tr>\n",
              "      <th>recall</th>\n",
              "      <td>0.622695</td>\n",
              "      <td>0.570252</td>\n",
              "      <td>0.654645</td>\n",
              "    </tr>\n",
              "  </tbody>\n",
              "</table>\n",
              "</div>"
            ],
            "text/plain": [
              "            50% ssl  100% No_ssl  100% ssl\n",
              "accuracy   0.900050     0.885885  0.913217\n",
              "f1         0.653781     0.588336  0.696559\n",
              "precision  0.729032     0.649453  0.797193\n",
              "recall     0.622695     0.570252  0.654645"
            ]
          },
          "execution_count": 167,
          "metadata": {},
          "output_type": "execute_result"
        }
      ],
      "source": [
        "resdf = pd.DataFrame(merged_dict)\n",
        "resdf\n"
      ]
    },
    {
      "cell_type": "code",
      "execution_count": null,
      "metadata": {},
      "outputs": [],
      "source": []
    }
  ],
  "metadata": {
    "accelerator": "GPU",
    "colab": {
      "provenance": []
    },
    "gpuClass": "standard",
    "kernelspec": {
      "display_name": "Python 3",
      "name": "python3"
    },
    "language_info": {
      "codemirror_mode": {
        "name": "ipython",
        "version": 3
      },
      "file_extension": ".py",
      "mimetype": "text/x-python",
      "name": "python",
      "nbconvert_exporter": "python",
      "pygments_lexer": "ipython3",
      "version": "3.11.5"
    },
    "widgets": {
      "application/vnd.jupyter.widget-state+json": {
        "135ac4e0eaf64ddb904847480ca09580": {
          "model_module": "@jupyter-widgets/controls",
          "model_module_version": "1.5.0",
          "model_name": "DescriptionStyleModel",
          "state": {
            "_model_module": "@jupyter-widgets/controls",
            "_model_module_version": "1.5.0",
            "_model_name": "DescriptionStyleModel",
            "_view_count": null,
            "_view_module": "@jupyter-widgets/base",
            "_view_module_version": "1.2.0",
            "_view_name": "StyleView",
            "description_width": ""
          }
        },
        "4d1db6dd5e074356a8a8880ad7a70251": {
          "model_module": "@jupyter-widgets/controls",
          "model_module_version": "1.5.0",
          "model_name": "HTMLModel",
          "state": {
            "_dom_classes": [],
            "_model_module": "@jupyter-widgets/controls",
            "_model_module_version": "1.5.0",
            "_model_name": "HTMLModel",
            "_view_count": null,
            "_view_module": "@jupyter-widgets/controls",
            "_view_module_version": "1.5.0",
            "_view_name": "HTMLView",
            "description": "",
            "description_tooltip": null,
            "layout": "IPY_MODEL_a7d7f05d7cfe4be1a66ca21f27237fcc",
            "placeholder": "​",
            "style": "IPY_MODEL_135ac4e0eaf64ddb904847480ca09580",
            "value": "100%"
          }
        },
        "6bde15cb4e5843918d9eae09e2538a62": {
          "model_module": "@jupyter-widgets/controls",
          "model_module_version": "1.5.0",
          "model_name": "ProgressStyleModel",
          "state": {
            "_model_module": "@jupyter-widgets/controls",
            "_model_module_version": "1.5.0",
            "_model_name": "ProgressStyleModel",
            "_view_count": null,
            "_view_module": "@jupyter-widgets/base",
            "_view_module_version": "1.2.0",
            "_view_name": "StyleView",
            "bar_color": null,
            "description_width": ""
          }
        },
        "79fdf90d505645548201d18a86662357": {
          "model_module": "@jupyter-widgets/controls",
          "model_module_version": "1.5.0",
          "model_name": "DescriptionStyleModel",
          "state": {
            "_model_module": "@jupyter-widgets/controls",
            "_model_module_version": "1.5.0",
            "_model_name": "DescriptionStyleModel",
            "_view_count": null,
            "_view_module": "@jupyter-widgets/base",
            "_view_module_version": "1.2.0",
            "_view_name": "StyleView",
            "description_width": ""
          }
        },
        "8341064b90d84f78b37152a978462746": {
          "model_module": "@jupyter-widgets/controls",
          "model_module_version": "1.5.0",
          "model_name": "HBoxModel",
          "state": {
            "_dom_classes": [],
            "_model_module": "@jupyter-widgets/controls",
            "_model_module_version": "1.5.0",
            "_model_name": "HBoxModel",
            "_view_count": null,
            "_view_module": "@jupyter-widgets/controls",
            "_view_module_version": "1.5.0",
            "_view_name": "HBoxView",
            "box_style": "",
            "children": [
              "IPY_MODEL_4d1db6dd5e074356a8a8880ad7a70251",
              "IPY_MODEL_d1c65768583b4a46894b45623f875bf7",
              "IPY_MODEL_e727713e85a94cc180b56fd0638e47ed"
            ],
            "layout": "IPY_MODEL_8ee9f2e48341478c87553fef21bcb17c"
          }
        },
        "8ee9f2e48341478c87553fef21bcb17c": {
          "model_module": "@jupyter-widgets/base",
          "model_module_version": "1.2.0",
          "model_name": "LayoutModel",
          "state": {
            "_model_module": "@jupyter-widgets/base",
            "_model_module_version": "1.2.0",
            "_model_name": "LayoutModel",
            "_view_count": null,
            "_view_module": "@jupyter-widgets/base",
            "_view_module_version": "1.2.0",
            "_view_name": "LayoutView",
            "align_content": null,
            "align_items": null,
            "align_self": null,
            "border": null,
            "bottom": null,
            "display": null,
            "flex": null,
            "flex_flow": null,
            "grid_area": null,
            "grid_auto_columns": null,
            "grid_auto_flow": null,
            "grid_auto_rows": null,
            "grid_column": null,
            "grid_gap": null,
            "grid_row": null,
            "grid_template_areas": null,
            "grid_template_columns": null,
            "grid_template_rows": null,
            "height": null,
            "justify_content": null,
            "justify_items": null,
            "left": null,
            "margin": null,
            "max_height": null,
            "max_width": null,
            "min_height": null,
            "min_width": null,
            "object_fit": null,
            "object_position": null,
            "order": null,
            "overflow": null,
            "overflow_x": null,
            "overflow_y": null,
            "padding": null,
            "right": null,
            "top": null,
            "visibility": null,
            "width": null
          }
        },
        "a6442b6118654145b4ccb7198a443ce5": {
          "model_module": "@jupyter-widgets/base",
          "model_module_version": "1.2.0",
          "model_name": "LayoutModel",
          "state": {
            "_model_module": "@jupyter-widgets/base",
            "_model_module_version": "1.2.0",
            "_model_name": "LayoutModel",
            "_view_count": null,
            "_view_module": "@jupyter-widgets/base",
            "_view_module_version": "1.2.0",
            "_view_name": "LayoutView",
            "align_content": null,
            "align_items": null,
            "align_self": null,
            "border": null,
            "bottom": null,
            "display": null,
            "flex": null,
            "flex_flow": null,
            "grid_area": null,
            "grid_auto_columns": null,
            "grid_auto_flow": null,
            "grid_auto_rows": null,
            "grid_column": null,
            "grid_gap": null,
            "grid_row": null,
            "grid_template_areas": null,
            "grid_template_columns": null,
            "grid_template_rows": null,
            "height": null,
            "justify_content": null,
            "justify_items": null,
            "left": null,
            "margin": null,
            "max_height": null,
            "max_width": null,
            "min_height": null,
            "min_width": null,
            "object_fit": null,
            "object_position": null,
            "order": null,
            "overflow": null,
            "overflow_x": null,
            "overflow_y": null,
            "padding": null,
            "right": null,
            "top": null,
            "visibility": null,
            "width": null
          }
        },
        "a7d7f05d7cfe4be1a66ca21f27237fcc": {
          "model_module": "@jupyter-widgets/base",
          "model_module_version": "1.2.0",
          "model_name": "LayoutModel",
          "state": {
            "_model_module": "@jupyter-widgets/base",
            "_model_module_version": "1.2.0",
            "_model_name": "LayoutModel",
            "_view_count": null,
            "_view_module": "@jupyter-widgets/base",
            "_view_module_version": "1.2.0",
            "_view_name": "LayoutView",
            "align_content": null,
            "align_items": null,
            "align_self": null,
            "border": null,
            "bottom": null,
            "display": null,
            "flex": null,
            "flex_flow": null,
            "grid_area": null,
            "grid_auto_columns": null,
            "grid_auto_flow": null,
            "grid_auto_rows": null,
            "grid_column": null,
            "grid_gap": null,
            "grid_row": null,
            "grid_template_areas": null,
            "grid_template_columns": null,
            "grid_template_rows": null,
            "height": null,
            "justify_content": null,
            "justify_items": null,
            "left": null,
            "margin": null,
            "max_height": null,
            "max_width": null,
            "min_height": null,
            "min_width": null,
            "object_fit": null,
            "object_position": null,
            "order": null,
            "overflow": null,
            "overflow_x": null,
            "overflow_y": null,
            "padding": null,
            "right": null,
            "top": null,
            "visibility": null,
            "width": null
          }
        },
        "d1c65768583b4a46894b45623f875bf7": {
          "model_module": "@jupyter-widgets/controls",
          "model_module_version": "1.5.0",
          "model_name": "FloatProgressModel",
          "state": {
            "_dom_classes": [],
            "_model_module": "@jupyter-widgets/controls",
            "_model_module_version": "1.5.0",
            "_model_name": "FloatProgressModel",
            "_view_count": null,
            "_view_module": "@jupyter-widgets/controls",
            "_view_module_version": "1.5.0",
            "_view_name": "ProgressView",
            "bar_style": "success",
            "description": "",
            "description_tooltip": null,
            "layout": "IPY_MODEL_a6442b6118654145b4ccb7198a443ce5",
            "max": 170498071,
            "min": 0,
            "orientation": "horizontal",
            "style": "IPY_MODEL_6bde15cb4e5843918d9eae09e2538a62",
            "value": 170498071
          }
        },
        "e1a1727432c94edbad14465f8282b26f": {
          "model_module": "@jupyter-widgets/base",
          "model_module_version": "1.2.0",
          "model_name": "LayoutModel",
          "state": {
            "_model_module": "@jupyter-widgets/base",
            "_model_module_version": "1.2.0",
            "_model_name": "LayoutModel",
            "_view_count": null,
            "_view_module": "@jupyter-widgets/base",
            "_view_module_version": "1.2.0",
            "_view_name": "LayoutView",
            "align_content": null,
            "align_items": null,
            "align_self": null,
            "border": null,
            "bottom": null,
            "display": null,
            "flex": null,
            "flex_flow": null,
            "grid_area": null,
            "grid_auto_columns": null,
            "grid_auto_flow": null,
            "grid_auto_rows": null,
            "grid_column": null,
            "grid_gap": null,
            "grid_row": null,
            "grid_template_areas": null,
            "grid_template_columns": null,
            "grid_template_rows": null,
            "height": null,
            "justify_content": null,
            "justify_items": null,
            "left": null,
            "margin": null,
            "max_height": null,
            "max_width": null,
            "min_height": null,
            "min_width": null,
            "object_fit": null,
            "object_position": null,
            "order": null,
            "overflow": null,
            "overflow_x": null,
            "overflow_y": null,
            "padding": null,
            "right": null,
            "top": null,
            "visibility": null,
            "width": null
          }
        },
        "e727713e85a94cc180b56fd0638e47ed": {
          "model_module": "@jupyter-widgets/controls",
          "model_module_version": "1.5.0",
          "model_name": "HTMLModel",
          "state": {
            "_dom_classes": [],
            "_model_module": "@jupyter-widgets/controls",
            "_model_module_version": "1.5.0",
            "_model_name": "HTMLModel",
            "_view_count": null,
            "_view_module": "@jupyter-widgets/controls",
            "_view_module_version": "1.5.0",
            "_view_name": "HTMLView",
            "description": "",
            "description_tooltip": null,
            "layout": "IPY_MODEL_e1a1727432c94edbad14465f8282b26f",
            "placeholder": "​",
            "style": "IPY_MODEL_79fdf90d505645548201d18a86662357",
            "value": " 170498071/170498071 [00:13&lt;00:00, 14351878.49it/s]"
          }
        }
      }
    }
  },
  "nbformat": 4,
  "nbformat_minor": 0
}
